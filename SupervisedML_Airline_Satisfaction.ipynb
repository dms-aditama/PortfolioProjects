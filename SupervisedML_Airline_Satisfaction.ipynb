{
 "cells": [
  {
   "cell_type": "markdown",
   "id": "95bd183d",
   "metadata": {},
   "source": [
    "**Project Name: Predicting An Airline's Customer Satisfaction Using Supervised Machine Learning**\n",
    "\n",
    "Goals:\n",
    "\n",
    "- To discover the most important service factors that contribute to passengers' satisfaction through feature selection\n",
    "- To discover the appropriate machine learning algorithms that can best predict customer satisfaction"
   ]
  },
  {
   "cell_type": "code",
   "execution_count": 1,
   "id": "783d5e17",
   "metadata": {},
   "outputs": [],
   "source": [
    "import numpy as np\n",
    "import pandas as pd\n",
    "import seaborn as sns\n",
    "import matplotlib.pyplot as plt\n",
    "\n",
    "import warnings\n",
    "warnings.filterwarnings('ignore')"
   ]
  },
  {
   "cell_type": "markdown",
   "id": "8ceff309",
   "metadata": {},
   "source": [
    "**Loading Dataset**"
   ]
  },
  {
   "cell_type": "code",
   "execution_count": 2,
   "id": "127550d1",
   "metadata": {},
   "outputs": [],
   "source": [
    "data=pd.read_csv(\"https://github.com/dms-aditama/Datasets/blob/main/Invistico_Airline.csv?raw=true\")"
   ]
  },
  {
   "cell_type": "code",
   "execution_count": 3,
   "id": "4c8a7416",
   "metadata": {},
   "outputs": [
    {
     "data": {
      "text/html": [
       "<div>\n",
       "<style scoped>\n",
       "    .dataframe tbody tr th:only-of-type {\n",
       "        vertical-align: middle;\n",
       "    }\n",
       "\n",
       "    .dataframe tbody tr th {\n",
       "        vertical-align: top;\n",
       "    }\n",
       "\n",
       "    .dataframe thead th {\n",
       "        text-align: right;\n",
       "    }\n",
       "</style>\n",
       "<table border=\"1\" class=\"dataframe\">\n",
       "  <thead>\n",
       "    <tr style=\"text-align: right;\">\n",
       "      <th></th>\n",
       "      <th>satisfaction</th>\n",
       "      <th>Gender</th>\n",
       "      <th>Customer Type</th>\n",
       "      <th>Age</th>\n",
       "      <th>Type of Travel</th>\n",
       "      <th>Class</th>\n",
       "      <th>Flight Distance</th>\n",
       "      <th>Seat comfort</th>\n",
       "      <th>Departure/Arrival time convenient</th>\n",
       "      <th>Food and drink</th>\n",
       "      <th>Gate location</th>\n",
       "      <th>Inflight wifi service</th>\n",
       "      <th>Inflight entertainment</th>\n",
       "      <th>Online support</th>\n",
       "      <th>Ease of Online booking</th>\n",
       "      <th>On-board service</th>\n",
       "      <th>Leg room service</th>\n",
       "      <th>Baggage handling</th>\n",
       "      <th>Checkin service</th>\n",
       "      <th>Cleanliness</th>\n",
       "      <th>Online boarding</th>\n",
       "      <th>Departure Delay in Minutes</th>\n",
       "      <th>Arrival Delay in Minutes</th>\n",
       "    </tr>\n",
       "  </thead>\n",
       "  <tbody>\n",
       "    <tr>\n",
       "      <th>0</th>\n",
       "      <td>satisfied</td>\n",
       "      <td>Female</td>\n",
       "      <td>Loyal Customer</td>\n",
       "      <td>65</td>\n",
       "      <td>Personal Travel</td>\n",
       "      <td>Eco</td>\n",
       "      <td>265</td>\n",
       "      <td>0</td>\n",
       "      <td>0</td>\n",
       "      <td>0</td>\n",
       "      <td>2</td>\n",
       "      <td>2</td>\n",
       "      <td>4</td>\n",
       "      <td>2</td>\n",
       "      <td>3</td>\n",
       "      <td>3</td>\n",
       "      <td>0</td>\n",
       "      <td>3</td>\n",
       "      <td>5</td>\n",
       "      <td>3</td>\n",
       "      <td>2</td>\n",
       "      <td>0</td>\n",
       "      <td>0.0</td>\n",
       "    </tr>\n",
       "    <tr>\n",
       "      <th>1</th>\n",
       "      <td>satisfied</td>\n",
       "      <td>Male</td>\n",
       "      <td>Loyal Customer</td>\n",
       "      <td>47</td>\n",
       "      <td>Personal Travel</td>\n",
       "      <td>Business</td>\n",
       "      <td>2464</td>\n",
       "      <td>0</td>\n",
       "      <td>0</td>\n",
       "      <td>0</td>\n",
       "      <td>3</td>\n",
       "      <td>0</td>\n",
       "      <td>2</td>\n",
       "      <td>2</td>\n",
       "      <td>3</td>\n",
       "      <td>4</td>\n",
       "      <td>4</td>\n",
       "      <td>4</td>\n",
       "      <td>2</td>\n",
       "      <td>3</td>\n",
       "      <td>2</td>\n",
       "      <td>310</td>\n",
       "      <td>305.0</td>\n",
       "    </tr>\n",
       "    <tr>\n",
       "      <th>2</th>\n",
       "      <td>satisfied</td>\n",
       "      <td>Female</td>\n",
       "      <td>Loyal Customer</td>\n",
       "      <td>15</td>\n",
       "      <td>Personal Travel</td>\n",
       "      <td>Eco</td>\n",
       "      <td>2138</td>\n",
       "      <td>0</td>\n",
       "      <td>0</td>\n",
       "      <td>0</td>\n",
       "      <td>3</td>\n",
       "      <td>2</td>\n",
       "      <td>0</td>\n",
       "      <td>2</td>\n",
       "      <td>2</td>\n",
       "      <td>3</td>\n",
       "      <td>3</td>\n",
       "      <td>4</td>\n",
       "      <td>4</td>\n",
       "      <td>4</td>\n",
       "      <td>2</td>\n",
       "      <td>0</td>\n",
       "      <td>0.0</td>\n",
       "    </tr>\n",
       "    <tr>\n",
       "      <th>3</th>\n",
       "      <td>satisfied</td>\n",
       "      <td>Female</td>\n",
       "      <td>Loyal Customer</td>\n",
       "      <td>60</td>\n",
       "      <td>Personal Travel</td>\n",
       "      <td>Eco</td>\n",
       "      <td>623</td>\n",
       "      <td>0</td>\n",
       "      <td>0</td>\n",
       "      <td>0</td>\n",
       "      <td>3</td>\n",
       "      <td>3</td>\n",
       "      <td>4</td>\n",
       "      <td>3</td>\n",
       "      <td>1</td>\n",
       "      <td>1</td>\n",
       "      <td>0</td>\n",
       "      <td>1</td>\n",
       "      <td>4</td>\n",
       "      <td>1</td>\n",
       "      <td>3</td>\n",
       "      <td>0</td>\n",
       "      <td>0.0</td>\n",
       "    </tr>\n",
       "    <tr>\n",
       "      <th>4</th>\n",
       "      <td>satisfied</td>\n",
       "      <td>Female</td>\n",
       "      <td>Loyal Customer</td>\n",
       "      <td>70</td>\n",
       "      <td>Personal Travel</td>\n",
       "      <td>Eco</td>\n",
       "      <td>354</td>\n",
       "      <td>0</td>\n",
       "      <td>0</td>\n",
       "      <td>0</td>\n",
       "      <td>3</td>\n",
       "      <td>4</td>\n",
       "      <td>3</td>\n",
       "      <td>4</td>\n",
       "      <td>2</td>\n",
       "      <td>2</td>\n",
       "      <td>0</td>\n",
       "      <td>2</td>\n",
       "      <td>4</td>\n",
       "      <td>2</td>\n",
       "      <td>5</td>\n",
       "      <td>0</td>\n",
       "      <td>0.0</td>\n",
       "    </tr>\n",
       "  </tbody>\n",
       "</table>\n",
       "</div>"
      ],
      "text/plain": [
       "  satisfaction  Gender   Customer Type  Age   Type of Travel     Class  \\\n",
       "0    satisfied  Female  Loyal Customer   65  Personal Travel       Eco   \n",
       "1    satisfied    Male  Loyal Customer   47  Personal Travel  Business   \n",
       "2    satisfied  Female  Loyal Customer   15  Personal Travel       Eco   \n",
       "3    satisfied  Female  Loyal Customer   60  Personal Travel       Eco   \n",
       "4    satisfied  Female  Loyal Customer   70  Personal Travel       Eco   \n",
       "\n",
       "   Flight Distance  Seat comfort  Departure/Arrival time convenient  \\\n",
       "0              265             0                                  0   \n",
       "1             2464             0                                  0   \n",
       "2             2138             0                                  0   \n",
       "3              623             0                                  0   \n",
       "4              354             0                                  0   \n",
       "\n",
       "   Food and drink  Gate location  Inflight wifi service  \\\n",
       "0               0              2                      2   \n",
       "1               0              3                      0   \n",
       "2               0              3                      2   \n",
       "3               0              3                      3   \n",
       "4               0              3                      4   \n",
       "\n",
       "   Inflight entertainment  Online support  Ease of Online booking  \\\n",
       "0                       4               2                       3   \n",
       "1                       2               2                       3   \n",
       "2                       0               2                       2   \n",
       "3                       4               3                       1   \n",
       "4                       3               4                       2   \n",
       "\n",
       "   On-board service  Leg room service  Baggage handling  Checkin service  \\\n",
       "0                 3                 0                 3                5   \n",
       "1                 4                 4                 4                2   \n",
       "2                 3                 3                 4                4   \n",
       "3                 1                 0                 1                4   \n",
       "4                 2                 0                 2                4   \n",
       "\n",
       "   Cleanliness  Online boarding  Departure Delay in Minutes  \\\n",
       "0            3                2                           0   \n",
       "1            3                2                         310   \n",
       "2            4                2                           0   \n",
       "3            1                3                           0   \n",
       "4            2                5                           0   \n",
       "\n",
       "   Arrival Delay in Minutes  \n",
       "0                       0.0  \n",
       "1                     305.0  \n",
       "2                       0.0  \n",
       "3                       0.0  \n",
       "4                       0.0  "
      ]
     },
     "execution_count": 3,
     "metadata": {},
     "output_type": "execute_result"
    }
   ],
   "source": [
    "pd.set_option('display.max_columns', 50)\n",
    "data.head()"
   ]
  },
  {
   "cell_type": "code",
   "execution_count": 4,
   "id": "ed9efe30",
   "metadata": {},
   "outputs": [
    {
     "data": {
      "text/plain": [
       "(129880, 23)"
      ]
     },
     "execution_count": 4,
     "metadata": {},
     "output_type": "execute_result"
    }
   ],
   "source": [
    "data.shape"
   ]
  },
  {
   "cell_type": "code",
   "execution_count": 5,
   "id": "c1ffda9c",
   "metadata": {},
   "outputs": [
    {
     "name": "stdout",
     "output_type": "stream",
     "text": [
      "<class 'pandas.core.frame.DataFrame'>\n",
      "RangeIndex: 129880 entries, 0 to 129879\n",
      "Data columns (total 23 columns):\n",
      " #   Column                             Non-Null Count   Dtype  \n",
      "---  ------                             --------------   -----  \n",
      " 0   satisfaction                       129880 non-null  object \n",
      " 1   Gender                             129880 non-null  object \n",
      " 2   Customer Type                      129880 non-null  object \n",
      " 3   Age                                129880 non-null  int64  \n",
      " 4   Type of Travel                     129880 non-null  object \n",
      " 5   Class                              129880 non-null  object \n",
      " 6   Flight Distance                    129880 non-null  int64  \n",
      " 7   Seat comfort                       129880 non-null  int64  \n",
      " 8   Departure/Arrival time convenient  129880 non-null  int64  \n",
      " 9   Food and drink                     129880 non-null  int64  \n",
      " 10  Gate location                      129880 non-null  int64  \n",
      " 11  Inflight wifi service              129880 non-null  int64  \n",
      " 12  Inflight entertainment             129880 non-null  int64  \n",
      " 13  Online support                     129880 non-null  int64  \n",
      " 14  Ease of Online booking             129880 non-null  int64  \n",
      " 15  On-board service                   129880 non-null  int64  \n",
      " 16  Leg room service                   129880 non-null  int64  \n",
      " 17  Baggage handling                   129880 non-null  int64  \n",
      " 18  Checkin service                    129880 non-null  int64  \n",
      " 19  Cleanliness                        129880 non-null  int64  \n",
      " 20  Online boarding                    129880 non-null  int64  \n",
      " 21  Departure Delay in Minutes         129880 non-null  int64  \n",
      " 22  Arrival Delay in Minutes           129487 non-null  float64\n",
      "dtypes: float64(1), int64(17), object(5)\n",
      "memory usage: 22.8+ MB\n"
     ]
    }
   ],
   "source": [
    "data.info()"
   ]
  },
  {
   "cell_type": "markdown",
   "id": "82720748",
   "metadata": {},
   "source": [
    "**Data Cleaning**"
   ]
  },
  {
   "cell_type": "code",
   "execution_count": 6,
   "id": "42a64081",
   "metadata": {},
   "outputs": [
    {
     "data": {
      "text/html": [
       "<div>\n",
       "<style scoped>\n",
       "    .dataframe tbody tr th:only-of-type {\n",
       "        vertical-align: middle;\n",
       "    }\n",
       "\n",
       "    .dataframe tbody tr th {\n",
       "        vertical-align: top;\n",
       "    }\n",
       "\n",
       "    .dataframe thead th {\n",
       "        text-align: right;\n",
       "    }\n",
       "</style>\n",
       "<table border=\"1\" class=\"dataframe\">\n",
       "  <thead>\n",
       "    <tr style=\"text-align: right;\">\n",
       "      <th></th>\n",
       "      <th>Satisfaction</th>\n",
       "      <th>Gender</th>\n",
       "      <th>Customer type</th>\n",
       "      <th>Age</th>\n",
       "      <th>Type of travel</th>\n",
       "      <th>Class</th>\n",
       "      <th>Flight distance</th>\n",
       "      <th>Seat comfort</th>\n",
       "      <th>Time convenience</th>\n",
       "      <th>Food and drink</th>\n",
       "      <th>Gate location</th>\n",
       "      <th>Inflight wifi</th>\n",
       "      <th>Inflight entertainment</th>\n",
       "      <th>Online support</th>\n",
       "      <th>Ease of online booking</th>\n",
       "      <th>On-board service</th>\n",
       "      <th>Legroom service</th>\n",
       "      <th>Baggage handling</th>\n",
       "      <th>Check-in service</th>\n",
       "      <th>Cleanliness</th>\n",
       "      <th>Online boarding</th>\n",
       "      <th>Departure delay</th>\n",
       "      <th>Arrival delay</th>\n",
       "    </tr>\n",
       "  </thead>\n",
       "  <tbody>\n",
       "    <tr>\n",
       "      <th>0</th>\n",
       "      <td>satisfied</td>\n",
       "      <td>Female</td>\n",
       "      <td>Loyal Customer</td>\n",
       "      <td>65</td>\n",
       "      <td>Personal Travel</td>\n",
       "      <td>Eco</td>\n",
       "      <td>265</td>\n",
       "      <td>0</td>\n",
       "      <td>0</td>\n",
       "      <td>0</td>\n",
       "      <td>2</td>\n",
       "      <td>2</td>\n",
       "      <td>4</td>\n",
       "      <td>2</td>\n",
       "      <td>3</td>\n",
       "      <td>3</td>\n",
       "      <td>0</td>\n",
       "      <td>3</td>\n",
       "      <td>5</td>\n",
       "      <td>3</td>\n",
       "      <td>2</td>\n",
       "      <td>0</td>\n",
       "      <td>0.0</td>\n",
       "    </tr>\n",
       "    <tr>\n",
       "      <th>1</th>\n",
       "      <td>satisfied</td>\n",
       "      <td>Male</td>\n",
       "      <td>Loyal Customer</td>\n",
       "      <td>47</td>\n",
       "      <td>Personal Travel</td>\n",
       "      <td>Business</td>\n",
       "      <td>2464</td>\n",
       "      <td>0</td>\n",
       "      <td>0</td>\n",
       "      <td>0</td>\n",
       "      <td>3</td>\n",
       "      <td>0</td>\n",
       "      <td>2</td>\n",
       "      <td>2</td>\n",
       "      <td>3</td>\n",
       "      <td>4</td>\n",
       "      <td>4</td>\n",
       "      <td>4</td>\n",
       "      <td>2</td>\n",
       "      <td>3</td>\n",
       "      <td>2</td>\n",
       "      <td>310</td>\n",
       "      <td>305.0</td>\n",
       "    </tr>\n",
       "    <tr>\n",
       "      <th>2</th>\n",
       "      <td>satisfied</td>\n",
       "      <td>Female</td>\n",
       "      <td>Loyal Customer</td>\n",
       "      <td>15</td>\n",
       "      <td>Personal Travel</td>\n",
       "      <td>Eco</td>\n",
       "      <td>2138</td>\n",
       "      <td>0</td>\n",
       "      <td>0</td>\n",
       "      <td>0</td>\n",
       "      <td>3</td>\n",
       "      <td>2</td>\n",
       "      <td>0</td>\n",
       "      <td>2</td>\n",
       "      <td>2</td>\n",
       "      <td>3</td>\n",
       "      <td>3</td>\n",
       "      <td>4</td>\n",
       "      <td>4</td>\n",
       "      <td>4</td>\n",
       "      <td>2</td>\n",
       "      <td>0</td>\n",
       "      <td>0.0</td>\n",
       "    </tr>\n",
       "    <tr>\n",
       "      <th>3</th>\n",
       "      <td>satisfied</td>\n",
       "      <td>Female</td>\n",
       "      <td>Loyal Customer</td>\n",
       "      <td>60</td>\n",
       "      <td>Personal Travel</td>\n",
       "      <td>Eco</td>\n",
       "      <td>623</td>\n",
       "      <td>0</td>\n",
       "      <td>0</td>\n",
       "      <td>0</td>\n",
       "      <td>3</td>\n",
       "      <td>3</td>\n",
       "      <td>4</td>\n",
       "      <td>3</td>\n",
       "      <td>1</td>\n",
       "      <td>1</td>\n",
       "      <td>0</td>\n",
       "      <td>1</td>\n",
       "      <td>4</td>\n",
       "      <td>1</td>\n",
       "      <td>3</td>\n",
       "      <td>0</td>\n",
       "      <td>0.0</td>\n",
       "    </tr>\n",
       "    <tr>\n",
       "      <th>4</th>\n",
       "      <td>satisfied</td>\n",
       "      <td>Female</td>\n",
       "      <td>Loyal Customer</td>\n",
       "      <td>70</td>\n",
       "      <td>Personal Travel</td>\n",
       "      <td>Eco</td>\n",
       "      <td>354</td>\n",
       "      <td>0</td>\n",
       "      <td>0</td>\n",
       "      <td>0</td>\n",
       "      <td>3</td>\n",
       "      <td>4</td>\n",
       "      <td>3</td>\n",
       "      <td>4</td>\n",
       "      <td>2</td>\n",
       "      <td>2</td>\n",
       "      <td>0</td>\n",
       "      <td>2</td>\n",
       "      <td>4</td>\n",
       "      <td>2</td>\n",
       "      <td>5</td>\n",
       "      <td>0</td>\n",
       "      <td>0.0</td>\n",
       "    </tr>\n",
       "  </tbody>\n",
       "</table>\n",
       "</div>"
      ],
      "text/plain": [
       "  Satisfaction  Gender   Customer type  Age   Type of travel     Class  \\\n",
       "0    satisfied  Female  Loyal Customer   65  Personal Travel       Eco   \n",
       "1    satisfied    Male  Loyal Customer   47  Personal Travel  Business   \n",
       "2    satisfied  Female  Loyal Customer   15  Personal Travel       Eco   \n",
       "3    satisfied  Female  Loyal Customer   60  Personal Travel       Eco   \n",
       "4    satisfied  Female  Loyal Customer   70  Personal Travel       Eco   \n",
       "\n",
       "   Flight distance  Seat comfort  Time convenience  Food and drink  \\\n",
       "0              265             0                 0               0   \n",
       "1             2464             0                 0               0   \n",
       "2             2138             0                 0               0   \n",
       "3              623             0                 0               0   \n",
       "4              354             0                 0               0   \n",
       "\n",
       "   Gate location  Inflight wifi  Inflight entertainment  Online support  \\\n",
       "0              2              2                       4               2   \n",
       "1              3              0                       2               2   \n",
       "2              3              2                       0               2   \n",
       "3              3              3                       4               3   \n",
       "4              3              4                       3               4   \n",
       "\n",
       "   Ease of online booking  On-board service  Legroom service  \\\n",
       "0                       3                 3                0   \n",
       "1                       3                 4                4   \n",
       "2                       2                 3                3   \n",
       "3                       1                 1                0   \n",
       "4                       2                 2                0   \n",
       "\n",
       "   Baggage handling  Check-in service  Cleanliness  Online boarding  \\\n",
       "0                 3                 5            3                2   \n",
       "1                 4                 2            3                2   \n",
       "2                 4                 4            4                2   \n",
       "3                 1                 4            1                3   \n",
       "4                 2                 4            2                5   \n",
       "\n",
       "   Departure delay  Arrival delay  \n",
       "0                0            0.0  \n",
       "1              310          305.0  \n",
       "2                0            0.0  \n",
       "3                0            0.0  \n",
       "4                0            0.0  "
      ]
     },
     "execution_count": 6,
     "metadata": {},
     "output_type": "execute_result"
    }
   ],
   "source": [
    "#Tidying up column names in better format\n",
    "data.rename(columns = {'satisfaction':'Satisfaction',\n",
    "                       'Customer Type':'Customer type',\n",
    "                       'Type of Travel':'Type of travel',\n",
    "                       'Flight Distance':'Flight distance',\n",
    "                       'Departure/Arrival time convenient':'Time convenience',\n",
    "                       'Inflight wifi service':'Inflight wifi',\n",
    "                       'Ease of Online booking':'Ease of online booking',\n",
    "                       'Leg room service':'Legroom service',\n",
    "                       'Checkin service':'Check-in service',\n",
    "                       'Departure Delay in Minutes':'Departure delay',\n",
    "                       'Arrival Delay in Minutes':'Arrival delay'}, \n",
    "            inplace = True)\n",
    "\n",
    "data.head()"
   ]
  },
  {
   "cell_type": "code",
   "execution_count": 7,
   "id": "70679f20",
   "metadata": {},
   "outputs": [],
   "source": [
    "#Checking duplicates\n",
    "data=data.drop_duplicates()"
   ]
  },
  {
   "cell_type": "code",
   "execution_count": 8,
   "id": "d3d88605",
   "metadata": {},
   "outputs": [
    {
     "data": {
      "text/plain": [
       "Satisfaction                0\n",
       "Gender                      0\n",
       "Customer type               0\n",
       "Age                         0\n",
       "Type of travel              0\n",
       "Class                       0\n",
       "Flight distance             0\n",
       "Seat comfort                0\n",
       "Time convenience            0\n",
       "Food and drink              0\n",
       "Gate location               0\n",
       "Inflight wifi               0\n",
       "Inflight entertainment      0\n",
       "Online support              0\n",
       "Ease of online booking      0\n",
       "On-board service            0\n",
       "Legroom service             0\n",
       "Baggage handling            0\n",
       "Check-in service            0\n",
       "Cleanliness                 0\n",
       "Online boarding             0\n",
       "Departure delay             0\n",
       "Arrival delay             393\n",
       "dtype: int64"
      ]
     },
     "execution_count": 8,
     "metadata": {},
     "output_type": "execute_result"
    }
   ],
   "source": [
    "#Checking nulls\n",
    "data.isna().sum()"
   ]
  },
  {
   "cell_type": "markdown",
   "id": "99161240",
   "metadata": {},
   "source": [
    "**Null Treatment: Delays**"
   ]
  },
  {
   "cell_type": "code",
   "execution_count": 9,
   "id": "1861352c",
   "metadata": {},
   "outputs": [
    {
     "data": {
      "text/html": [
       "<div>\n",
       "<style scoped>\n",
       "    .dataframe tbody tr th:only-of-type {\n",
       "        vertical-align: middle;\n",
       "    }\n",
       "\n",
       "    .dataframe tbody tr th {\n",
       "        vertical-align: top;\n",
       "    }\n",
       "\n",
       "    .dataframe thead th {\n",
       "        text-align: right;\n",
       "    }\n",
       "</style>\n",
       "<table border=\"1\" class=\"dataframe\">\n",
       "  <thead>\n",
       "    <tr style=\"text-align: right;\">\n",
       "      <th></th>\n",
       "      <th>Arrival delay</th>\n",
       "      <th>Departure delay</th>\n",
       "    </tr>\n",
       "  </thead>\n",
       "  <tbody>\n",
       "    <tr>\n",
       "      <th>0</th>\n",
       "      <td>0.0</td>\n",
       "      <td>0</td>\n",
       "    </tr>\n",
       "    <tr>\n",
       "      <th>1</th>\n",
       "      <td>305.0</td>\n",
       "      <td>310</td>\n",
       "    </tr>\n",
       "    <tr>\n",
       "      <th>2</th>\n",
       "      <td>0.0</td>\n",
       "      <td>0</td>\n",
       "    </tr>\n",
       "    <tr>\n",
       "      <th>3</th>\n",
       "      <td>0.0</td>\n",
       "      <td>0</td>\n",
       "    </tr>\n",
       "    <tr>\n",
       "      <th>4</th>\n",
       "      <td>0.0</td>\n",
       "      <td>0</td>\n",
       "    </tr>\n",
       "    <tr>\n",
       "      <th>...</th>\n",
       "      <td>...</td>\n",
       "      <td>...</td>\n",
       "    </tr>\n",
       "    <tr>\n",
       "      <th>129875</th>\n",
       "      <td>0.0</td>\n",
       "      <td>0</td>\n",
       "    </tr>\n",
       "    <tr>\n",
       "      <th>129876</th>\n",
       "      <td>172.0</td>\n",
       "      <td>174</td>\n",
       "    </tr>\n",
       "    <tr>\n",
       "      <th>129877</th>\n",
       "      <td>163.0</td>\n",
       "      <td>155</td>\n",
       "    </tr>\n",
       "    <tr>\n",
       "      <th>129878</th>\n",
       "      <td>205.0</td>\n",
       "      <td>193</td>\n",
       "    </tr>\n",
       "    <tr>\n",
       "      <th>129879</th>\n",
       "      <td>186.0</td>\n",
       "      <td>185</td>\n",
       "    </tr>\n",
       "  </tbody>\n",
       "</table>\n",
       "<p>129880 rows × 2 columns</p>\n",
       "</div>"
      ],
      "text/plain": [
       "        Arrival delay  Departure delay\n",
       "0                 0.0                0\n",
       "1               305.0              310\n",
       "2                 0.0                0\n",
       "3                 0.0                0\n",
       "4                 0.0                0\n",
       "...               ...              ...\n",
       "129875            0.0                0\n",
       "129876          172.0              174\n",
       "129877          163.0              155\n",
       "129878          205.0              193\n",
       "129879          186.0              185\n",
       "\n",
       "[129880 rows x 2 columns]"
      ]
     },
     "execution_count": 9,
     "metadata": {},
     "output_type": "execute_result"
    }
   ],
   "source": [
    "data[['Arrival delay', 'Departure delay']]"
   ]
  },
  {
   "cell_type": "code",
   "execution_count": 10,
   "id": "5fce70df",
   "metadata": {},
   "outputs": [
    {
     "data": {
      "text/html": [
       "<div>\n",
       "<style scoped>\n",
       "    .dataframe tbody tr th:only-of-type {\n",
       "        vertical-align: middle;\n",
       "    }\n",
       "\n",
       "    .dataframe tbody tr th {\n",
       "        vertical-align: top;\n",
       "    }\n",
       "\n",
       "    .dataframe thead th {\n",
       "        text-align: right;\n",
       "    }\n",
       "</style>\n",
       "<table border=\"1\" class=\"dataframe\">\n",
       "  <thead>\n",
       "    <tr style=\"text-align: right;\">\n",
       "      <th></th>\n",
       "      <th>Arrival delay</th>\n",
       "      <th>Departure delay</th>\n",
       "    </tr>\n",
       "  </thead>\n",
       "  <tbody>\n",
       "    <tr>\n",
       "      <th>count</th>\n",
       "      <td>129487.000000</td>\n",
       "      <td>129880.000000</td>\n",
       "    </tr>\n",
       "    <tr>\n",
       "      <th>mean</th>\n",
       "      <td>15.091129</td>\n",
       "      <td>14.713713</td>\n",
       "    </tr>\n",
       "    <tr>\n",
       "      <th>std</th>\n",
       "      <td>38.465650</td>\n",
       "      <td>38.071126</td>\n",
       "    </tr>\n",
       "    <tr>\n",
       "      <th>min</th>\n",
       "      <td>0.000000</td>\n",
       "      <td>0.000000</td>\n",
       "    </tr>\n",
       "    <tr>\n",
       "      <th>25%</th>\n",
       "      <td>0.000000</td>\n",
       "      <td>0.000000</td>\n",
       "    </tr>\n",
       "    <tr>\n",
       "      <th>50%</th>\n",
       "      <td>0.000000</td>\n",
       "      <td>0.000000</td>\n",
       "    </tr>\n",
       "    <tr>\n",
       "      <th>75%</th>\n",
       "      <td>13.000000</td>\n",
       "      <td>12.000000</td>\n",
       "    </tr>\n",
       "    <tr>\n",
       "      <th>max</th>\n",
       "      <td>1584.000000</td>\n",
       "      <td>1592.000000</td>\n",
       "    </tr>\n",
       "  </tbody>\n",
       "</table>\n",
       "</div>"
      ],
      "text/plain": [
       "       Arrival delay  Departure delay\n",
       "count  129487.000000    129880.000000\n",
       "mean       15.091129        14.713713\n",
       "std        38.465650        38.071126\n",
       "min         0.000000         0.000000\n",
       "25%         0.000000         0.000000\n",
       "50%         0.000000         0.000000\n",
       "75%        13.000000        12.000000\n",
       "max      1584.000000      1592.000000"
      ]
     },
     "execution_count": 10,
     "metadata": {},
     "output_type": "execute_result"
    }
   ],
   "source": [
    "data[['Arrival delay', 'Departure delay']].describe()"
   ]
  },
  {
   "cell_type": "markdown",
   "id": "37965872",
   "metadata": {},
   "source": [
    "In this case I decide to impute the nulls in Arrival Delay with the values of Departure Delay, considering arrival delay is closely linked with departure delay.\n",
    "    \n",
    "Let's say there is an entry where Departure delay = 100 and Arrival delay = nulls. Imputing the nulls with any value from descriptive statistics such as mean/median/mode can be very misleading, because for that entry, the arrival delay would either be 0 or 15 while in actuality, the arrival and departure delays only differ by a few minutes."
   ]
  },
  {
   "cell_type": "code",
   "execution_count": 11,
   "id": "312e86c0",
   "metadata": {},
   "outputs": [],
   "source": [
    "#imputing nulls in Arrival delay with data in Departure delay\n",
    "data['Arrival delay'] = data['Arrival delay'].fillna(data['Departure delay'])\n",
    "data['Arrival delay'] = data['Arrival delay'].astype(int)"
   ]
  },
  {
   "cell_type": "markdown",
   "id": "f2272adc",
   "metadata": {},
   "source": [
    "**Null Treatment: Ordinal Data**"
   ]
  },
  {
   "cell_type": "markdown",
   "id": "7c42f52a",
   "metadata": {},
   "source": [
    "The results of the survey are given in ordinal data from 1 = dissatisfied to 5 = satisfied. The value of 0 in column #7 - #20 signify nulls. I impute the nulls with mode instead of median, because: 1) The data is ordinal, 2) The distribution of the data is skewed, 3) If there are even numbers of data for the median, it will average out the two middlemost numbers, giving out the possibility of having decimal outcome which is in different format with the whole number of the ordinal data"
   ]
  },
  {
   "cell_type": "code",
   "execution_count": 12,
   "id": "cd75cae3",
   "metadata": {},
   "outputs": [],
   "source": [
    "for column in data.iloc[:, 7:-2].columns:\n",
    "    data[column].replace(0, np.nan, inplace=True)\n",
    "    \n",
    "#replacing 0 with NaN to make it easier for us to see the nulls"
   ]
  },
  {
   "cell_type": "code",
   "execution_count": 13,
   "id": "abbca92d",
   "metadata": {},
   "outputs": [],
   "source": [
    "for column in data.iloc[:, 7:-2].columns:\n",
    "    data[column].fillna(data[column].mode()[0], inplace=True)\n",
    "\n",
    "data.iloc[:, 7:-2] = data.iloc[:, 7:-2].astype(int)\n",
    "#imputing the NaN with mode"
   ]
  },
  {
   "cell_type": "code",
   "execution_count": 14,
   "id": "6912823f",
   "metadata": {},
   "outputs": [
    {
     "data": {
      "text/html": [
       "<div>\n",
       "<style scoped>\n",
       "    .dataframe tbody tr th:only-of-type {\n",
       "        vertical-align: middle;\n",
       "    }\n",
       "\n",
       "    .dataframe tbody tr th {\n",
       "        vertical-align: top;\n",
       "    }\n",
       "\n",
       "    .dataframe thead th {\n",
       "        text-align: right;\n",
       "    }\n",
       "</style>\n",
       "<table border=\"1\" class=\"dataframe\">\n",
       "  <thead>\n",
       "    <tr style=\"text-align: right;\">\n",
       "      <th></th>\n",
       "      <th>Satisfaction</th>\n",
       "      <th>Gender</th>\n",
       "      <th>Customer type</th>\n",
       "      <th>Age</th>\n",
       "      <th>Type of travel</th>\n",
       "      <th>Class</th>\n",
       "      <th>Flight distance</th>\n",
       "      <th>Seat comfort</th>\n",
       "      <th>Time convenience</th>\n",
       "      <th>Food and drink</th>\n",
       "      <th>Gate location</th>\n",
       "      <th>Inflight wifi</th>\n",
       "      <th>Inflight entertainment</th>\n",
       "      <th>Online support</th>\n",
       "      <th>Ease of online booking</th>\n",
       "      <th>On-board service</th>\n",
       "      <th>Legroom service</th>\n",
       "      <th>Baggage handling</th>\n",
       "      <th>Check-in service</th>\n",
       "      <th>Cleanliness</th>\n",
       "      <th>Online boarding</th>\n",
       "      <th>Departure delay</th>\n",
       "      <th>Arrival delay</th>\n",
       "    </tr>\n",
       "  </thead>\n",
       "  <tbody>\n",
       "    <tr>\n",
       "      <th>0</th>\n",
       "      <td>satisfied</td>\n",
       "      <td>Female</td>\n",
       "      <td>Loyal Customer</td>\n",
       "      <td>65</td>\n",
       "      <td>Personal Travel</td>\n",
       "      <td>Eco</td>\n",
       "      <td>265</td>\n",
       "      <td>3</td>\n",
       "      <td>4</td>\n",
       "      <td>3</td>\n",
       "      <td>2</td>\n",
       "      <td>2</td>\n",
       "      <td>4</td>\n",
       "      <td>2</td>\n",
       "      <td>3</td>\n",
       "      <td>3</td>\n",
       "      <td>4</td>\n",
       "      <td>3</td>\n",
       "      <td>5</td>\n",
       "      <td>3</td>\n",
       "      <td>2</td>\n",
       "      <td>0</td>\n",
       "      <td>0</td>\n",
       "    </tr>\n",
       "    <tr>\n",
       "      <th>1</th>\n",
       "      <td>satisfied</td>\n",
       "      <td>Male</td>\n",
       "      <td>Loyal Customer</td>\n",
       "      <td>47</td>\n",
       "      <td>Personal Travel</td>\n",
       "      <td>Business</td>\n",
       "      <td>2464</td>\n",
       "      <td>3</td>\n",
       "      <td>4</td>\n",
       "      <td>3</td>\n",
       "      <td>3</td>\n",
       "      <td>4</td>\n",
       "      <td>2</td>\n",
       "      <td>2</td>\n",
       "      <td>3</td>\n",
       "      <td>4</td>\n",
       "      <td>4</td>\n",
       "      <td>4</td>\n",
       "      <td>2</td>\n",
       "      <td>3</td>\n",
       "      <td>2</td>\n",
       "      <td>310</td>\n",
       "      <td>305</td>\n",
       "    </tr>\n",
       "    <tr>\n",
       "      <th>2</th>\n",
       "      <td>satisfied</td>\n",
       "      <td>Female</td>\n",
       "      <td>Loyal Customer</td>\n",
       "      <td>15</td>\n",
       "      <td>Personal Travel</td>\n",
       "      <td>Eco</td>\n",
       "      <td>2138</td>\n",
       "      <td>3</td>\n",
       "      <td>4</td>\n",
       "      <td>3</td>\n",
       "      <td>3</td>\n",
       "      <td>2</td>\n",
       "      <td>4</td>\n",
       "      <td>2</td>\n",
       "      <td>2</td>\n",
       "      <td>3</td>\n",
       "      <td>3</td>\n",
       "      <td>4</td>\n",
       "      <td>4</td>\n",
       "      <td>4</td>\n",
       "      <td>2</td>\n",
       "      <td>0</td>\n",
       "      <td>0</td>\n",
       "    </tr>\n",
       "    <tr>\n",
       "      <th>3</th>\n",
       "      <td>satisfied</td>\n",
       "      <td>Female</td>\n",
       "      <td>Loyal Customer</td>\n",
       "      <td>60</td>\n",
       "      <td>Personal Travel</td>\n",
       "      <td>Eco</td>\n",
       "      <td>623</td>\n",
       "      <td>3</td>\n",
       "      <td>4</td>\n",
       "      <td>3</td>\n",
       "      <td>3</td>\n",
       "      <td>3</td>\n",
       "      <td>4</td>\n",
       "      <td>3</td>\n",
       "      <td>1</td>\n",
       "      <td>1</td>\n",
       "      <td>4</td>\n",
       "      <td>1</td>\n",
       "      <td>4</td>\n",
       "      <td>1</td>\n",
       "      <td>3</td>\n",
       "      <td>0</td>\n",
       "      <td>0</td>\n",
       "    </tr>\n",
       "    <tr>\n",
       "      <th>4</th>\n",
       "      <td>satisfied</td>\n",
       "      <td>Female</td>\n",
       "      <td>Loyal Customer</td>\n",
       "      <td>70</td>\n",
       "      <td>Personal Travel</td>\n",
       "      <td>Eco</td>\n",
       "      <td>354</td>\n",
       "      <td>3</td>\n",
       "      <td>4</td>\n",
       "      <td>3</td>\n",
       "      <td>3</td>\n",
       "      <td>4</td>\n",
       "      <td>3</td>\n",
       "      <td>4</td>\n",
       "      <td>2</td>\n",
       "      <td>2</td>\n",
       "      <td>4</td>\n",
       "      <td>2</td>\n",
       "      <td>4</td>\n",
       "      <td>2</td>\n",
       "      <td>5</td>\n",
       "      <td>0</td>\n",
       "      <td>0</td>\n",
       "    </tr>\n",
       "  </tbody>\n",
       "</table>\n",
       "</div>"
      ],
      "text/plain": [
       "  Satisfaction  Gender   Customer type  Age   Type of travel     Class  \\\n",
       "0    satisfied  Female  Loyal Customer   65  Personal Travel       Eco   \n",
       "1    satisfied    Male  Loyal Customer   47  Personal Travel  Business   \n",
       "2    satisfied  Female  Loyal Customer   15  Personal Travel       Eco   \n",
       "3    satisfied  Female  Loyal Customer   60  Personal Travel       Eco   \n",
       "4    satisfied  Female  Loyal Customer   70  Personal Travel       Eco   \n",
       "\n",
       "   Flight distance  Seat comfort  Time convenience  Food and drink  \\\n",
       "0              265             3                 4               3   \n",
       "1             2464             3                 4               3   \n",
       "2             2138             3                 4               3   \n",
       "3              623             3                 4               3   \n",
       "4              354             3                 4               3   \n",
       "\n",
       "   Gate location  Inflight wifi  Inflight entertainment  Online support  \\\n",
       "0              2              2                       4               2   \n",
       "1              3              4                       2               2   \n",
       "2              3              2                       4               2   \n",
       "3              3              3                       4               3   \n",
       "4              3              4                       3               4   \n",
       "\n",
       "   Ease of online booking  On-board service  Legroom service  \\\n",
       "0                       3                 3                4   \n",
       "1                       3                 4                4   \n",
       "2                       2                 3                3   \n",
       "3                       1                 1                4   \n",
       "4                       2                 2                4   \n",
       "\n",
       "   Baggage handling  Check-in service  Cleanliness  Online boarding  \\\n",
       "0                 3                 5            3                2   \n",
       "1                 4                 2            3                2   \n",
       "2                 4                 4            4                2   \n",
       "3                 1                 4            1                3   \n",
       "4                 2                 4            2                5   \n",
       "\n",
       "   Departure delay  Arrival delay  \n",
       "0                0              0  \n",
       "1              310            305  \n",
       "2                0              0  \n",
       "3                0              0  \n",
       "4                0              0  "
      ]
     },
     "execution_count": 14,
     "metadata": {},
     "output_type": "execute_result"
    }
   ],
   "source": [
    "data.head()"
   ]
  },
  {
   "cell_type": "markdown",
   "id": "641549fa",
   "metadata": {},
   "source": [
    "**Data Encoding**"
   ]
  },
  {
   "cell_type": "code",
   "execution_count": 15,
   "id": "5e734c61",
   "metadata": {},
   "outputs": [],
   "source": [
    "from sklearn.preprocessing import LabelEncoder"
   ]
  },
  {
   "cell_type": "code",
   "execution_count": 16,
   "id": "06588dc1",
   "metadata": {},
   "outputs": [],
   "source": [
    "data_encode = data.copy()"
   ]
  },
  {
   "cell_type": "code",
   "execution_count": 17,
   "id": "08a12b9e",
   "metadata": {},
   "outputs": [],
   "source": [
    "lE = LabelEncoder()\n",
    "data_encode['Satisfaction'] = lE.fit_transform(data_encode['Satisfaction'])     #0 = dissatisfied, 1 = satisfied\n",
    "data_encode['Gender'] = lE.fit_transform(data_encode['Gender'])                 #0 = female, 1 = male\n",
    "data_encode['Customer type'] = lE.fit_transform(data_encode['Customer type'])   #0 = loyal, 1 = disloyal\n",
    "data_encode['Type of travel'] = lE.fit_transform(data_encode['Type of travel']) #0 = business travel, 1 = personal travel\n",
    "data_encode.replace(to_replace =\"Eco\", value = 0, inplace=True)\n",
    "data_encode.replace(to_replace =\"Eco Plus\", value = 1, inplace=True)\n",
    "data_encode.replace(to_replace =\"Business\", value = 2, inplace=True)"
   ]
  },
  {
   "cell_type": "code",
   "execution_count": 18,
   "id": "e6a888fe",
   "metadata": {},
   "outputs": [
    {
     "data": {
      "text/html": [
       "<div>\n",
       "<style scoped>\n",
       "    .dataframe tbody tr th:only-of-type {\n",
       "        vertical-align: middle;\n",
       "    }\n",
       "\n",
       "    .dataframe tbody tr th {\n",
       "        vertical-align: top;\n",
       "    }\n",
       "\n",
       "    .dataframe thead th {\n",
       "        text-align: right;\n",
       "    }\n",
       "</style>\n",
       "<table border=\"1\" class=\"dataframe\">\n",
       "  <thead>\n",
       "    <tr style=\"text-align: right;\">\n",
       "      <th></th>\n",
       "      <th>Satisfaction</th>\n",
       "      <th>Gender</th>\n",
       "      <th>Customer type</th>\n",
       "      <th>Age</th>\n",
       "      <th>Type of travel</th>\n",
       "      <th>Class</th>\n",
       "      <th>Flight distance</th>\n",
       "      <th>Seat comfort</th>\n",
       "      <th>Time convenience</th>\n",
       "      <th>Food and drink</th>\n",
       "      <th>Gate location</th>\n",
       "      <th>Inflight wifi</th>\n",
       "      <th>Inflight entertainment</th>\n",
       "      <th>Online support</th>\n",
       "      <th>Ease of online booking</th>\n",
       "      <th>On-board service</th>\n",
       "      <th>Legroom service</th>\n",
       "      <th>Baggage handling</th>\n",
       "      <th>Check-in service</th>\n",
       "      <th>Cleanliness</th>\n",
       "      <th>Online boarding</th>\n",
       "      <th>Departure delay</th>\n",
       "      <th>Arrival delay</th>\n",
       "    </tr>\n",
       "  </thead>\n",
       "  <tbody>\n",
       "    <tr>\n",
       "      <th>0</th>\n",
       "      <td>1</td>\n",
       "      <td>0</td>\n",
       "      <td>0</td>\n",
       "      <td>65</td>\n",
       "      <td>1</td>\n",
       "      <td>0</td>\n",
       "      <td>265</td>\n",
       "      <td>3</td>\n",
       "      <td>4</td>\n",
       "      <td>3</td>\n",
       "      <td>2</td>\n",
       "      <td>2</td>\n",
       "      <td>4</td>\n",
       "      <td>2</td>\n",
       "      <td>3</td>\n",
       "      <td>3</td>\n",
       "      <td>4</td>\n",
       "      <td>3</td>\n",
       "      <td>5</td>\n",
       "      <td>3</td>\n",
       "      <td>2</td>\n",
       "      <td>0</td>\n",
       "      <td>0</td>\n",
       "    </tr>\n",
       "    <tr>\n",
       "      <th>1</th>\n",
       "      <td>1</td>\n",
       "      <td>1</td>\n",
       "      <td>0</td>\n",
       "      <td>47</td>\n",
       "      <td>1</td>\n",
       "      <td>2</td>\n",
       "      <td>2464</td>\n",
       "      <td>3</td>\n",
       "      <td>4</td>\n",
       "      <td>3</td>\n",
       "      <td>3</td>\n",
       "      <td>4</td>\n",
       "      <td>2</td>\n",
       "      <td>2</td>\n",
       "      <td>3</td>\n",
       "      <td>4</td>\n",
       "      <td>4</td>\n",
       "      <td>4</td>\n",
       "      <td>2</td>\n",
       "      <td>3</td>\n",
       "      <td>2</td>\n",
       "      <td>310</td>\n",
       "      <td>305</td>\n",
       "    </tr>\n",
       "    <tr>\n",
       "      <th>2</th>\n",
       "      <td>1</td>\n",
       "      <td>0</td>\n",
       "      <td>0</td>\n",
       "      <td>15</td>\n",
       "      <td>1</td>\n",
       "      <td>0</td>\n",
       "      <td>2138</td>\n",
       "      <td>3</td>\n",
       "      <td>4</td>\n",
       "      <td>3</td>\n",
       "      <td>3</td>\n",
       "      <td>2</td>\n",
       "      <td>4</td>\n",
       "      <td>2</td>\n",
       "      <td>2</td>\n",
       "      <td>3</td>\n",
       "      <td>3</td>\n",
       "      <td>4</td>\n",
       "      <td>4</td>\n",
       "      <td>4</td>\n",
       "      <td>2</td>\n",
       "      <td>0</td>\n",
       "      <td>0</td>\n",
       "    </tr>\n",
       "    <tr>\n",
       "      <th>3</th>\n",
       "      <td>1</td>\n",
       "      <td>0</td>\n",
       "      <td>0</td>\n",
       "      <td>60</td>\n",
       "      <td>1</td>\n",
       "      <td>0</td>\n",
       "      <td>623</td>\n",
       "      <td>3</td>\n",
       "      <td>4</td>\n",
       "      <td>3</td>\n",
       "      <td>3</td>\n",
       "      <td>3</td>\n",
       "      <td>4</td>\n",
       "      <td>3</td>\n",
       "      <td>1</td>\n",
       "      <td>1</td>\n",
       "      <td>4</td>\n",
       "      <td>1</td>\n",
       "      <td>4</td>\n",
       "      <td>1</td>\n",
       "      <td>3</td>\n",
       "      <td>0</td>\n",
       "      <td>0</td>\n",
       "    </tr>\n",
       "    <tr>\n",
       "      <th>4</th>\n",
       "      <td>1</td>\n",
       "      <td>0</td>\n",
       "      <td>0</td>\n",
       "      <td>70</td>\n",
       "      <td>1</td>\n",
       "      <td>0</td>\n",
       "      <td>354</td>\n",
       "      <td>3</td>\n",
       "      <td>4</td>\n",
       "      <td>3</td>\n",
       "      <td>3</td>\n",
       "      <td>4</td>\n",
       "      <td>3</td>\n",
       "      <td>4</td>\n",
       "      <td>2</td>\n",
       "      <td>2</td>\n",
       "      <td>4</td>\n",
       "      <td>2</td>\n",
       "      <td>4</td>\n",
       "      <td>2</td>\n",
       "      <td>5</td>\n",
       "      <td>0</td>\n",
       "      <td>0</td>\n",
       "    </tr>\n",
       "    <tr>\n",
       "      <th>...</th>\n",
       "      <td>...</td>\n",
       "      <td>...</td>\n",
       "      <td>...</td>\n",
       "      <td>...</td>\n",
       "      <td>...</td>\n",
       "      <td>...</td>\n",
       "      <td>...</td>\n",
       "      <td>...</td>\n",
       "      <td>...</td>\n",
       "      <td>...</td>\n",
       "      <td>...</td>\n",
       "      <td>...</td>\n",
       "      <td>...</td>\n",
       "      <td>...</td>\n",
       "      <td>...</td>\n",
       "      <td>...</td>\n",
       "      <td>...</td>\n",
       "      <td>...</td>\n",
       "      <td>...</td>\n",
       "      <td>...</td>\n",
       "      <td>...</td>\n",
       "      <td>...</td>\n",
       "      <td>...</td>\n",
       "    </tr>\n",
       "    <tr>\n",
       "      <th>129875</th>\n",
       "      <td>1</td>\n",
       "      <td>0</td>\n",
       "      <td>1</td>\n",
       "      <td>29</td>\n",
       "      <td>1</td>\n",
       "      <td>0</td>\n",
       "      <td>1731</td>\n",
       "      <td>5</td>\n",
       "      <td>5</td>\n",
       "      <td>5</td>\n",
       "      <td>3</td>\n",
       "      <td>2</td>\n",
       "      <td>5</td>\n",
       "      <td>2</td>\n",
       "      <td>2</td>\n",
       "      <td>3</td>\n",
       "      <td>3</td>\n",
       "      <td>4</td>\n",
       "      <td>4</td>\n",
       "      <td>4</td>\n",
       "      <td>2</td>\n",
       "      <td>0</td>\n",
       "      <td>0</td>\n",
       "    </tr>\n",
       "    <tr>\n",
       "      <th>129876</th>\n",
       "      <td>0</td>\n",
       "      <td>1</td>\n",
       "      <td>1</td>\n",
       "      <td>63</td>\n",
       "      <td>1</td>\n",
       "      <td>2</td>\n",
       "      <td>2087</td>\n",
       "      <td>2</td>\n",
       "      <td>3</td>\n",
       "      <td>2</td>\n",
       "      <td>4</td>\n",
       "      <td>2</td>\n",
       "      <td>1</td>\n",
       "      <td>1</td>\n",
       "      <td>3</td>\n",
       "      <td>2</td>\n",
       "      <td>3</td>\n",
       "      <td>3</td>\n",
       "      <td>1</td>\n",
       "      <td>2</td>\n",
       "      <td>1</td>\n",
       "      <td>174</td>\n",
       "      <td>172</td>\n",
       "    </tr>\n",
       "    <tr>\n",
       "      <th>129877</th>\n",
       "      <td>0</td>\n",
       "      <td>1</td>\n",
       "      <td>1</td>\n",
       "      <td>69</td>\n",
       "      <td>1</td>\n",
       "      <td>0</td>\n",
       "      <td>2320</td>\n",
       "      <td>3</td>\n",
       "      <td>4</td>\n",
       "      <td>3</td>\n",
       "      <td>3</td>\n",
       "      <td>3</td>\n",
       "      <td>2</td>\n",
       "      <td>2</td>\n",
       "      <td>4</td>\n",
       "      <td>4</td>\n",
       "      <td>3</td>\n",
       "      <td>4</td>\n",
       "      <td>2</td>\n",
       "      <td>3</td>\n",
       "      <td>2</td>\n",
       "      <td>155</td>\n",
       "      <td>163</td>\n",
       "    </tr>\n",
       "    <tr>\n",
       "      <th>129878</th>\n",
       "      <td>0</td>\n",
       "      <td>1</td>\n",
       "      <td>1</td>\n",
       "      <td>66</td>\n",
       "      <td>1</td>\n",
       "      <td>0</td>\n",
       "      <td>2450</td>\n",
       "      <td>3</td>\n",
       "      <td>2</td>\n",
       "      <td>3</td>\n",
       "      <td>2</td>\n",
       "      <td>3</td>\n",
       "      <td>2</td>\n",
       "      <td>2</td>\n",
       "      <td>3</td>\n",
       "      <td>3</td>\n",
       "      <td>2</td>\n",
       "      <td>3</td>\n",
       "      <td>2</td>\n",
       "      <td>1</td>\n",
       "      <td>2</td>\n",
       "      <td>193</td>\n",
       "      <td>205</td>\n",
       "    </tr>\n",
       "    <tr>\n",
       "      <th>129879</th>\n",
       "      <td>0</td>\n",
       "      <td>0</td>\n",
       "      <td>1</td>\n",
       "      <td>38</td>\n",
       "      <td>1</td>\n",
       "      <td>0</td>\n",
       "      <td>4307</td>\n",
       "      <td>3</td>\n",
       "      <td>4</td>\n",
       "      <td>3</td>\n",
       "      <td>3</td>\n",
       "      <td>3</td>\n",
       "      <td>3</td>\n",
       "      <td>3</td>\n",
       "      <td>4</td>\n",
       "      <td>5</td>\n",
       "      <td>5</td>\n",
       "      <td>5</td>\n",
       "      <td>3</td>\n",
       "      <td>3</td>\n",
       "      <td>3</td>\n",
       "      <td>185</td>\n",
       "      <td>186</td>\n",
       "    </tr>\n",
       "  </tbody>\n",
       "</table>\n",
       "<p>129880 rows × 23 columns</p>\n",
       "</div>"
      ],
      "text/plain": [
       "        Satisfaction  Gender  Customer type  Age  Type of travel  Class  \\\n",
       "0                  1       0              0   65               1      0   \n",
       "1                  1       1              0   47               1      2   \n",
       "2                  1       0              0   15               1      0   \n",
       "3                  1       0              0   60               1      0   \n",
       "4                  1       0              0   70               1      0   \n",
       "...              ...     ...            ...  ...             ...    ...   \n",
       "129875             1       0              1   29               1      0   \n",
       "129876             0       1              1   63               1      2   \n",
       "129877             0       1              1   69               1      0   \n",
       "129878             0       1              1   66               1      0   \n",
       "129879             0       0              1   38               1      0   \n",
       "\n",
       "        Flight distance  Seat comfort  Time convenience  Food and drink  \\\n",
       "0                   265             3                 4               3   \n",
       "1                  2464             3                 4               3   \n",
       "2                  2138             3                 4               3   \n",
       "3                   623             3                 4               3   \n",
       "4                   354             3                 4               3   \n",
       "...                 ...           ...               ...             ...   \n",
       "129875             1731             5                 5               5   \n",
       "129876             2087             2                 3               2   \n",
       "129877             2320             3                 4               3   \n",
       "129878             2450             3                 2               3   \n",
       "129879             4307             3                 4               3   \n",
       "\n",
       "        Gate location  Inflight wifi  Inflight entertainment  Online support  \\\n",
       "0                   2              2                       4               2   \n",
       "1                   3              4                       2               2   \n",
       "2                   3              2                       4               2   \n",
       "3                   3              3                       4               3   \n",
       "4                   3              4                       3               4   \n",
       "...               ...            ...                     ...             ...   \n",
       "129875              3              2                       5               2   \n",
       "129876              4              2                       1               1   \n",
       "129877              3              3                       2               2   \n",
       "129878              2              3                       2               2   \n",
       "129879              3              3                       3               3   \n",
       "\n",
       "        Ease of online booking  On-board service  Legroom service  \\\n",
       "0                            3                 3                4   \n",
       "1                            3                 4                4   \n",
       "2                            2                 3                3   \n",
       "3                            1                 1                4   \n",
       "4                            2                 2                4   \n",
       "...                        ...               ...              ...   \n",
       "129875                       2                 3                3   \n",
       "129876                       3                 2                3   \n",
       "129877                       4                 4                3   \n",
       "129878                       3                 3                2   \n",
       "129879                       4                 5                5   \n",
       "\n",
       "        Baggage handling  Check-in service  Cleanliness  Online boarding  \\\n",
       "0                      3                 5            3                2   \n",
       "1                      4                 2            3                2   \n",
       "2                      4                 4            4                2   \n",
       "3                      1                 4            1                3   \n",
       "4                      2                 4            2                5   \n",
       "...                  ...               ...          ...              ...   \n",
       "129875                 4                 4            4                2   \n",
       "129876                 3                 1            2                1   \n",
       "129877                 4                 2            3                2   \n",
       "129878                 3                 2            1                2   \n",
       "129879                 5                 3            3                3   \n",
       "\n",
       "        Departure delay  Arrival delay  \n",
       "0                     0              0  \n",
       "1                   310            305  \n",
       "2                     0              0  \n",
       "3                     0              0  \n",
       "4                     0              0  \n",
       "...                 ...            ...  \n",
       "129875                0              0  \n",
       "129876              174            172  \n",
       "129877              155            163  \n",
       "129878              193            205  \n",
       "129879              185            186  \n",
       "\n",
       "[129880 rows x 23 columns]"
      ]
     },
     "execution_count": 18,
     "metadata": {},
     "output_type": "execute_result"
    }
   ],
   "source": [
    "data_encode"
   ]
  },
  {
   "cell_type": "code",
   "execution_count": 19,
   "id": "a9b7646a",
   "metadata": {},
   "outputs": [
    {
     "data": {
      "text/plain": [
       "{0, 1, 2}"
      ]
     },
     "execution_count": 19,
     "metadata": {},
     "output_type": "execute_result"
    }
   ],
   "source": [
    "#Assigning numerical values and storing in another column for Class (test)\n",
    "data_encode['Class_LE'] = lE.fit_transform(data_encode['Class'])\n",
    "set(data_encode['Class_LE'])"
   ]
  },
  {
   "cell_type": "code",
   "execution_count": 20,
   "id": "b95e7b7a",
   "metadata": {},
   "outputs": [],
   "source": [
    "#If we use LE to encode \"Class\", the result wouldn't be what we want because the values in column \"Class\" are actually ordinal where:\n",
    "#Eco < Eco Plus < Business = 0 < 1 < 2\n",
    "#LE results to 0 = Business, 1 = Eco, 2 = Eco Plus (in alphabetical order)\n",
    "#Therefore we need to manually encode the feature \"Class\""
   ]
  },
  {
   "cell_type": "code",
   "execution_count": 21,
   "id": "66421962",
   "metadata": {},
   "outputs": [],
   "source": [
    "data_encode.replace(to_replace =\"Eco\", value = 0, inplace=True)\n",
    "data_encode.replace(to_replace =\"Eco Plus\", value = 1, inplace=True)\n",
    "data_encode.replace(to_replace =\"Business\", value = 2, inplace=True)"
   ]
  },
  {
   "cell_type": "code",
   "execution_count": 22,
   "id": "ae7a7cfb",
   "metadata": {},
   "outputs": [],
   "source": [
    "data_encode.drop(columns=['Class_LE'], inplace=True)"
   ]
  },
  {
   "cell_type": "code",
   "execution_count": 23,
   "id": "4b0960b0",
   "metadata": {},
   "outputs": [
    {
     "data": {
      "text/html": [
       "<div>\n",
       "<style scoped>\n",
       "    .dataframe tbody tr th:only-of-type {\n",
       "        vertical-align: middle;\n",
       "    }\n",
       "\n",
       "    .dataframe tbody tr th {\n",
       "        vertical-align: top;\n",
       "    }\n",
       "\n",
       "    .dataframe thead th {\n",
       "        text-align: right;\n",
       "    }\n",
       "</style>\n",
       "<table border=\"1\" class=\"dataframe\">\n",
       "  <thead>\n",
       "    <tr style=\"text-align: right;\">\n",
       "      <th></th>\n",
       "      <th>Satisfaction</th>\n",
       "      <th>Gender</th>\n",
       "      <th>Customer type</th>\n",
       "      <th>Age</th>\n",
       "      <th>Type of travel</th>\n",
       "      <th>Class</th>\n",
       "      <th>Flight distance</th>\n",
       "      <th>Seat comfort</th>\n",
       "      <th>Time convenience</th>\n",
       "      <th>Food and drink</th>\n",
       "      <th>Gate location</th>\n",
       "      <th>Inflight wifi</th>\n",
       "      <th>Inflight entertainment</th>\n",
       "      <th>Online support</th>\n",
       "      <th>Ease of online booking</th>\n",
       "      <th>On-board service</th>\n",
       "      <th>Legroom service</th>\n",
       "      <th>Baggage handling</th>\n",
       "      <th>Check-in service</th>\n",
       "      <th>Cleanliness</th>\n",
       "      <th>Online boarding</th>\n",
       "      <th>Departure delay</th>\n",
       "      <th>Arrival delay</th>\n",
       "    </tr>\n",
       "  </thead>\n",
       "  <tbody>\n",
       "    <tr>\n",
       "      <th>0</th>\n",
       "      <td>1</td>\n",
       "      <td>0</td>\n",
       "      <td>0</td>\n",
       "      <td>65</td>\n",
       "      <td>1</td>\n",
       "      <td>0</td>\n",
       "      <td>265</td>\n",
       "      <td>3</td>\n",
       "      <td>4</td>\n",
       "      <td>3</td>\n",
       "      <td>2</td>\n",
       "      <td>2</td>\n",
       "      <td>4</td>\n",
       "      <td>2</td>\n",
       "      <td>3</td>\n",
       "      <td>3</td>\n",
       "      <td>4</td>\n",
       "      <td>3</td>\n",
       "      <td>5</td>\n",
       "      <td>3</td>\n",
       "      <td>2</td>\n",
       "      <td>0</td>\n",
       "      <td>0</td>\n",
       "    </tr>\n",
       "    <tr>\n",
       "      <th>1</th>\n",
       "      <td>1</td>\n",
       "      <td>1</td>\n",
       "      <td>0</td>\n",
       "      <td>47</td>\n",
       "      <td>1</td>\n",
       "      <td>2</td>\n",
       "      <td>2464</td>\n",
       "      <td>3</td>\n",
       "      <td>4</td>\n",
       "      <td>3</td>\n",
       "      <td>3</td>\n",
       "      <td>4</td>\n",
       "      <td>2</td>\n",
       "      <td>2</td>\n",
       "      <td>3</td>\n",
       "      <td>4</td>\n",
       "      <td>4</td>\n",
       "      <td>4</td>\n",
       "      <td>2</td>\n",
       "      <td>3</td>\n",
       "      <td>2</td>\n",
       "      <td>310</td>\n",
       "      <td>305</td>\n",
       "    </tr>\n",
       "    <tr>\n",
       "      <th>2</th>\n",
       "      <td>1</td>\n",
       "      <td>0</td>\n",
       "      <td>0</td>\n",
       "      <td>15</td>\n",
       "      <td>1</td>\n",
       "      <td>0</td>\n",
       "      <td>2138</td>\n",
       "      <td>3</td>\n",
       "      <td>4</td>\n",
       "      <td>3</td>\n",
       "      <td>3</td>\n",
       "      <td>2</td>\n",
       "      <td>4</td>\n",
       "      <td>2</td>\n",
       "      <td>2</td>\n",
       "      <td>3</td>\n",
       "      <td>3</td>\n",
       "      <td>4</td>\n",
       "      <td>4</td>\n",
       "      <td>4</td>\n",
       "      <td>2</td>\n",
       "      <td>0</td>\n",
       "      <td>0</td>\n",
       "    </tr>\n",
       "    <tr>\n",
       "      <th>3</th>\n",
       "      <td>1</td>\n",
       "      <td>0</td>\n",
       "      <td>0</td>\n",
       "      <td>60</td>\n",
       "      <td>1</td>\n",
       "      <td>0</td>\n",
       "      <td>623</td>\n",
       "      <td>3</td>\n",
       "      <td>4</td>\n",
       "      <td>3</td>\n",
       "      <td>3</td>\n",
       "      <td>3</td>\n",
       "      <td>4</td>\n",
       "      <td>3</td>\n",
       "      <td>1</td>\n",
       "      <td>1</td>\n",
       "      <td>4</td>\n",
       "      <td>1</td>\n",
       "      <td>4</td>\n",
       "      <td>1</td>\n",
       "      <td>3</td>\n",
       "      <td>0</td>\n",
       "      <td>0</td>\n",
       "    </tr>\n",
       "    <tr>\n",
       "      <th>4</th>\n",
       "      <td>1</td>\n",
       "      <td>0</td>\n",
       "      <td>0</td>\n",
       "      <td>70</td>\n",
       "      <td>1</td>\n",
       "      <td>0</td>\n",
       "      <td>354</td>\n",
       "      <td>3</td>\n",
       "      <td>4</td>\n",
       "      <td>3</td>\n",
       "      <td>3</td>\n",
       "      <td>4</td>\n",
       "      <td>3</td>\n",
       "      <td>4</td>\n",
       "      <td>2</td>\n",
       "      <td>2</td>\n",
       "      <td>4</td>\n",
       "      <td>2</td>\n",
       "      <td>4</td>\n",
       "      <td>2</td>\n",
       "      <td>5</td>\n",
       "      <td>0</td>\n",
       "      <td>0</td>\n",
       "    </tr>\n",
       "  </tbody>\n",
       "</table>\n",
       "</div>"
      ],
      "text/plain": [
       "   Satisfaction  Gender  Customer type  Age  Type of travel  Class  \\\n",
       "0             1       0              0   65               1      0   \n",
       "1             1       1              0   47               1      2   \n",
       "2             1       0              0   15               1      0   \n",
       "3             1       0              0   60               1      0   \n",
       "4             1       0              0   70               1      0   \n",
       "\n",
       "   Flight distance  Seat comfort  Time convenience  Food and drink  \\\n",
       "0              265             3                 4               3   \n",
       "1             2464             3                 4               3   \n",
       "2             2138             3                 4               3   \n",
       "3              623             3                 4               3   \n",
       "4              354             3                 4               3   \n",
       "\n",
       "   Gate location  Inflight wifi  Inflight entertainment  Online support  \\\n",
       "0              2              2                       4               2   \n",
       "1              3              4                       2               2   \n",
       "2              3              2                       4               2   \n",
       "3              3              3                       4               3   \n",
       "4              3              4                       3               4   \n",
       "\n",
       "   Ease of online booking  On-board service  Legroom service  \\\n",
       "0                       3                 3                4   \n",
       "1                       3                 4                4   \n",
       "2                       2                 3                3   \n",
       "3                       1                 1                4   \n",
       "4                       2                 2                4   \n",
       "\n",
       "   Baggage handling  Check-in service  Cleanliness  Online boarding  \\\n",
       "0                 3                 5            3                2   \n",
       "1                 4                 2            3                2   \n",
       "2                 4                 4            4                2   \n",
       "3                 1                 4            1                3   \n",
       "4                 2                 4            2                5   \n",
       "\n",
       "   Departure delay  Arrival delay  \n",
       "0                0              0  \n",
       "1              310            305  \n",
       "2                0              0  \n",
       "3                0              0  \n",
       "4                0              0  "
      ]
     },
     "execution_count": 23,
     "metadata": {},
     "output_type": "execute_result"
    }
   ],
   "source": [
    "#Freshly encoded data\n",
    "data_encode.head()"
   ]
  },
  {
   "cell_type": "markdown",
   "id": "29e2e270",
   "metadata": {},
   "source": [
    "**EDA#1: Are the 'satisfied' and 'dissatisfied' responses balanced?**"
   ]
  },
  {
   "cell_type": "code",
   "execution_count": 24,
   "id": "d744b3f4",
   "metadata": {},
   "outputs": [
    {
     "data": {
      "text/plain": [
       "<AxesSubplot:xlabel='Satisfaction', ylabel='Count'>"
      ]
     },
     "execution_count": 24,
     "metadata": {},
     "output_type": "execute_result"
    },
    {
     "data": {
      "image/png": "[encoded data removed]",
      "text/plain": [
       "<Figure size 432x288 with 1 Axes>"
      ]
     },
     "metadata": {
      "needs_background": "light"
     },
     "output_type": "display_data"
    }
   ],
   "source": [
    "sns.histplot(data=data, x=\"Satisfaction\", hue=\"Satisfaction\")"
   ]
  },
  {
   "cell_type": "code",
   "execution_count": 25,
   "id": "3491b40d",
   "metadata": {},
   "outputs": [
    {
     "name": "stdout",
     "output_type": "stream",
     "text": [
      "Satisfied = 54.73283030489683\n",
      "Dissatified = 45.26716969510317\n"
     ]
    }
   ],
   "source": [
    "satisfied_percent = len(data[data['Satisfaction'] == 'satisfied']) / len(data) * 100\n",
    "dissatisfied_percent = 100 - satisfied_percent\n",
    "\n",
    "print(f\"Satisfied = {satisfied_percent}\")\n",
    "print(f\"Dissatified = {dissatisfied_percent}\")"
   ]
  },
  {
   "cell_type": "markdown",
   "id": "8e9af132",
   "metadata": {},
   "source": [
    "With a difference of less than 10%, the responses can be seen as balanced. Therefore, the data needs no imbalanced-data treatment"
   ]
  },
  {
   "cell_type": "markdown",
   "id": "37f97eb8",
   "metadata": {},
   "source": [
    "**EDA2: Age Factor**"
   ]
  },
  {
   "cell_type": "code",
   "execution_count": 26,
   "id": "a113666c",
   "metadata": {},
   "outputs": [
    {
     "data": {
      "text/html": [
       "<div>\n",
       "<style scoped>\n",
       "    .dataframe tbody tr th:only-of-type {\n",
       "        vertical-align: middle;\n",
       "    }\n",
       "\n",
       "    .dataframe tbody tr th {\n",
       "        vertical-align: top;\n",
       "    }\n",
       "\n",
       "    .dataframe thead th {\n",
       "        text-align: right;\n",
       "    }\n",
       "</style>\n",
       "<table border=\"1\" class=\"dataframe\">\n",
       "  <thead>\n",
       "    <tr style=\"text-align: right;\">\n",
       "      <th></th>\n",
       "      <th>Age</th>\n",
       "    </tr>\n",
       "  </thead>\n",
       "  <tbody>\n",
       "    <tr>\n",
       "      <th>count</th>\n",
       "      <td>129880.000000</td>\n",
       "    </tr>\n",
       "    <tr>\n",
       "      <th>mean</th>\n",
       "      <td>39.427957</td>\n",
       "    </tr>\n",
       "    <tr>\n",
       "      <th>std</th>\n",
       "      <td>15.119360</td>\n",
       "    </tr>\n",
       "    <tr>\n",
       "      <th>min</th>\n",
       "      <td>7.000000</td>\n",
       "    </tr>\n",
       "    <tr>\n",
       "      <th>25%</th>\n",
       "      <td>27.000000</td>\n",
       "    </tr>\n",
       "    <tr>\n",
       "      <th>50%</th>\n",
       "      <td>40.000000</td>\n",
       "    </tr>\n",
       "    <tr>\n",
       "      <th>75%</th>\n",
       "      <td>51.000000</td>\n",
       "    </tr>\n",
       "    <tr>\n",
       "      <th>max</th>\n",
       "      <td>85.000000</td>\n",
       "    </tr>\n",
       "  </tbody>\n",
       "</table>\n",
       "</div>"
      ],
      "text/plain": [
       "                 Age\n",
       "count  129880.000000\n",
       "mean       39.427957\n",
       "std        15.119360\n",
       "min         7.000000\n",
       "25%        27.000000\n",
       "50%        40.000000\n",
       "75%        51.000000\n",
       "max        85.000000"
      ]
     },
     "execution_count": 26,
     "metadata": {},
     "output_type": "execute_result"
    },
    {
     "data": {
      "image/png": "[encoded data removed]",
      "text/plain": [
       "<Figure size 1440x576 with 1 Axes>"
      ]
     },
     "metadata": {
      "needs_background": "light"
     },
     "output_type": "display_data"
    }
   ],
   "source": [
    "plt.figure(figsize = (20, 8))\n",
    "\n",
    "plt1 = sns.histplot(data=data, x=\"Age\", hue=\"Satisfaction\", multiple=\"dodge\")\n",
    "plt1.set(xlabel = 'Age', ylabel= '')\n",
    "\n",
    "data_encode[['Age']].describe()"
   ]
  },
  {
   "cell_type": "markdown",
   "id": "6b6d4a0b",
   "metadata": {},
   "source": [
    "From the plot above, we can see that passengers at the age group of 40-60 give significantly more positive responses of satisfaction. Outside of that age group, the 'dissatisfied' responses are higher than 'satisfied'"
   ]
  },
  {
   "cell_type": "markdown",
   "id": "1bae536d",
   "metadata": {},
   "source": [
    "**EDA 3: Flight Distance**"
   ]
  },
  {
   "cell_type": "code",
   "execution_count": 27,
   "id": "0e8fc0a4",
   "metadata": {},
   "outputs": [
    {
     "data": {
      "text/html": [
       "<div>\n",
       "<style scoped>\n",
       "    .dataframe tbody tr th:only-of-type {\n",
       "        vertical-align: middle;\n",
       "    }\n",
       "\n",
       "    .dataframe tbody tr th {\n",
       "        vertical-align: top;\n",
       "    }\n",
       "\n",
       "    .dataframe thead th {\n",
       "        text-align: right;\n",
       "    }\n",
       "</style>\n",
       "<table border=\"1\" class=\"dataframe\">\n",
       "  <thead>\n",
       "    <tr style=\"text-align: right;\">\n",
       "      <th></th>\n",
       "      <th>Flight distance</th>\n",
       "    </tr>\n",
       "  </thead>\n",
       "  <tbody>\n",
       "    <tr>\n",
       "      <th>count</th>\n",
       "      <td>129880.000000</td>\n",
       "    </tr>\n",
       "    <tr>\n",
       "      <th>mean</th>\n",
       "      <td>1981.409055</td>\n",
       "    </tr>\n",
       "    <tr>\n",
       "      <th>std</th>\n",
       "      <td>1027.115606</td>\n",
       "    </tr>\n",
       "    <tr>\n",
       "      <th>min</th>\n",
       "      <td>50.000000</td>\n",
       "    </tr>\n",
       "    <tr>\n",
       "      <th>25%</th>\n",
       "      <td>1359.000000</td>\n",
       "    </tr>\n",
       "    <tr>\n",
       "      <th>50%</th>\n",
       "      <td>1925.000000</td>\n",
       "    </tr>\n",
       "    <tr>\n",
       "      <th>75%</th>\n",
       "      <td>2544.000000</td>\n",
       "    </tr>\n",
       "    <tr>\n",
       "      <th>max</th>\n",
       "      <td>6951.000000</td>\n",
       "    </tr>\n",
       "  </tbody>\n",
       "</table>\n",
       "</div>"
      ],
      "text/plain": [
       "       Flight distance\n",
       "count    129880.000000\n",
       "mean       1981.409055\n",
       "std        1027.115606\n",
       "min          50.000000\n",
       "25%        1359.000000\n",
       "50%        1925.000000\n",
       "75%        2544.000000\n",
       "max        6951.000000"
      ]
     },
     "execution_count": 27,
     "metadata": {},
     "output_type": "execute_result"
    },
    {
     "data": {
      "image/png": "[encoded data removed]",
      "text/plain": [
       "<Figure size 1440x576 with 1 Axes>"
      ]
     },
     "metadata": {
      "needs_background": "light"
     },
     "output_type": "display_data"
    }
   ],
   "source": [
    "plt.figure(figsize = (20, 8))\n",
    "\n",
    "plt1 = sns.histplot(data=data, x=\"Flight distance\", hue=\"Satisfaction\", multiple=\"dodge\")\n",
    "plt1.set(xlabel = 'Flight distance', ylabel= '')\n",
    "\n",
    "data_encode[['Flight distance']].describe()"
   ]
  },
  {
   "cell_type": "markdown",
   "id": "cd54bc46",
   "metadata": {},
   "source": [
    "From the plot above, we can see a trend where:\n",
    "- More satisfied responses occur in two distance groups: 0 - 1100km and above 2700km\n",
    "- More dissatisfied responses occur in flight distance range of 1150km to 2650km"
   ]
  },
  {
   "cell_type": "markdown",
   "id": "4e4cce62",
   "metadata": {},
   "source": [
    "**EDA 4: Gender Factor**"
   ]
  },
  {
   "cell_type": "code",
   "execution_count": 28,
   "id": "a3702dfe",
   "metadata": {},
   "outputs": [
    {
     "data": {
      "text/plain": [
       "[Text(0.5, 0, 'Gender'), Text(0, 0.5, '')]"
      ]
     },
     "execution_count": 28,
     "metadata": {},
     "output_type": "execute_result"
    },
    {
     "data": {
      "image/png": "[encoded data removed]",
      "text/plain": [
       "<Figure size 1440x360 with 1 Axes>"
      ]
     },
     "metadata": {
      "needs_background": "light"
     },
     "output_type": "display_data"
    }
   ],
   "source": [
    "plt.figure(figsize = (20, 5))\n",
    "\n",
    "plt1 = sns.histplot(data=data, x=\"Gender\", hue=\"Satisfaction\", multiple=\"dodge\", shrink=.8)\n",
    "plt1.set(xlabel = 'Gender', ylabel= '')"
   ]
  },
  {
   "cell_type": "markdown",
   "id": "977a8a32",
   "metadata": {},
   "source": [
    "Female passengers give higher proportion of satisfied response than male passengers."
   ]
  },
  {
   "cell_type": "markdown",
   "id": "7aa5c982",
   "metadata": {},
   "source": [
    "**EDA 5: Class Factor**"
   ]
  },
  {
   "cell_type": "code",
   "execution_count": 29,
   "id": "f8a6ec12",
   "metadata": {},
   "outputs": [
    {
     "data": {
      "text/plain": [
       "[Text(0.5, 0, 'Class'), Text(0, 0.5, '')]"
      ]
     },
     "execution_count": 29,
     "metadata": {},
     "output_type": "execute_result"
    },
    {
     "data": {
      "image/png": "[encoded data removed]",
      "text/plain": [
       "<Figure size 1440x360 with 1 Axes>"
      ]
     },
     "metadata": {
      "needs_background": "light"
     },
     "output_type": "display_data"
    }
   ],
   "source": [
    "plt.figure(figsize = (20, 5))\n",
    "\n",
    "plt1 = sns.histplot(data=data, x=\"Class\", hue=\"Satisfaction\", multiple=\"dodge\", shrink=.8)\n",
    "plt1.set(xlabel = 'Class', ylabel= '')"
   ]
  },
  {
   "cell_type": "markdown",
   "id": "d033b4b8",
   "metadata": {},
   "source": [
    "Business class is the only class out of three where satisfied responses are more than the dissatisfied ones. Dissatisfied responses are higher in both economy and economy plus classes, however, the proportion is a lot higher in economy class"
   ]
  },
  {
   "cell_type": "code",
   "execution_count": 30,
   "id": "6e3a6797",
   "metadata": {
    "scrolled": true
   },
   "outputs": [
    {
     "data": {
      "text/html": [
       "<div>\n",
       "<style scoped>\n",
       "    .dataframe tbody tr th:only-of-type {\n",
       "        vertical-align: middle;\n",
       "    }\n",
       "\n",
       "    .dataframe tbody tr th {\n",
       "        vertical-align: top;\n",
       "    }\n",
       "\n",
       "    .dataframe thead th {\n",
       "        text-align: right;\n",
       "    }\n",
       "</style>\n",
       "<table border=\"1\" class=\"dataframe\">\n",
       "  <thead>\n",
       "    <tr style=\"text-align: right;\">\n",
       "      <th></th>\n",
       "      <th>Satisfaction</th>\n",
       "      <th>Gender</th>\n",
       "      <th>Customer type</th>\n",
       "      <th>Age</th>\n",
       "      <th>Type of travel</th>\n",
       "      <th>Class</th>\n",
       "      <th>Flight distance</th>\n",
       "      <th>Seat comfort</th>\n",
       "      <th>Time convenience</th>\n",
       "      <th>Food and drink</th>\n",
       "      <th>Gate location</th>\n",
       "      <th>Inflight wifi</th>\n",
       "      <th>Inflight entertainment</th>\n",
       "      <th>Online support</th>\n",
       "      <th>Ease of online booking</th>\n",
       "      <th>On-board service</th>\n",
       "      <th>Legroom service</th>\n",
       "      <th>Baggage handling</th>\n",
       "      <th>Check-in service</th>\n",
       "      <th>Cleanliness</th>\n",
       "      <th>Online boarding</th>\n",
       "      <th>Departure delay</th>\n",
       "      <th>Arrival delay</th>\n",
       "    </tr>\n",
       "  </thead>\n",
       "  <tbody>\n",
       "    <tr>\n",
       "      <th>0</th>\n",
       "      <td>satisfied</td>\n",
       "      <td>Female</td>\n",
       "      <td>Loyal Customer</td>\n",
       "      <td>65</td>\n",
       "      <td>Personal Travel</td>\n",
       "      <td>Eco</td>\n",
       "      <td>265</td>\n",
       "      <td>3</td>\n",
       "      <td>4</td>\n",
       "      <td>3</td>\n",
       "      <td>2</td>\n",
       "      <td>2</td>\n",
       "      <td>4</td>\n",
       "      <td>2</td>\n",
       "      <td>3</td>\n",
       "      <td>3</td>\n",
       "      <td>4</td>\n",
       "      <td>3</td>\n",
       "      <td>5</td>\n",
       "      <td>3</td>\n",
       "      <td>2</td>\n",
       "      <td>0</td>\n",
       "      <td>0</td>\n",
       "    </tr>\n",
       "    <tr>\n",
       "      <th>1</th>\n",
       "      <td>satisfied</td>\n",
       "      <td>Male</td>\n",
       "      <td>Loyal Customer</td>\n",
       "      <td>47</td>\n",
       "      <td>Personal Travel</td>\n",
       "      <td>Business</td>\n",
       "      <td>2464</td>\n",
       "      <td>3</td>\n",
       "      <td>4</td>\n",
       "      <td>3</td>\n",
       "      <td>3</td>\n",
       "      <td>4</td>\n",
       "      <td>2</td>\n",
       "      <td>2</td>\n",
       "      <td>3</td>\n",
       "      <td>4</td>\n",
       "      <td>4</td>\n",
       "      <td>4</td>\n",
       "      <td>2</td>\n",
       "      <td>3</td>\n",
       "      <td>2</td>\n",
       "      <td>310</td>\n",
       "      <td>305</td>\n",
       "    </tr>\n",
       "    <tr>\n",
       "      <th>2</th>\n",
       "      <td>satisfied</td>\n",
       "      <td>Female</td>\n",
       "      <td>Loyal Customer</td>\n",
       "      <td>15</td>\n",
       "      <td>Personal Travel</td>\n",
       "      <td>Eco</td>\n",
       "      <td>2138</td>\n",
       "      <td>3</td>\n",
       "      <td>4</td>\n",
       "      <td>3</td>\n",
       "      <td>3</td>\n",
       "      <td>2</td>\n",
       "      <td>4</td>\n",
       "      <td>2</td>\n",
       "      <td>2</td>\n",
       "      <td>3</td>\n",
       "      <td>3</td>\n",
       "      <td>4</td>\n",
       "      <td>4</td>\n",
       "      <td>4</td>\n",
       "      <td>2</td>\n",
       "      <td>0</td>\n",
       "      <td>0</td>\n",
       "    </tr>\n",
       "    <tr>\n",
       "      <th>3</th>\n",
       "      <td>satisfied</td>\n",
       "      <td>Female</td>\n",
       "      <td>Loyal Customer</td>\n",
       "      <td>60</td>\n",
       "      <td>Personal Travel</td>\n",
       "      <td>Eco</td>\n",
       "      <td>623</td>\n",
       "      <td>3</td>\n",
       "      <td>4</td>\n",
       "      <td>3</td>\n",
       "      <td>3</td>\n",
       "      <td>3</td>\n",
       "      <td>4</td>\n",
       "      <td>3</td>\n",
       "      <td>1</td>\n",
       "      <td>1</td>\n",
       "      <td>4</td>\n",
       "      <td>1</td>\n",
       "      <td>4</td>\n",
       "      <td>1</td>\n",
       "      <td>3</td>\n",
       "      <td>0</td>\n",
       "      <td>0</td>\n",
       "    </tr>\n",
       "    <tr>\n",
       "      <th>4</th>\n",
       "      <td>satisfied</td>\n",
       "      <td>Female</td>\n",
       "      <td>Loyal Customer</td>\n",
       "      <td>70</td>\n",
       "      <td>Personal Travel</td>\n",
       "      <td>Eco</td>\n",
       "      <td>354</td>\n",
       "      <td>3</td>\n",
       "      <td>4</td>\n",
       "      <td>3</td>\n",
       "      <td>3</td>\n",
       "      <td>4</td>\n",
       "      <td>3</td>\n",
       "      <td>4</td>\n",
       "      <td>2</td>\n",
       "      <td>2</td>\n",
       "      <td>4</td>\n",
       "      <td>2</td>\n",
       "      <td>4</td>\n",
       "      <td>2</td>\n",
       "      <td>5</td>\n",
       "      <td>0</td>\n",
       "      <td>0</td>\n",
       "    </tr>\n",
       "  </tbody>\n",
       "</table>\n",
       "</div>"
      ],
      "text/plain": [
       "  Satisfaction  Gender   Customer type  Age   Type of travel     Class  \\\n",
       "0    satisfied  Female  Loyal Customer   65  Personal Travel       Eco   \n",
       "1    satisfied    Male  Loyal Customer   47  Personal Travel  Business   \n",
       "2    satisfied  Female  Loyal Customer   15  Personal Travel       Eco   \n",
       "3    satisfied  Female  Loyal Customer   60  Personal Travel       Eco   \n",
       "4    satisfied  Female  Loyal Customer   70  Personal Travel       Eco   \n",
       "\n",
       "   Flight distance  Seat comfort  Time convenience  Food and drink  \\\n",
       "0              265             3                 4               3   \n",
       "1             2464             3                 4               3   \n",
       "2             2138             3                 4               3   \n",
       "3              623             3                 4               3   \n",
       "4              354             3                 4               3   \n",
       "\n",
       "   Gate location  Inflight wifi  Inflight entertainment  Online support  \\\n",
       "0              2              2                       4               2   \n",
       "1              3              4                       2               2   \n",
       "2              3              2                       4               2   \n",
       "3              3              3                       4               3   \n",
       "4              3              4                       3               4   \n",
       "\n",
       "   Ease of online booking  On-board service  Legroom service  \\\n",
       "0                       3                 3                4   \n",
       "1                       3                 4                4   \n",
       "2                       2                 3                3   \n",
       "3                       1                 1                4   \n",
       "4                       2                 2                4   \n",
       "\n",
       "   Baggage handling  Check-in service  Cleanliness  Online boarding  \\\n",
       "0                 3                 5            3                2   \n",
       "1                 4                 2            3                2   \n",
       "2                 4                 4            4                2   \n",
       "3                 1                 4            1                3   \n",
       "4                 2                 4            2                5   \n",
       "\n",
       "   Departure delay  Arrival delay  \n",
       "0                0              0  \n",
       "1              310            305  \n",
       "2                0              0  \n",
       "3                0              0  \n",
       "4                0              0  "
      ]
     },
     "execution_count": 30,
     "metadata": {},
     "output_type": "execute_result"
    }
   ],
   "source": [
    "data.head()"
   ]
  },
  {
   "cell_type": "markdown",
   "id": "a69be038",
   "metadata": {},
   "source": [
    "**EDA 6: Flight Delay**"
   ]
  },
  {
   "cell_type": "code",
   "execution_count": 31,
   "id": "bb717372",
   "metadata": {
    "scrolled": false
   },
   "outputs": [
    {
     "data": {
      "text/html": [
       "<div>\n",
       "<style scoped>\n",
       "    .dataframe tbody tr th:only-of-type {\n",
       "        vertical-align: middle;\n",
       "    }\n",
       "\n",
       "    .dataframe tbody tr th {\n",
       "        vertical-align: top;\n",
       "    }\n",
       "\n",
       "    .dataframe thead th {\n",
       "        text-align: right;\n",
       "    }\n",
       "</style>\n",
       "<table border=\"1\" class=\"dataframe\">\n",
       "  <thead>\n",
       "    <tr style=\"text-align: right;\">\n",
       "      <th></th>\n",
       "      <th>Departure delay</th>\n",
       "      <th>Arrival delay</th>\n",
       "    </tr>\n",
       "  </thead>\n",
       "  <tbody>\n",
       "    <tr>\n",
       "      <th>count</th>\n",
       "      <td>129880.000000</td>\n",
       "      <td>129880.000000</td>\n",
       "    </tr>\n",
       "    <tr>\n",
       "      <th>mean</th>\n",
       "      <td>14.713713</td>\n",
       "      <td>15.160102</td>\n",
       "    </tr>\n",
       "    <tr>\n",
       "      <th>std</th>\n",
       "      <td>38.071126</td>\n",
       "      <td>38.599601</td>\n",
       "    </tr>\n",
       "    <tr>\n",
       "      <th>min</th>\n",
       "      <td>0.000000</td>\n",
       "      <td>0.000000</td>\n",
       "    </tr>\n",
       "    <tr>\n",
       "      <th>25%</th>\n",
       "      <td>0.000000</td>\n",
       "      <td>0.000000</td>\n",
       "    </tr>\n",
       "    <tr>\n",
       "      <th>50%</th>\n",
       "      <td>0.000000</td>\n",
       "      <td>0.000000</td>\n",
       "    </tr>\n",
       "    <tr>\n",
       "      <th>75%</th>\n",
       "      <td>12.000000</td>\n",
       "      <td>13.000000</td>\n",
       "    </tr>\n",
       "    <tr>\n",
       "      <th>max</th>\n",
       "      <td>1592.000000</td>\n",
       "      <td>1584.000000</td>\n",
       "    </tr>\n",
       "  </tbody>\n",
       "</table>\n",
       "</div>"
      ],
      "text/plain": [
       "       Departure delay  Arrival delay\n",
       "count    129880.000000  129880.000000\n",
       "mean         14.713713      15.160102\n",
       "std          38.071126      38.599601\n",
       "min           0.000000       0.000000\n",
       "25%           0.000000       0.000000\n",
       "50%           0.000000       0.000000\n",
       "75%          12.000000      13.000000\n",
       "max        1592.000000    1584.000000"
      ]
     },
     "execution_count": 31,
     "metadata": {},
     "output_type": "execute_result"
    },
    {
     "data": {
      "image/png": "[encoded data removed]",
      "text/plain": [
       "<Figure size 1440x360 with 2 Axes>"
      ]
     },
     "metadata": {
      "needs_background": "light"
     },
     "output_type": "display_data"
    }
   ],
   "source": [
    "plt.figure(figsize = (20, 5))\n",
    " \n",
    "# using subplot function and creating\n",
    "# plot one\n",
    "plt.subplot(1, 2, 1)\n",
    "plt1 = sns.boxplot(x=data_encode[\"Arrival delay\"], y=data_encode[\"Satisfaction\"], orient='h')\n",
    "plt1.set(xlabel = 'Arrival delay', ylabel= '')\n",
    " \n",
    "# using subplot function and creating plot two\n",
    "plt.subplot(1, 2, 2)\n",
    "plt1 = sns.boxplot(x=data_encode[\"Departure delay\"], y=data_encode[\"Satisfaction\"], orient='h')\n",
    "plt1.set(xlabel = 'Departure delay', ylabel= '')\n",
    "\n",
    "data_encode[['Departure delay', 'Arrival delay']].describe()\n"
   ]
  },
  {
   "cell_type": "markdown",
   "id": "5baa5631",
   "metadata": {},
   "source": [
    "As for the delays, I choose not to drop the outliers because the nature of delay by itself is an outlier -- people would expect their flights to run on time. Removing the outliers, especially as many as those in the plots, would mean losing significant information"
   ]
  },
  {
   "cell_type": "markdown",
   "id": "960a2b33",
   "metadata": {},
   "source": [
    "**EDA 7: Flight Delay**"
   ]
  },
  {
   "cell_type": "code",
   "execution_count": 32,
   "id": "07b1fb95",
   "metadata": {},
   "outputs": [
    {
     "data": {
      "text/plain": [
       "[Text(0.5, 0, 'Online boarding'), Text(0, 0.5, '')]"
      ]
     },
     "execution_count": 32,
     "metadata": {},
     "output_type": "execute_result"
    },
    {
     "data": {
      "image/png": "[encoded data removed]",
      "text/plain": [
       "<Figure size 1296x2016 with 14 Axes>"
      ]
     },
     "metadata": {
      "needs_background": "light"
     },
     "output_type": "display_data"
    }
   ],
   "source": [
    "fig, axs = plt.subplots(7, 2, figsize=(18, 28))\n",
    "\n",
    "plt1 = sns.countplot(data=data, x=\"Seat comfort\", hue=\"Satisfaction\", ax = axs[0,0])\n",
    "plt1.set(xlabel = 'Seat Comfort', ylabel= '')\n",
    "\n",
    "plt1 = sns.countplot(data=data, x=\"Time convenience\", hue=\"Satisfaction\", ax = axs[0,1])\n",
    "plt1.set(xlabel = 'Time convenience', ylabel= '')\n",
    "\n",
    "plt1 = sns.countplot(data=data, x=\"Food and drink\", hue=\"Satisfaction\", ax = axs[1,0])\n",
    "plt1.set(xlabel = 'Food and drink', ylabel= '')\n",
    "\n",
    "plt1 = sns.countplot(data=data, x=\"Gate location\", hue=\"Satisfaction\", ax = axs[1,1])\n",
    "plt1.set(xlabel = 'Gate location', ylabel= '')\n",
    "\n",
    "plt1 = sns.countplot(data=data, x=\"Inflight wifi\", hue=\"Satisfaction\", ax = axs[2,0])\n",
    "plt1.set(xlabel = 'Inflight wifi', ylabel= '')\n",
    "\n",
    "plt1 = sns.countplot(data=data, x=\"Inflight entertainment\", hue=\"Satisfaction\", ax = axs[2,1])\n",
    "plt1.set(xlabel = 'Inflight entertainment', ylabel= '')\n",
    "\n",
    "plt1 = sns.countplot(data=data, x=\"Online support\", hue=\"Satisfaction\", ax = axs[3,0])\n",
    "plt1.set(xlabel = 'Online support', ylabel= '')\n",
    "\n",
    "plt1 = sns.countplot(data=data, x=\"Ease of online booking\", hue=\"Satisfaction\", ax = axs[3,1])\n",
    "plt1.set(xlabel = 'Ease of online booking', ylabel= '')\n",
    "\n",
    "plt1 = sns.countplot(data=data, x=\"On-board service\", hue=\"Satisfaction\", ax = axs[4,0])\n",
    "plt1.set(xlabel = 'On-board service', ylabel= '')\n",
    "\n",
    "plt1 = sns.countplot(data=data, x=\"Legroom service\", hue=\"Satisfaction\", ax = axs[4,1])\n",
    "plt1.set(xlabel = 'Legroom service', ylabel= '')\n",
    "\n",
    "plt1 = sns.countplot(data=data, x=\"Baggage handling\", hue=\"Satisfaction\", ax = axs[5,0])\n",
    "plt1.set(xlabel = 'Baggage handling', ylabel= '')\n",
    "\n",
    "plt1 = sns.countplot(data=data, x=\"Check-in service\", hue=\"Satisfaction\", ax = axs[5,1])\n",
    "plt1.set(xlabel = 'Check-in service', ylabel= '')\n",
    "\n",
    "plt1 = sns.countplot(data=data, x=\"Cleanliness\", hue=\"Satisfaction\", ax = axs[6,0])\n",
    "plt1.set(xlabel = 'Cleanliness', ylabel= '')\n",
    "\n",
    "plt1 = sns.countplot(data=data, x=\"Online boarding\", hue=\"Satisfaction\", ax = axs[6,1])\n",
    "plt1.set(xlabel = 'Online boarding', ylabel= '')\n"
   ]
  },
  {
   "cell_type": "markdown",
   "id": "24b16fe1",
   "metadata": {},
   "source": [
    "Looking at the maximum value of survey response (5) in these 14 variables, 2 variables stand out: *seat comfort* and *inflight entertainment*. Almost all passengers who put 5 as their response to these two variables are satisfied. Could these two be the most important variables that contribute to passengers' satisfaction? To answer that, I use feature selection"
   ]
  },
  {
   "cell_type": "markdown",
   "id": "58581692",
   "metadata": {},
   "source": [
    "**Feature Selection 1: Heatmap Correlation**"
   ]
  },
  {
   "cell_type": "code",
   "execution_count": 33,
   "id": "f43a6a83",
   "metadata": {
    "scrolled": false
   },
   "outputs": [
    {
     "data": {
      "text/plain": [
       "<AxesSubplot:>"
      ]
     },
     "execution_count": 33,
     "metadata": {},
     "output_type": "execute_result"
    },
    {
     "data": {
      "image/png": "[encoded data removed]",
      "text/plain": [
       "<Figure size 1152x720 with 2 Axes>"
      ]
     },
     "metadata": {
      "needs_background": "light"
     },
     "output_type": "display_data"
    }
   ],
   "source": [
    "plt.figure(figsize = (16, 10))\n",
    "sns.heatmap(data_encode.corr().sort_values('Satisfaction', ascending=False), annot = True, cmap=\"YlGnBu\")"
   ]
  },
  {
   "cell_type": "markdown",
   "id": "2ed3ff8e",
   "metadata": {},
   "source": [
    "From the above heatmap plot, the top features that correlate strongly with Satisfaction are:\n",
    "\n",
    "Inflight entertainment, Ease of online booking, Online support, On-board service, Seat comfort, Online boarding, Legroom service, Class"
   ]
  },
  {
   "cell_type": "markdown",
   "id": "b66f79cd",
   "metadata": {},
   "source": [
    "**Feature Selection 2: Select K-best with chi-square**"
   ]
  },
  {
   "cell_type": "code",
   "execution_count": 34,
   "id": "cd5a0349",
   "metadata": {},
   "outputs": [],
   "source": [
    "#First we need to separate the target (i.e satisfaction) from other parameters\n",
    "\n",
    "x_B = data_encode.iloc[:, 1:] #ngambil semua kolom kecuali kolom paling kiri (Satisfaction)\n",
    "y_B = data_encode.iloc[:, :1] #ngambil kolom paling kiri yaitu Satisfaction"
   ]
  },
  {
   "cell_type": "code",
   "execution_count": 35,
   "id": "43a56296",
   "metadata": {},
   "outputs": [
    {
     "data": {
      "text/html": [
       "<div>\n",
       "<style scoped>\n",
       "    .dataframe tbody tr th:only-of-type {\n",
       "        vertical-align: middle;\n",
       "    }\n",
       "\n",
       "    .dataframe tbody tr th {\n",
       "        vertical-align: top;\n",
       "    }\n",
       "\n",
       "    .dataframe thead th {\n",
       "        text-align: right;\n",
       "    }\n",
       "</style>\n",
       "<table border=\"1\" class=\"dataframe\">\n",
       "  <thead>\n",
       "    <tr style=\"text-align: right;\">\n",
       "      <th></th>\n",
       "      <th>Feature</th>\n",
       "      <th>Score</th>\n",
       "    </tr>\n",
       "  </thead>\n",
       "  <tbody>\n",
       "    <tr>\n",
       "      <th>5</th>\n",
       "      <td>Flight distance</td>\n",
       "      <td>106393.364973</td>\n",
       "    </tr>\n",
       "    <tr>\n",
       "      <th>21</th>\n",
       "      <td>Arrival delay</td>\n",
       "      <td>82923.703772</td>\n",
       "    </tr>\n",
       "    <tr>\n",
       "      <th>20</th>\n",
       "      <td>Departure delay</td>\n",
       "      <td>69888.597859</td>\n",
       "    </tr>\n",
       "    <tr>\n",
       "      <th>11</th>\n",
       "      <td>Inflight entertainment</td>\n",
       "      <td>19668.653107</td>\n",
       "    </tr>\n",
       "    <tr>\n",
       "      <th>13</th>\n",
       "      <td>Ease of online booking</td>\n",
       "      <td>11858.783355</td>\n",
       "    </tr>\n",
       "    <tr>\n",
       "      <th>4</th>\n",
       "      <td>Class</td>\n",
       "      <td>10911.753420</td>\n",
       "    </tr>\n",
       "    <tr>\n",
       "      <th>2</th>\n",
       "      <td>Age</td>\n",
       "      <td>10479.848971</td>\n",
       "    </tr>\n",
       "    <tr>\n",
       "      <th>12</th>\n",
       "      <td>Online support</td>\n",
       "      <td>9586.187161</td>\n",
       "    </tr>\n",
       "    <tr>\n",
       "      <th>1</th>\n",
       "      <td>Customer type</td>\n",
       "      <td>9083.244789</td>\n",
       "    </tr>\n",
       "    <tr>\n",
       "      <th>6</th>\n",
       "      <td>Seat comfort</td>\n",
       "      <td>8445.692275</td>\n",
       "    </tr>\n",
       "    <tr>\n",
       "      <th>14</th>\n",
       "      <td>On-board service</td>\n",
       "      <td>7496.487052</td>\n",
       "    </tr>\n",
       "    <tr>\n",
       "      <th>19</th>\n",
       "      <td>Online boarding</td>\n",
       "      <td>7454.232520</td>\n",
       "    </tr>\n",
       "    <tr>\n",
       "      <th>15</th>\n",
       "      <td>Legroom service</td>\n",
       "      <td>5878.643838</td>\n",
       "    </tr>\n",
       "    <tr>\n",
       "      <th>17</th>\n",
       "      <td>Check-in service</td>\n",
       "      <td>4376.077654</td>\n",
       "    </tr>\n",
       "    <tr>\n",
       "      <th>10</th>\n",
       "      <td>Inflight wifi</td>\n",
       "      <td>3560.457763</td>\n",
       "    </tr>\n",
       "    <tr>\n",
       "      <th>16</th>\n",
       "      <td>Baggage handling</td>\n",
       "      <td>3185.871874</td>\n",
       "    </tr>\n",
       "    <tr>\n",
       "      <th>18</th>\n",
       "      <td>Cleanliness</td>\n",
       "      <td>3123.127246</td>\n",
       "    </tr>\n",
       "    <tr>\n",
       "      <th>0</th>\n",
       "      <td>Gender</td>\n",
       "      <td>2968.361917</td>\n",
       "    </tr>\n",
       "    <tr>\n",
       "      <th>8</th>\n",
       "      <td>Food and drink</td>\n",
       "      <td>2465.673137</td>\n",
       "    </tr>\n",
       "    <tr>\n",
       "      <th>3</th>\n",
       "      <td>Type of travel</td>\n",
       "      <td>1070.315608</td>\n",
       "    </tr>\n",
       "    <tr>\n",
       "      <th>7</th>\n",
       "      <td>Time convenience</td>\n",
       "      <td>27.332800</td>\n",
       "    </tr>\n",
       "    <tr>\n",
       "      <th>9</th>\n",
       "      <td>Gate location</td>\n",
       "      <td>10.735520</td>\n",
       "    </tr>\n",
       "  </tbody>\n",
       "</table>\n",
       "</div>"
      ],
      "text/plain": [
       "                   Feature          Score\n",
       "5          Flight distance  106393.364973\n",
       "21           Arrival delay   82923.703772\n",
       "20         Departure delay   69888.597859\n",
       "11  Inflight entertainment   19668.653107\n",
       "13  Ease of online booking   11858.783355\n",
       "4                    Class   10911.753420\n",
       "2                      Age   10479.848971\n",
       "12          Online support    9586.187161\n",
       "1            Customer type    9083.244789\n",
       "6             Seat comfort    8445.692275\n",
       "14        On-board service    7496.487052\n",
       "19         Online boarding    7454.232520\n",
       "15         Legroom service    5878.643838\n",
       "17        Check-in service    4376.077654\n",
       "10           Inflight wifi    3560.457763\n",
       "16        Baggage handling    3185.871874\n",
       "18             Cleanliness    3123.127246\n",
       "0                   Gender    2968.361917\n",
       "8           Food and drink    2465.673137\n",
       "3           Type of travel    1070.315608\n",
       "7         Time convenience      27.332800\n",
       "9            Gate location      10.735520"
      ]
     },
     "execution_count": 35,
     "metadata": {},
     "output_type": "execute_result"
    }
   ],
   "source": [
    "from sklearn.feature_selection import SelectKBest, chi2\n",
    "\n",
    "best_features = SelectKBest(score_func=chi2, k=16)\n",
    "#choosing the best, K= the number of features we want to see the best\n",
    "#the best based on what? Based on the score function of chi2\n",
    "\n",
    "fit = best_features.fit(x_B,y_B)\n",
    "#the algorithm \"SelectKBest\" will calculate chi2 from x to y, and will select the best 10\n",
    "\n",
    "#How to see the scores?\n",
    "#(fit.scores_)\n",
    "\n",
    "data_score = pd.DataFrame(fit.scores_)\n",
    "#putting the scores into DataFrame\n",
    "\n",
    "data_column = pd.DataFrame(x_B.columns)\n",
    "\n",
    "featurescore = pd.concat([data_column, data_score], axis=1)\n",
    "featurescore.columns = ['Feature', 'Score']\n",
    "featurescore.sort_values('Score', ascending = False)"
   ]
  },
  {
   "cell_type": "markdown",
   "id": "cfce01a2",
   "metadata": {},
   "source": [
    "From the above score table, the top features are: Flight distance, Arrival delay, Departure delay, Inflight entertainment, Ease of online booking, Class, Age, Online support, Customer type, and Seat comfort"
   ]
  },
  {
   "cell_type": "markdown",
   "id": "98174a0d",
   "metadata": {},
   "source": [
    "Since the results of feature selection using these two methods are quite different, I decide to employ other method to discover which top features are the significant ones using **Feature Importance**, for 3 models of machine learning, namely: **Logistic Regression, Random Forest, and Decision Tree**"
   ]
  },
  {
   "cell_type": "markdown",
   "id": "2cbc50dc",
   "metadata": {},
   "source": [
    "**Train-test Split**"
   ]
  },
  {
   "cell_type": "code",
   "execution_count": 36,
   "id": "56b3ab5b",
   "metadata": {},
   "outputs": [],
   "source": [
    "from sklearn.model_selection import train_test_split"
   ]
  },
  {
   "cell_type": "code",
   "execution_count": 37,
   "id": "838ebdef",
   "metadata": {},
   "outputs": [],
   "source": [
    "X = data_encode.drop(columns=['Satisfaction'])\n",
    "y = data_encode['Satisfaction']"
   ]
  },
  {
   "cell_type": "code",
   "execution_count": 38,
   "id": "19d70b8a",
   "metadata": {},
   "outputs": [],
   "source": [
    "X_train, X_test, y_train, y_test = train_test_split(X, y, test_size=0.2, random_state=42)"
   ]
  },
  {
   "cell_type": "code",
   "execution_count": 39,
   "id": "83c22cdd",
   "metadata": {},
   "outputs": [],
   "source": [
    "from sklearn.metrics import classification_report\n",
    "from sklearn.metrics import plot_confusion_matrix\n",
    "from sklearn.metrics import roc_auc_score"
   ]
  },
  {
   "cell_type": "markdown",
   "id": "21e353ef",
   "metadata": {},
   "source": [
    "**A1. Feature Importance in Logistic Regression model**"
   ]
  },
  {
   "cell_type": "code",
   "execution_count": 40,
   "id": "a9afddb7",
   "metadata": {},
   "outputs": [],
   "source": [
    "from sklearn.linear_model import LogisticRegression\n",
    "modelLR = LogisticRegression()"
   ]
  },
  {
   "cell_type": "code",
   "execution_count": 41,
   "id": "0d318c74",
   "metadata": {},
   "outputs": [
    {
     "data": {
      "text/plain": [
       "LogisticRegression()"
      ]
     },
     "execution_count": 41,
     "metadata": {},
     "output_type": "execute_result"
    }
   ],
   "source": [
    "#fit the model\n",
    "modelLR.fit(X, y)"
   ]
  },
  {
   "cell_type": "code",
   "execution_count": 42,
   "id": "9638dae5",
   "metadata": {},
   "outputs": [],
   "source": [
    "#get importance\n",
    "importanceLR = modelLR.coef_[0]\n",
    "featureLR = X.columns.tolist()"
   ]
  },
  {
   "cell_type": "code",
   "execution_count": 43,
   "id": "14050eba",
   "metadata": {},
   "outputs": [
    {
     "data": {
      "text/html": [
       "<div>\n",
       "<style scoped>\n",
       "    .dataframe tbody tr th:only-of-type {\n",
       "        vertical-align: middle;\n",
       "    }\n",
       "\n",
       "    .dataframe tbody tr th {\n",
       "        vertical-align: top;\n",
       "    }\n",
       "\n",
       "    .dataframe thead th {\n",
       "        text-align: right;\n",
       "    }\n",
       "</style>\n",
       "<table border=\"1\" class=\"dataframe\">\n",
       "  <thead>\n",
       "    <tr style=\"text-align: right;\">\n",
       "      <th></th>\n",
       "      <th>Feature</th>\n",
       "      <th>Score</th>\n",
       "    </tr>\n",
       "  </thead>\n",
       "  <tbody>\n",
       "    <tr>\n",
       "      <th>11</th>\n",
       "      <td>Inflight entertainment</td>\n",
       "      <td>0.592601</td>\n",
       "    </tr>\n",
       "    <tr>\n",
       "      <th>4</th>\n",
       "      <td>Class</td>\n",
       "      <td>0.370777</td>\n",
       "    </tr>\n",
       "    <tr>\n",
       "      <th>13</th>\n",
       "      <td>Ease of online booking</td>\n",
       "      <td>0.247819</td>\n",
       "    </tr>\n",
       "    <tr>\n",
       "      <th>6</th>\n",
       "      <td>Seat comfort</td>\n",
       "      <td>0.235038</td>\n",
       "    </tr>\n",
       "    <tr>\n",
       "      <th>12</th>\n",
       "      <td>Online support</td>\n",
       "      <td>0.200204</td>\n",
       "    </tr>\n",
       "    <tr>\n",
       "      <th>14</th>\n",
       "      <td>On-board service</td>\n",
       "      <td>0.164889</td>\n",
       "    </tr>\n",
       "    <tr>\n",
       "      <th>15</th>\n",
       "      <td>Legroom service</td>\n",
       "      <td>0.116290</td>\n",
       "    </tr>\n",
       "    <tr>\n",
       "      <th>19</th>\n",
       "      <td>Online boarding</td>\n",
       "      <td>0.106435</td>\n",
       "    </tr>\n",
       "    <tr>\n",
       "      <th>17</th>\n",
       "      <td>Check-in service</td>\n",
       "      <td>0.059384</td>\n",
       "    </tr>\n",
       "    <tr>\n",
       "      <th>20</th>\n",
       "      <td>Departure delay</td>\n",
       "      <td>0.007824</td>\n",
       "    </tr>\n",
       "  </tbody>\n",
       "</table>\n",
       "</div>"
      ],
      "text/plain": [
       "                   Feature     Score\n",
       "11  Inflight entertainment  0.592601\n",
       "4                    Class  0.370777\n",
       "13  Ease of online booking  0.247819\n",
       "6             Seat comfort  0.235038\n",
       "12          Online support  0.200204\n",
       "14        On-board service  0.164889\n",
       "15         Legroom service  0.116290\n",
       "19         Online boarding  0.106435\n",
       "17        Check-in service  0.059384\n",
       "20         Departure delay  0.007824"
      ]
     },
     "execution_count": 43,
     "metadata": {},
     "output_type": "execute_result"
    }
   ],
   "source": [
    "#Selecting top 10 important features\n",
    "feat_impLR = pd.DataFrame(list(zip(featureLR, importanceLR)), columns =['Feature', 'Score'])\n",
    "feat_impLR.sort_values(by='Score', ascending=False).head(10)"
   ]
  },
  {
   "cell_type": "markdown",
   "id": "074e014f",
   "metadata": {},
   "source": [
    "**A2. Wrapper Method Feature Importance in Logistic Regression**"
   ]
  },
  {
   "cell_type": "code",
   "execution_count": 44,
   "id": "8ee16016",
   "metadata": {},
   "outputs": [
    {
     "name": "stdout",
     "output_type": "stream",
     "text": [
      "['Gender', 'Customer type', 'Class', 'Seat comfort', 'Time convenience', 'Gate location', 'Inflight entertainment', 'Online support', 'Ease of online booking']\n"
     ]
    }
   ],
   "source": [
    "from sklearn.feature_selection import SelectFromModel\n",
    "\n",
    "selectorLR = SelectFromModel(estimator=LogisticRegression()).fit(X, y)\n",
    "supportLR = selectorLR.get_support()\n",
    "featuresLR = X.loc[:,supportLR].columns.tolist()\n",
    "print(featuresLR)"
   ]
  },
  {
   "cell_type": "markdown",
   "id": "de24fde0",
   "metadata": {},
   "source": [
    "**A3. Feature Permutation Importance in Logistic Regression**"
   ]
  },
  {
   "cell_type": "code",
   "execution_count": 45,
   "id": "46ddc479",
   "metadata": {},
   "outputs": [
    {
     "data": {
      "text/html": [
       "\n",
       "    <style>\n",
       "    table.eli5-weights tr:hover {\n",
       "        filter: brightness(85%);\n",
       "    }\n",
       "</style>\n",
       "\n",
       "\n",
       "\n",
       "    \n",
       "\n",
       "    \n",
       "\n",
       "    \n",
       "\n",
       "    \n",
       "\n",
       "    \n",
       "\n",
       "    \n",
       "\n",
       "\n",
       "    \n",
       "\n",
       "    \n",
       "\n",
       "    \n",
       "\n",
       "    \n",
       "\n",
       "    \n",
       "\n",
       "    \n",
       "\n",
       "\n",
       "    \n",
       "\n",
       "    \n",
       "\n",
       "    \n",
       "\n",
       "    \n",
       "\n",
       "    \n",
       "        <table class=\"eli5-weights eli5-feature-importances\" style=\"border-collapse: collapse; border: none; margin-top: 0em; table-layout: auto;\">\n",
       "    <thead>\n",
       "    <tr style=\"border: none;\">\n",
       "        <th style=\"padding: 0 1em 0 0.5em; text-align: right; border: none;\">Weight</th>\n",
       "        <th style=\"padding: 0 0.5em 0 0.5em; text-align: left; border: none;\">Feature</th>\n",
       "    </tr>\n",
       "    </thead>\n",
       "    <tbody>\n",
       "    \n",
       "        <tr style=\"background-color: hsl(120, 100.00%, 80.00%); border: none;\">\n",
       "            <td style=\"padding: 0 1em 0 0.5em; text-align: right; border: none;\">\n",
       "                0.1001\n",
       "                \n",
       "                    &plusmn; 0.0008\n",
       "                \n",
       "            </td>\n",
       "            <td style=\"padding: 0 0.5em 0 0.5em; text-align: left; border: none;\">\n",
       "                Inflight entertainment\n",
       "            </td>\n",
       "        </tr>\n",
       "    \n",
       "        <tr style=\"background-color: hsl(120, 100.00%, 89.87%); border: none;\">\n",
       "            <td style=\"padding: 0 1em 0 0.5em; text-align: right; border: none;\">\n",
       "                0.0379\n",
       "                \n",
       "                    &plusmn; 0.0009\n",
       "                \n",
       "            </td>\n",
       "            <td style=\"padding: 0 0.5em 0 0.5em; text-align: left; border: none;\">\n",
       "                Seat comfort\n",
       "            </td>\n",
       "        </tr>\n",
       "    \n",
       "        <tr style=\"background-color: hsl(120, 100.00%, 92.41%); border: none;\">\n",
       "            <td style=\"padding: 0 1em 0 0.5em; text-align: right; border: none;\">\n",
       "                0.0251\n",
       "                \n",
       "                    &plusmn; 0.0011\n",
       "                \n",
       "            </td>\n",
       "            <td style=\"padding: 0 0.5em 0 0.5em; text-align: left; border: none;\">\n",
       "                Class\n",
       "            </td>\n",
       "        </tr>\n",
       "    \n",
       "        <tr style=\"background-color: hsl(120, 100.00%, 93.44%); border: none;\">\n",
       "            <td style=\"padding: 0 1em 0 0.5em; text-align: right; border: none;\">\n",
       "                0.0204\n",
       "                \n",
       "                    &plusmn; 0.0006\n",
       "                \n",
       "            </td>\n",
       "            <td style=\"padding: 0 0.5em 0 0.5em; text-align: left; border: none;\">\n",
       "                Ease of online booking\n",
       "            </td>\n",
       "        </tr>\n",
       "    \n",
       "        <tr style=\"background-color: hsl(120, 100.00%, 94.87%); border: none;\">\n",
       "            <td style=\"padding: 0 1em 0 0.5em; text-align: right; border: none;\">\n",
       "                0.0143\n",
       "                \n",
       "                    &plusmn; 0.0010\n",
       "                \n",
       "            </td>\n",
       "            <td style=\"padding: 0 0.5em 0 0.5em; text-align: left; border: none;\">\n",
       "                Arrival delay\n",
       "            </td>\n",
       "        </tr>\n",
       "    \n",
       "        <tr style=\"background-color: hsl(120, 100.00%, 95.03%); border: none;\">\n",
       "            <td style=\"padding: 0 1em 0 0.5em; text-align: right; border: none;\">\n",
       "                0.0137\n",
       "                \n",
       "                    &plusmn; 0.0005\n",
       "                \n",
       "            </td>\n",
       "            <td style=\"padding: 0 0.5em 0 0.5em; text-align: left; border: none;\">\n",
       "                On-board service\n",
       "            </td>\n",
       "        </tr>\n",
       "    \n",
       "        <tr style=\"background-color: hsl(120, 100.00%, 95.25%); border: none;\">\n",
       "            <td style=\"padding: 0 1em 0 0.5em; text-align: right; border: none;\">\n",
       "                0.0129\n",
       "                \n",
       "                    &plusmn; 0.0004\n",
       "                \n",
       "            </td>\n",
       "            <td style=\"padding: 0 0.5em 0 0.5em; text-align: left; border: none;\">\n",
       "                Online support\n",
       "            </td>\n",
       "        </tr>\n",
       "    \n",
       "        <tr style=\"background-color: hsl(120, 100.00%, 95.83%); border: none;\">\n",
       "            <td style=\"padding: 0 1em 0 0.5em; text-align: right; border: none;\">\n",
       "                0.0107\n",
       "                \n",
       "                    &plusmn; 0.0009\n",
       "                \n",
       "            </td>\n",
       "            <td style=\"padding: 0 0.5em 0 0.5em; text-align: left; border: none;\">\n",
       "                Flight distance\n",
       "            </td>\n",
       "        </tr>\n",
       "    \n",
       "        <tr style=\"background-color: hsl(120, 100.00%, 96.60%); border: none;\">\n",
       "            <td style=\"padding: 0 1em 0 0.5em; text-align: right; border: none;\">\n",
       "                0.0080\n",
       "                \n",
       "                    &plusmn; 0.0003\n",
       "                \n",
       "            </td>\n",
       "            <td style=\"padding: 0 0.5em 0 0.5em; text-align: left; border: none;\">\n",
       "                Legroom service\n",
       "            </td>\n",
       "        </tr>\n",
       "    \n",
       "        <tr style=\"background-color: hsl(120, 100.00%, 96.89%); border: none;\">\n",
       "            <td style=\"padding: 0 1em 0 0.5em; text-align: right; border: none;\">\n",
       "                0.0070\n",
       "                \n",
       "                    &plusmn; 0.0003\n",
       "                \n",
       "            </td>\n",
       "            <td style=\"padding: 0 0.5em 0 0.5em; text-align: left; border: none;\">\n",
       "                Customer type\n",
       "            </td>\n",
       "        </tr>\n",
       "    \n",
       "    \n",
       "        \n",
       "            <tr style=\"background-color: hsl(120, 100.00%, 96.89%); border: none;\">\n",
       "                <td colspan=\"2\" style=\"padding: 0 0.5em 0 0.5em; text-align: center; border: none; white-space: nowrap;\">\n",
       "                    <i>&hellip; 12 more &hellip;</i>\n",
       "                </td>\n",
       "            </tr>\n",
       "        \n",
       "    \n",
       "    </tbody>\n",
       "</table>\n",
       "    \n",
       "\n",
       "    \n",
       "\n",
       "\n",
       "    \n",
       "\n",
       "    \n",
       "\n",
       "    \n",
       "\n",
       "    \n",
       "\n",
       "    \n",
       "\n",
       "    \n",
       "\n",
       "\n",
       "\n"
      ],
      "text/plain": [
       "<IPython.core.display.HTML object>"
      ]
     },
     "execution_count": 45,
     "metadata": {},
     "output_type": "execute_result"
    }
   ],
   "source": [
    "from eli5 import show_weights\n",
    "from eli5.sklearn import PermutationImportance\n",
    "\n",
    "permLR = PermutationImportance(modelLR.fit(X,y),random_state=1).fit(X,y)\n",
    "show_weights(permLR, feature_names = X_train.columns.tolist(), top=10)"
   ]
  },
  {
   "cell_type": "markdown",
   "id": "379beda3",
   "metadata": {},
   "source": [
    "**B1. Feature Importance in Random Forest model**"
   ]
  },
  {
   "cell_type": "code",
   "execution_count": 46,
   "id": "117c0a51",
   "metadata": {},
   "outputs": [
    {
     "data": {
      "text/plain": [
       "RandomForestClassifier()"
      ]
     },
     "execution_count": 46,
     "metadata": {},
     "output_type": "execute_result"
    }
   ],
   "source": [
    "from sklearn.ensemble import RandomForestClassifier\n",
    "model = RandomForestClassifier()\n",
    "\n",
    "#fit the model\n",
    "model.fit(X, y)"
   ]
  },
  {
   "cell_type": "code",
   "execution_count": 47,
   "id": "670922b7",
   "metadata": {},
   "outputs": [],
   "source": [
    "#get importance\n",
    "importance = model.feature_importances_.tolist()\n",
    "feature = X.columns.tolist()"
   ]
  },
  {
   "cell_type": "code",
   "execution_count": 48,
   "id": "f87da104",
   "metadata": {
    "scrolled": true
   },
   "outputs": [
    {
     "data": {
      "text/html": [
       "<div>\n",
       "<style scoped>\n",
       "    .dataframe tbody tr th:only-of-type {\n",
       "        vertical-align: middle;\n",
       "    }\n",
       "\n",
       "    .dataframe tbody tr th {\n",
       "        vertical-align: top;\n",
       "    }\n",
       "\n",
       "    .dataframe thead th {\n",
       "        text-align: right;\n",
       "    }\n",
       "</style>\n",
       "<table border=\"1\" class=\"dataframe\">\n",
       "  <thead>\n",
       "    <tr style=\"text-align: right;\">\n",
       "      <th></th>\n",
       "      <th>Feature</th>\n",
       "      <th>Score</th>\n",
       "    </tr>\n",
       "  </thead>\n",
       "  <tbody>\n",
       "    <tr>\n",
       "      <th>11</th>\n",
       "      <td>Inflight entertainment</td>\n",
       "      <td>0.209467</td>\n",
       "    </tr>\n",
       "    <tr>\n",
       "      <th>6</th>\n",
       "      <td>Seat comfort</td>\n",
       "      <td>0.107245</td>\n",
       "    </tr>\n",
       "    <tr>\n",
       "      <th>13</th>\n",
       "      <td>Ease of online booking</td>\n",
       "      <td>0.074951</td>\n",
       "    </tr>\n",
       "    <tr>\n",
       "      <th>12</th>\n",
       "      <td>Online support</td>\n",
       "      <td>0.065941</td>\n",
       "    </tr>\n",
       "    <tr>\n",
       "      <th>1</th>\n",
       "      <td>Customer type</td>\n",
       "      <td>0.044486</td>\n",
       "    </tr>\n",
       "    <tr>\n",
       "      <th>15</th>\n",
       "      <td>Legroom service</td>\n",
       "      <td>0.043508</td>\n",
       "    </tr>\n",
       "    <tr>\n",
       "      <th>14</th>\n",
       "      <td>On-board service</td>\n",
       "      <td>0.040595</td>\n",
       "    </tr>\n",
       "    <tr>\n",
       "      <th>5</th>\n",
       "      <td>Flight distance</td>\n",
       "      <td>0.038601</td>\n",
       "    </tr>\n",
       "    <tr>\n",
       "      <th>4</th>\n",
       "      <td>Class</td>\n",
       "      <td>0.035209</td>\n",
       "    </tr>\n",
       "    <tr>\n",
       "      <th>2</th>\n",
       "      <td>Age</td>\n",
       "      <td>0.034331</td>\n",
       "    </tr>\n",
       "  </tbody>\n",
       "</table>\n",
       "</div>"
      ],
      "text/plain": [
       "                   Feature     Score\n",
       "11  Inflight entertainment  0.209467\n",
       "6             Seat comfort  0.107245\n",
       "13  Ease of online booking  0.074951\n",
       "12          Online support  0.065941\n",
       "1            Customer type  0.044486\n",
       "15         Legroom service  0.043508\n",
       "14        On-board service  0.040595\n",
       "5          Flight distance  0.038601\n",
       "4                    Class  0.035209\n",
       "2                      Age  0.034331"
      ]
     },
     "execution_count": 48,
     "metadata": {},
     "output_type": "execute_result"
    }
   ],
   "source": [
    "feat_imp = pd.DataFrame(list(zip(feature, importance)), columns =['Feature', 'Score'])\n",
    "feat_imp.sort_values(by='Score', ascending=False).head(10)"
   ]
  },
  {
   "cell_type": "markdown",
   "id": "3380fe91",
   "metadata": {},
   "source": [
    "**B2. Wrapper Method Feature Importance in Random Forest**"
   ]
  },
  {
   "cell_type": "code",
   "execution_count": 49,
   "id": "e672a06e",
   "metadata": {
    "scrolled": true
   },
   "outputs": [
    {
     "name": "stdout",
     "output_type": "stream",
     "text": [
      "['Customer type', 'Seat comfort', 'Inflight entertainment', 'Online support', 'Ease of online booking']\n"
     ]
    }
   ],
   "source": [
    "from sklearn.feature_selection import SelectFromModel\n",
    "from sklearn.ensemble import RandomForestClassifier as rf\n",
    "\n",
    "selector = SelectFromModel(rf(n_estimators=100, random_state=0))\n",
    "selector.fit(X, y)\n",
    "support = selector.get_support()\n",
    "features = X.loc[:,support].columns.tolist()\n",
    "print(features)"
   ]
  },
  {
   "cell_type": "markdown",
   "id": "e033da6a",
   "metadata": {},
   "source": [
    "**B3. Feature Permutation Importance in Random Forest**"
   ]
  },
  {
   "cell_type": "code",
   "execution_count": 50,
   "id": "4d01ec0f",
   "metadata": {},
   "outputs": [
    {
     "data": {
      "text/html": [
       "\n",
       "    <style>\n",
       "    table.eli5-weights tr:hover {\n",
       "        filter: brightness(85%);\n",
       "    }\n",
       "</style>\n",
       "\n",
       "\n",
       "\n",
       "    \n",
       "\n",
       "    \n",
       "\n",
       "    \n",
       "\n",
       "    \n",
       "\n",
       "    \n",
       "\n",
       "    \n",
       "\n",
       "\n",
       "    \n",
       "\n",
       "    \n",
       "\n",
       "    \n",
       "\n",
       "    \n",
       "\n",
       "    \n",
       "\n",
       "    \n",
       "\n",
       "\n",
       "    \n",
       "\n",
       "    \n",
       "\n",
       "    \n",
       "\n",
       "    \n",
       "\n",
       "    \n",
       "        <table class=\"eli5-weights eli5-feature-importances\" style=\"border-collapse: collapse; border: none; margin-top: 0em; table-layout: auto;\">\n",
       "    <thead>\n",
       "    <tr style=\"border: none;\">\n",
       "        <th style=\"padding: 0 1em 0 0.5em; text-align: right; border: none;\">Weight</th>\n",
       "        <th style=\"padding: 0 0.5em 0 0.5em; text-align: left; border: none;\">Feature</th>\n",
       "    </tr>\n",
       "    </thead>\n",
       "    <tbody>\n",
       "    \n",
       "        <tr style=\"background-color: hsl(120, 100.00%, 80.00%); border: none;\">\n",
       "            <td style=\"padding: 0 1em 0 0.5em; text-align: right; border: none;\">\n",
       "                0.1272\n",
       "                \n",
       "                    &plusmn; 0.0015\n",
       "                \n",
       "            </td>\n",
       "            <td style=\"padding: 0 0.5em 0 0.5em; text-align: left; border: none;\">\n",
       "                Seat comfort\n",
       "            </td>\n",
       "        </tr>\n",
       "    \n",
       "        <tr style=\"background-color: hsl(120, 100.00%, 85.26%); border: none;\">\n",
       "            <td style=\"padding: 0 1em 0 0.5em; text-align: right; border: none;\">\n",
       "                0.0822\n",
       "                \n",
       "                    &plusmn; 0.0007\n",
       "                \n",
       "            </td>\n",
       "            <td style=\"padding: 0 0.5em 0 0.5em; text-align: left; border: none;\">\n",
       "                Inflight entertainment\n",
       "            </td>\n",
       "        </tr>\n",
       "    \n",
       "        <tr style=\"background-color: hsl(120, 100.00%, 87.30%); border: none;\">\n",
       "            <td style=\"padding: 0 1em 0 0.5em; text-align: right; border: none;\">\n",
       "                0.0664\n",
       "                \n",
       "                    &plusmn; 0.0008\n",
       "                \n",
       "            </td>\n",
       "            <td style=\"padding: 0 0.5em 0 0.5em; text-align: left; border: none;\">\n",
       "                Customer type\n",
       "            </td>\n",
       "        </tr>\n",
       "    \n",
       "        <tr style=\"background-color: hsl(120, 100.00%, 89.25%); border: none;\">\n",
       "            <td style=\"padding: 0 1em 0 0.5em; text-align: right; border: none;\">\n",
       "                0.0524\n",
       "                \n",
       "                    &plusmn; 0.0008\n",
       "                \n",
       "            </td>\n",
       "            <td style=\"padding: 0 0.5em 0 0.5em; text-align: left; border: none;\">\n",
       "                Gender\n",
       "            </td>\n",
       "        </tr>\n",
       "    \n",
       "        <tr style=\"background-color: hsl(120, 100.00%, 92.15%); border: none;\">\n",
       "            <td style=\"padding: 0 1em 0 0.5em; text-align: right; border: none;\">\n",
       "                0.0334\n",
       "                \n",
       "                    &plusmn; 0.0004\n",
       "                \n",
       "            </td>\n",
       "            <td style=\"padding: 0 0.5em 0 0.5em; text-align: left; border: none;\">\n",
       "                Type of travel\n",
       "            </td>\n",
       "        </tr>\n",
       "    \n",
       "        <tr style=\"background-color: hsl(120, 100.00%, 92.28%); border: none;\">\n",
       "            <td style=\"padding: 0 1em 0 0.5em; text-align: right; border: none;\">\n",
       "                0.0326\n",
       "                \n",
       "                    &plusmn; 0.0011\n",
       "                \n",
       "            </td>\n",
       "            <td style=\"padding: 0 0.5em 0 0.5em; text-align: left; border: none;\">\n",
       "                Check-in service\n",
       "            </td>\n",
       "        </tr>\n",
       "    \n",
       "        <tr style=\"background-color: hsl(120, 100.00%, 92.55%); border: none;\">\n",
       "            <td style=\"padding: 0 1em 0 0.5em; text-align: right; border: none;\">\n",
       "                0.0310\n",
       "                \n",
       "                    &plusmn; 0.0005\n",
       "                \n",
       "            </td>\n",
       "            <td style=\"padding: 0 0.5em 0 0.5em; text-align: left; border: none;\">\n",
       "                Online support\n",
       "            </td>\n",
       "        </tr>\n",
       "    \n",
       "        <tr style=\"background-color: hsl(120, 100.00%, 93.88%); border: none;\">\n",
       "            <td style=\"padding: 0 1em 0 0.5em; text-align: right; border: none;\">\n",
       "                0.0234\n",
       "                \n",
       "                    &plusmn; 0.0004\n",
       "                \n",
       "            </td>\n",
       "            <td style=\"padding: 0 0.5em 0 0.5em; text-align: left; border: none;\">\n",
       "                Baggage handling\n",
       "            </td>\n",
       "        </tr>\n",
       "    \n",
       "        <tr style=\"background-color: hsl(120, 100.00%, 94.30%); border: none;\">\n",
       "            <td style=\"padding: 0 1em 0 0.5em; text-align: right; border: none;\">\n",
       "                0.0212\n",
       "                \n",
       "                    &plusmn; 0.0004\n",
       "                \n",
       "            </td>\n",
       "            <td style=\"padding: 0 0.5em 0 0.5em; text-align: left; border: none;\">\n",
       "                Cleanliness\n",
       "            </td>\n",
       "        </tr>\n",
       "    \n",
       "        <tr style=\"background-color: hsl(120, 100.00%, 94.35%); border: none;\">\n",
       "            <td style=\"padding: 0 1em 0 0.5em; text-align: right; border: none;\">\n",
       "                0.0209\n",
       "                \n",
       "                    &plusmn; 0.0003\n",
       "                \n",
       "            </td>\n",
       "            <td style=\"padding: 0 0.5em 0 0.5em; text-align: left; border: none;\">\n",
       "                Online boarding\n",
       "            </td>\n",
       "        </tr>\n",
       "    \n",
       "    \n",
       "        \n",
       "            <tr style=\"background-color: hsl(120, 100.00%, 94.35%); border: none;\">\n",
       "                <td colspan=\"2\" style=\"padding: 0 0.5em 0 0.5em; text-align: center; border: none; white-space: nowrap;\">\n",
       "                    <i>&hellip; 12 more &hellip;</i>\n",
       "                </td>\n",
       "            </tr>\n",
       "        \n",
       "    \n",
       "    </tbody>\n",
       "</table>\n",
       "    \n",
       "\n",
       "    \n",
       "\n",
       "\n",
       "    \n",
       "\n",
       "    \n",
       "\n",
       "    \n",
       "\n",
       "    \n",
       "\n",
       "    \n",
       "\n",
       "    \n",
       "\n",
       "\n",
       "\n"
      ],
      "text/plain": [
       "<IPython.core.display.HTML object>"
      ]
     },
     "execution_count": 50,
     "metadata": {},
     "output_type": "execute_result"
    }
   ],
   "source": [
    "perm = PermutationImportance(rf(n_estimators=100, random_state=0).fit(X,y),random_state=1).fit(X,y)\n",
    "show_weights(perm, feature_names = X.columns.tolist(), top=10)"
   ]
  },
  {
   "cell_type": "markdown",
   "id": "f44eac79",
   "metadata": {},
   "source": [
    "**C1. Feature Importance in Random Forest model**"
   ]
  },
  {
   "cell_type": "code",
   "execution_count": 51,
   "id": "ee517bc6",
   "metadata": {},
   "outputs": [],
   "source": [
    "from sklearn.tree import DecisionTreeClassifier\n",
    "modelDT = DecisionTreeClassifier()"
   ]
  },
  {
   "cell_type": "code",
   "execution_count": 52,
   "id": "e2448684",
   "metadata": {},
   "outputs": [
    {
     "data": {
      "text/plain": [
       "DecisionTreeClassifier()"
      ]
     },
     "execution_count": 52,
     "metadata": {},
     "output_type": "execute_result"
    }
   ],
   "source": [
    "#fit the model\n",
    "modelDT.fit(X,y)"
   ]
  },
  {
   "cell_type": "code",
   "execution_count": 53,
   "id": "144e648b",
   "metadata": {},
   "outputs": [],
   "source": [
    "#get importance\n",
    "importance = modelDT.feature_importances_.tolist()\n",
    "feature = X.columns.tolist()"
   ]
  },
  {
   "cell_type": "code",
   "execution_count": 54,
   "id": "d2480751",
   "metadata": {
    "scrolled": true
   },
   "outputs": [
    {
     "data": {
      "text/html": [
       "<div>\n",
       "<style scoped>\n",
       "    .dataframe tbody tr th:only-of-type {\n",
       "        vertical-align: middle;\n",
       "    }\n",
       "\n",
       "    .dataframe tbody tr th {\n",
       "        vertical-align: top;\n",
       "    }\n",
       "\n",
       "    .dataframe thead th {\n",
       "        text-align: right;\n",
       "    }\n",
       "</style>\n",
       "<table border=\"1\" class=\"dataframe\">\n",
       "  <thead>\n",
       "    <tr style=\"text-align: right;\">\n",
       "      <th></th>\n",
       "      <th>Feature</th>\n",
       "      <th>Score</th>\n",
       "    </tr>\n",
       "  </thead>\n",
       "  <tbody>\n",
       "    <tr>\n",
       "      <th>11</th>\n",
       "      <td>Inflight entertainment</td>\n",
       "      <td>0.394374</td>\n",
       "    </tr>\n",
       "    <tr>\n",
       "      <th>6</th>\n",
       "      <td>Seat comfort</td>\n",
       "      <td>0.123363</td>\n",
       "    </tr>\n",
       "    <tr>\n",
       "      <th>13</th>\n",
       "      <td>Ease of online booking</td>\n",
       "      <td>0.063757</td>\n",
       "    </tr>\n",
       "    <tr>\n",
       "      <th>1</th>\n",
       "      <td>Customer type</td>\n",
       "      <td>0.048311</td>\n",
       "    </tr>\n",
       "    <tr>\n",
       "      <th>3</th>\n",
       "      <td>Type of travel</td>\n",
       "      <td>0.037432</td>\n",
       "    </tr>\n",
       "    <tr>\n",
       "      <th>5</th>\n",
       "      <td>Flight distance</td>\n",
       "      <td>0.033237</td>\n",
       "    </tr>\n",
       "    <tr>\n",
       "      <th>2</th>\n",
       "      <td>Age</td>\n",
       "      <td>0.030320</td>\n",
       "    </tr>\n",
       "    <tr>\n",
       "      <th>4</th>\n",
       "      <td>Class</td>\n",
       "      <td>0.029334</td>\n",
       "    </tr>\n",
       "    <tr>\n",
       "      <th>17</th>\n",
       "      <td>Check-in service</td>\n",
       "      <td>0.026096</td>\n",
       "    </tr>\n",
       "    <tr>\n",
       "      <th>7</th>\n",
       "      <td>Time convenience</td>\n",
       "      <td>0.023571</td>\n",
       "    </tr>\n",
       "  </tbody>\n",
       "</table>\n",
       "</div>"
      ],
      "text/plain": [
       "                   Feature     Score\n",
       "11  Inflight entertainment  0.394374\n",
       "6             Seat comfort  0.123363\n",
       "13  Ease of online booking  0.063757\n",
       "1            Customer type  0.048311\n",
       "3           Type of travel  0.037432\n",
       "5          Flight distance  0.033237\n",
       "2                      Age  0.030320\n",
       "4                    Class  0.029334\n",
       "17        Check-in service  0.026096\n",
       "7         Time convenience  0.023571"
      ]
     },
     "execution_count": 54,
     "metadata": {},
     "output_type": "execute_result"
    }
   ],
   "source": [
    "feat_impDT = pd.DataFrame(list(zip(feature, importance)), columns =['Feature', 'Score'])\n",
    "feat_impDT.sort_values(by='Score', ascending=False).head(10)"
   ]
  },
  {
   "cell_type": "markdown",
   "id": "6f44daee",
   "metadata": {},
   "source": [
    "**C2. Wrapper Method Feature Importance in Decision Tree**"
   ]
  },
  {
   "cell_type": "code",
   "execution_count": 55,
   "id": "320d9df3",
   "metadata": {},
   "outputs": [],
   "source": [
    "from sklearn.feature_selection import SelectFromModel\n",
    "from sklearn.ensemble import ExtraTreesClassifier"
   ]
  },
  {
   "cell_type": "code",
   "execution_count": 56,
   "id": "dcc5b235",
   "metadata": {},
   "outputs": [
    {
     "name": "stdout",
     "output_type": "stream",
     "text": [
      "['Gender', 'Customer type', 'Type of travel', 'Class', 'Seat comfort', 'Inflight entertainment', 'Online support', 'Ease of online booking']\n"
     ]
    }
   ],
   "source": [
    "selector = SelectFromModel(ExtraTreesClassifier())\n",
    "selector.fit(X, y)\n",
    "support = selector.get_support()\n",
    "features = X.loc[:,support].columns.tolist()\n",
    "print(features)"
   ]
  },
  {
   "cell_type": "markdown",
   "id": "ad783609",
   "metadata": {},
   "source": [
    "**C3. Feature Permutation Importance in Decision Tree**"
   ]
  },
  {
   "cell_type": "code",
   "execution_count": 57,
   "id": "d38590d1",
   "metadata": {},
   "outputs": [
    {
     "data": {
      "text/html": [
       "\n",
       "    <style>\n",
       "    table.eli5-weights tr:hover {\n",
       "        filter: brightness(85%);\n",
       "    }\n",
       "</style>\n",
       "\n",
       "\n",
       "\n",
       "    \n",
       "\n",
       "    \n",
       "\n",
       "    \n",
       "\n",
       "    \n",
       "\n",
       "    \n",
       "\n",
       "    \n",
       "\n",
       "\n",
       "    \n",
       "\n",
       "    \n",
       "\n",
       "    \n",
       "\n",
       "    \n",
       "\n",
       "    \n",
       "\n",
       "    \n",
       "\n",
       "\n",
       "    \n",
       "\n",
       "    \n",
       "\n",
       "    \n",
       "\n",
       "    \n",
       "\n",
       "    \n",
       "        <table class=\"eli5-weights eli5-feature-importances\" style=\"border-collapse: collapse; border: none; margin-top: 0em; table-layout: auto;\">\n",
       "    <thead>\n",
       "    <tr style=\"border: none;\">\n",
       "        <th style=\"padding: 0 1em 0 0.5em; text-align: right; border: none;\">Weight</th>\n",
       "        <th style=\"padding: 0 0.5em 0 0.5em; text-align: left; border: none;\">Feature</th>\n",
       "    </tr>\n",
       "    </thead>\n",
       "    <tbody>\n",
       "    \n",
       "        <tr style=\"background-color: hsl(120, 100.00%, 80.00%); border: none;\">\n",
       "            <td style=\"padding: 0 1em 0 0.5em; text-align: right; border: none;\">\n",
       "                0.2282\n",
       "                \n",
       "                    &plusmn; 0.0019\n",
       "                \n",
       "            </td>\n",
       "            <td style=\"padding: 0 0.5em 0 0.5em; text-align: left; border: none;\">\n",
       "                Seat comfort\n",
       "            </td>\n",
       "        </tr>\n",
       "    \n",
       "        <tr style=\"background-color: hsl(120, 100.00%, 85.78%); border: none;\">\n",
       "            <td style=\"padding: 0 1em 0 0.5em; text-align: right; border: none;\">\n",
       "                0.1401\n",
       "                \n",
       "                    &plusmn; 0.0011\n",
       "                \n",
       "            </td>\n",
       "            <td style=\"padding: 0 0.5em 0 0.5em; text-align: left; border: none;\">\n",
       "                Inflight entertainment\n",
       "            </td>\n",
       "        </tr>\n",
       "    \n",
       "        <tr style=\"background-color: hsl(120, 100.00%, 85.90%); border: none;\">\n",
       "            <td style=\"padding: 0 1em 0 0.5em; text-align: right; border: none;\">\n",
       "                0.1385\n",
       "                \n",
       "                    &plusmn; 0.0018\n",
       "                \n",
       "            </td>\n",
       "            <td style=\"padding: 0 0.5em 0 0.5em; text-align: left; border: none;\">\n",
       "                Type of travel\n",
       "            </td>\n",
       "        </tr>\n",
       "    \n",
       "        <tr style=\"background-color: hsl(120, 100.00%, 87.45%); border: none;\">\n",
       "            <td style=\"padding: 0 1em 0 0.5em; text-align: right; border: none;\">\n",
       "                0.1172\n",
       "                \n",
       "                    &plusmn; 0.0010\n",
       "                \n",
       "            </td>\n",
       "            <td style=\"padding: 0 0.5em 0 0.5em; text-align: left; border: none;\">\n",
       "                Customer type\n",
       "            </td>\n",
       "        </tr>\n",
       "    \n",
       "        <tr style=\"background-color: hsl(120, 100.00%, 89.65%); border: none;\">\n",
       "            <td style=\"padding: 0 1em 0 0.5em; text-align: right; border: none;\">\n",
       "                0.0890\n",
       "                \n",
       "                    &plusmn; 0.0017\n",
       "                \n",
       "            </td>\n",
       "            <td style=\"padding: 0 0.5em 0 0.5em; text-align: left; border: none;\">\n",
       "                Gender\n",
       "            </td>\n",
       "        </tr>\n",
       "    \n",
       "        <tr style=\"background-color: hsl(120, 100.00%, 90.27%); border: none;\">\n",
       "            <td style=\"padding: 0 1em 0 0.5em; text-align: right; border: none;\">\n",
       "                0.0815\n",
       "                \n",
       "                    &plusmn; 0.0009\n",
       "                \n",
       "            </td>\n",
       "            <td style=\"padding: 0 0.5em 0 0.5em; text-align: left; border: none;\">\n",
       "                Class\n",
       "            </td>\n",
       "        </tr>\n",
       "    \n",
       "        <tr style=\"background-color: hsl(120, 100.00%, 90.67%); border: none;\">\n",
       "            <td style=\"padding: 0 1em 0 0.5em; text-align: right; border: none;\">\n",
       "                0.0767\n",
       "                \n",
       "                    &plusmn; 0.0008\n",
       "                \n",
       "            </td>\n",
       "            <td style=\"padding: 0 0.5em 0 0.5em; text-align: left; border: none;\">\n",
       "                Ease of online booking\n",
       "            </td>\n",
       "        </tr>\n",
       "    \n",
       "        <tr style=\"background-color: hsl(120, 100.00%, 90.88%); border: none;\">\n",
       "            <td style=\"padding: 0 1em 0 0.5em; text-align: right; border: none;\">\n",
       "                0.0744\n",
       "                \n",
       "                    &plusmn; 0.0007\n",
       "                \n",
       "            </td>\n",
       "            <td style=\"padding: 0 0.5em 0 0.5em; text-align: left; border: none;\">\n",
       "                Gate location\n",
       "            </td>\n",
       "        </tr>\n",
       "    \n",
       "        <tr style=\"background-color: hsl(120, 100.00%, 92.14%); border: none;\">\n",
       "            <td style=\"padding: 0 1em 0 0.5em; text-align: right; border: none;\">\n",
       "                0.0601\n",
       "                \n",
       "                    &plusmn; 0.0010\n",
       "                \n",
       "            </td>\n",
       "            <td style=\"padding: 0 0.5em 0 0.5em; text-align: left; border: none;\">\n",
       "                Online support\n",
       "            </td>\n",
       "        </tr>\n",
       "    \n",
       "        <tr style=\"background-color: hsl(120, 100.00%, 92.73%); border: none;\">\n",
       "            <td style=\"padding: 0 1em 0 0.5em; text-align: right; border: none;\">\n",
       "                0.0538\n",
       "                \n",
       "                    &plusmn; 0.0003\n",
       "                \n",
       "            </td>\n",
       "            <td style=\"padding: 0 0.5em 0 0.5em; text-align: left; border: none;\">\n",
       "                Baggage handling\n",
       "            </td>\n",
       "        </tr>\n",
       "    \n",
       "    \n",
       "        \n",
       "            <tr style=\"background-color: hsl(120, 100.00%, 92.73%); border: none;\">\n",
       "                <td colspan=\"2\" style=\"padding: 0 0.5em 0 0.5em; text-align: center; border: none; white-space: nowrap;\">\n",
       "                    <i>&hellip; 12 more &hellip;</i>\n",
       "                </td>\n",
       "            </tr>\n",
       "        \n",
       "    \n",
       "    </tbody>\n",
       "</table>\n",
       "    \n",
       "\n",
       "    \n",
       "\n",
       "\n",
       "    \n",
       "\n",
       "    \n",
       "\n",
       "    \n",
       "\n",
       "    \n",
       "\n",
       "    \n",
       "\n",
       "    \n",
       "\n",
       "\n",
       "\n"
      ],
      "text/plain": [
       "<IPython.core.display.HTML object>"
      ]
     },
     "execution_count": 57,
     "metadata": {},
     "output_type": "execute_result"
    }
   ],
   "source": [
    "permDT = PermutationImportance(modelDT.fit(X,y),random_state=1).fit(X,y)\n",
    "show_weights(permDT, feature_names = X_train.columns.tolist(), top=10)"
   ]
  },
  {
   "cell_type": "markdown",
   "id": "1f093484",
   "metadata": {},
   "source": [
    "Tabulating all results from feature selection and feature importance in 3 models"
   ]
  },
  {
   "cell_type": "code",
   "execution_count": 70,
   "id": "4b77e2ad",
   "metadata": {},
   "outputs": [],
   "source": [
    "tabulation = {'Features':['Gender', 'Customer type', 'Age', 'Type of travel', 'Class', 'Flight distance', 'Seat comfort',\n",
    "                          'Time convenience', 'Food and drink', 'Gate location', 'Inflight wifi', 'Inflight entertainment',\n",
    "                          'Online support', 'Ease of online booking', 'On-board service', 'Legroom service', 'Baggage handling',\n",
    "                          'Check-in service', 'Cleanliness', 'Online boarding', 'Departure delay', 'Arrival delay'],\n",
    "              'Heatmap':[0,0,0,0,1,0,1,0,0,0,0,1,1,1,1,1,1,1,1,1,0,0],\n",
    "              'Chi2':[0,1,1,0,1,1,1,0,0,0,0,1,1,1,0,0,0,0,0,0,1,1],\n",
    "              'A1':[0,0,0,0,1,0,1,0,0,0,0,1,1,1,1,1,0,1,0,1,1,0],\n",
    "              'A2':[1,1,0,0,1,0,1,1,0,1,0,1,1,1,0,0,0,0,0,0,0,0],\n",
    "              'A3':[0,1,0,0,1,1,1,0,0,0,0,1,1,1,1,1,0,0,0,0,0,1],\n",
    "              'B1':[0,1,1,0,1,1,1,0,0,0,0,1,1,1,1,1,0,0,0,0,0,0],\n",
    "              'B2':[0,1,0,0,0,0,1,0,0,0,0,1,1,1,0,0,0,0,0,0,0,0],\n",
    "              'B3':[1,1,0,1,0,0,1,0,0,0,0,1,1,0,0,0,1,1,1,1,0,0],\n",
    "              'C1':[0,1,1,1,1,1,1,1,0,0,0,1,0,1,0,0,0,1,0,0,0,0],\n",
    "              'C2':[1,1,0,0,1,0,1,0,0,0,0,1,1,1,0,0,0,0,0,0,0,0],\n",
    "              'C3':[1,1,0,1,1,0,1,0,0,1,0,1,1,1,0,0,1,0,0,0,0,0]}"
   ]
  },
  {
   "cell_type": "code",
   "execution_count": 71,
   "id": "e66a5c5b",
   "metadata": {},
   "outputs": [
    {
     "data": {
      "text/html": [
       "<div>\n",
       "<style scoped>\n",
       "    .dataframe tbody tr th:only-of-type {\n",
       "        vertical-align: middle;\n",
       "    }\n",
       "\n",
       "    .dataframe tbody tr th {\n",
       "        vertical-align: top;\n",
       "    }\n",
       "\n",
       "    .dataframe thead th {\n",
       "        text-align: right;\n",
       "    }\n",
       "</style>\n",
       "<table border=\"1\" class=\"dataframe\">\n",
       "  <thead>\n",
       "    <tr style=\"text-align: right;\">\n",
       "      <th></th>\n",
       "      <th>Features</th>\n",
       "      <th>Heatmap</th>\n",
       "      <th>Chi2</th>\n",
       "      <th>A1</th>\n",
       "      <th>A2</th>\n",
       "      <th>A3</th>\n",
       "      <th>B1</th>\n",
       "      <th>B2</th>\n",
       "      <th>B3</th>\n",
       "      <th>C1</th>\n",
       "      <th>C2</th>\n",
       "      <th>C3</th>\n",
       "    </tr>\n",
       "  </thead>\n",
       "  <tbody>\n",
       "    <tr>\n",
       "      <th>0</th>\n",
       "      <td>Gender</td>\n",
       "      <td>0</td>\n",
       "      <td>0</td>\n",
       "      <td>0</td>\n",
       "      <td>1</td>\n",
       "      <td>0</td>\n",
       "      <td>0</td>\n",
       "      <td>0</td>\n",
       "      <td>1</td>\n",
       "      <td>0</td>\n",
       "      <td>1</td>\n",
       "      <td>1</td>\n",
       "    </tr>\n",
       "    <tr>\n",
       "      <th>1</th>\n",
       "      <td>Customer type</td>\n",
       "      <td>0</td>\n",
       "      <td>1</td>\n",
       "      <td>0</td>\n",
       "      <td>1</td>\n",
       "      <td>1</td>\n",
       "      <td>1</td>\n",
       "      <td>1</td>\n",
       "      <td>1</td>\n",
       "      <td>1</td>\n",
       "      <td>1</td>\n",
       "      <td>1</td>\n",
       "    </tr>\n",
       "    <tr>\n",
       "      <th>2</th>\n",
       "      <td>Age</td>\n",
       "      <td>0</td>\n",
       "      <td>1</td>\n",
       "      <td>0</td>\n",
       "      <td>0</td>\n",
       "      <td>0</td>\n",
       "      <td>1</td>\n",
       "      <td>0</td>\n",
       "      <td>0</td>\n",
       "      <td>1</td>\n",
       "      <td>0</td>\n",
       "      <td>0</td>\n",
       "    </tr>\n",
       "    <tr>\n",
       "      <th>3</th>\n",
       "      <td>Type of travel</td>\n",
       "      <td>0</td>\n",
       "      <td>0</td>\n",
       "      <td>0</td>\n",
       "      <td>0</td>\n",
       "      <td>0</td>\n",
       "      <td>0</td>\n",
       "      <td>0</td>\n",
       "      <td>1</td>\n",
       "      <td>1</td>\n",
       "      <td>0</td>\n",
       "      <td>1</td>\n",
       "    </tr>\n",
       "    <tr>\n",
       "      <th>4</th>\n",
       "      <td>Class</td>\n",
       "      <td>1</td>\n",
       "      <td>1</td>\n",
       "      <td>1</td>\n",
       "      <td>1</td>\n",
       "      <td>1</td>\n",
       "      <td>1</td>\n",
       "      <td>0</td>\n",
       "      <td>0</td>\n",
       "      <td>1</td>\n",
       "      <td>1</td>\n",
       "      <td>1</td>\n",
       "    </tr>\n",
       "    <tr>\n",
       "      <th>5</th>\n",
       "      <td>Flight distance</td>\n",
       "      <td>0</td>\n",
       "      <td>1</td>\n",
       "      <td>0</td>\n",
       "      <td>0</td>\n",
       "      <td>1</td>\n",
       "      <td>1</td>\n",
       "      <td>0</td>\n",
       "      <td>0</td>\n",
       "      <td>1</td>\n",
       "      <td>0</td>\n",
       "      <td>0</td>\n",
       "    </tr>\n",
       "    <tr>\n",
       "      <th>6</th>\n",
       "      <td>Seat comfort</td>\n",
       "      <td>1</td>\n",
       "      <td>1</td>\n",
       "      <td>1</td>\n",
       "      <td>1</td>\n",
       "      <td>1</td>\n",
       "      <td>1</td>\n",
       "      <td>1</td>\n",
       "      <td>1</td>\n",
       "      <td>1</td>\n",
       "      <td>1</td>\n",
       "      <td>1</td>\n",
       "    </tr>\n",
       "    <tr>\n",
       "      <th>7</th>\n",
       "      <td>Time convenience</td>\n",
       "      <td>0</td>\n",
       "      <td>0</td>\n",
       "      <td>0</td>\n",
       "      <td>1</td>\n",
       "      <td>0</td>\n",
       "      <td>0</td>\n",
       "      <td>0</td>\n",
       "      <td>0</td>\n",
       "      <td>1</td>\n",
       "      <td>0</td>\n",
       "      <td>0</td>\n",
       "    </tr>\n",
       "    <tr>\n",
       "      <th>8</th>\n",
       "      <td>Food and drink</td>\n",
       "      <td>0</td>\n",
       "      <td>0</td>\n",
       "      <td>0</td>\n",
       "      <td>0</td>\n",
       "      <td>0</td>\n",
       "      <td>0</td>\n",
       "      <td>0</td>\n",
       "      <td>0</td>\n",
       "      <td>0</td>\n",
       "      <td>0</td>\n",
       "      <td>0</td>\n",
       "    </tr>\n",
       "    <tr>\n",
       "      <th>9</th>\n",
       "      <td>Gate location</td>\n",
       "      <td>0</td>\n",
       "      <td>0</td>\n",
       "      <td>0</td>\n",
       "      <td>1</td>\n",
       "      <td>0</td>\n",
       "      <td>0</td>\n",
       "      <td>0</td>\n",
       "      <td>0</td>\n",
       "      <td>0</td>\n",
       "      <td>0</td>\n",
       "      <td>1</td>\n",
       "    </tr>\n",
       "    <tr>\n",
       "      <th>10</th>\n",
       "      <td>Inflight wifi</td>\n",
       "      <td>0</td>\n",
       "      <td>0</td>\n",
       "      <td>0</td>\n",
       "      <td>0</td>\n",
       "      <td>0</td>\n",
       "      <td>0</td>\n",
       "      <td>0</td>\n",
       "      <td>0</td>\n",
       "      <td>0</td>\n",
       "      <td>0</td>\n",
       "      <td>0</td>\n",
       "    </tr>\n",
       "    <tr>\n",
       "      <th>11</th>\n",
       "      <td>Inflight entertainment</td>\n",
       "      <td>1</td>\n",
       "      <td>1</td>\n",
       "      <td>1</td>\n",
       "      <td>1</td>\n",
       "      <td>1</td>\n",
       "      <td>1</td>\n",
       "      <td>1</td>\n",
       "      <td>1</td>\n",
       "      <td>1</td>\n",
       "      <td>1</td>\n",
       "      <td>1</td>\n",
       "    </tr>\n",
       "    <tr>\n",
       "      <th>12</th>\n",
       "      <td>Online support</td>\n",
       "      <td>1</td>\n",
       "      <td>1</td>\n",
       "      <td>1</td>\n",
       "      <td>1</td>\n",
       "      <td>1</td>\n",
       "      <td>1</td>\n",
       "      <td>1</td>\n",
       "      <td>1</td>\n",
       "      <td>0</td>\n",
       "      <td>1</td>\n",
       "      <td>1</td>\n",
       "    </tr>\n",
       "    <tr>\n",
       "      <th>13</th>\n",
       "      <td>Ease of online booking</td>\n",
       "      <td>1</td>\n",
       "      <td>1</td>\n",
       "      <td>1</td>\n",
       "      <td>1</td>\n",
       "      <td>1</td>\n",
       "      <td>1</td>\n",
       "      <td>1</td>\n",
       "      <td>0</td>\n",
       "      <td>1</td>\n",
       "      <td>1</td>\n",
       "      <td>1</td>\n",
       "    </tr>\n",
       "    <tr>\n",
       "      <th>14</th>\n",
       "      <td>On-board service</td>\n",
       "      <td>1</td>\n",
       "      <td>0</td>\n",
       "      <td>1</td>\n",
       "      <td>0</td>\n",
       "      <td>1</td>\n",
       "      <td>1</td>\n",
       "      <td>0</td>\n",
       "      <td>0</td>\n",
       "      <td>0</td>\n",
       "      <td>0</td>\n",
       "      <td>0</td>\n",
       "    </tr>\n",
       "    <tr>\n",
       "      <th>15</th>\n",
       "      <td>Legroom service</td>\n",
       "      <td>1</td>\n",
       "      <td>0</td>\n",
       "      <td>1</td>\n",
       "      <td>0</td>\n",
       "      <td>1</td>\n",
       "      <td>1</td>\n",
       "      <td>0</td>\n",
       "      <td>0</td>\n",
       "      <td>0</td>\n",
       "      <td>0</td>\n",
       "      <td>0</td>\n",
       "    </tr>\n",
       "    <tr>\n",
       "      <th>16</th>\n",
       "      <td>Baggage handling</td>\n",
       "      <td>1</td>\n",
       "      <td>0</td>\n",
       "      <td>0</td>\n",
       "      <td>0</td>\n",
       "      <td>0</td>\n",
       "      <td>0</td>\n",
       "      <td>0</td>\n",
       "      <td>1</td>\n",
       "      <td>0</td>\n",
       "      <td>0</td>\n",
       "      <td>1</td>\n",
       "    </tr>\n",
       "    <tr>\n",
       "      <th>17</th>\n",
       "      <td>Check-in service</td>\n",
       "      <td>1</td>\n",
       "      <td>0</td>\n",
       "      <td>1</td>\n",
       "      <td>0</td>\n",
       "      <td>0</td>\n",
       "      <td>0</td>\n",
       "      <td>0</td>\n",
       "      <td>1</td>\n",
       "      <td>1</td>\n",
       "      <td>0</td>\n",
       "      <td>0</td>\n",
       "    </tr>\n",
       "    <tr>\n",
       "      <th>18</th>\n",
       "      <td>Cleanliness</td>\n",
       "      <td>1</td>\n",
       "      <td>0</td>\n",
       "      <td>0</td>\n",
       "      <td>0</td>\n",
       "      <td>0</td>\n",
       "      <td>0</td>\n",
       "      <td>0</td>\n",
       "      <td>1</td>\n",
       "      <td>0</td>\n",
       "      <td>0</td>\n",
       "      <td>0</td>\n",
       "    </tr>\n",
       "    <tr>\n",
       "      <th>19</th>\n",
       "      <td>Online boarding</td>\n",
       "      <td>1</td>\n",
       "      <td>0</td>\n",
       "      <td>1</td>\n",
       "      <td>0</td>\n",
       "      <td>0</td>\n",
       "      <td>0</td>\n",
       "      <td>0</td>\n",
       "      <td>1</td>\n",
       "      <td>0</td>\n",
       "      <td>0</td>\n",
       "      <td>0</td>\n",
       "    </tr>\n",
       "    <tr>\n",
       "      <th>20</th>\n",
       "      <td>Departure delay</td>\n",
       "      <td>0</td>\n",
       "      <td>1</td>\n",
       "      <td>1</td>\n",
       "      <td>0</td>\n",
       "      <td>0</td>\n",
       "      <td>0</td>\n",
       "      <td>0</td>\n",
       "      <td>0</td>\n",
       "      <td>0</td>\n",
       "      <td>0</td>\n",
       "      <td>0</td>\n",
       "    </tr>\n",
       "    <tr>\n",
       "      <th>21</th>\n",
       "      <td>Arrival delay</td>\n",
       "      <td>0</td>\n",
       "      <td>1</td>\n",
       "      <td>0</td>\n",
       "      <td>0</td>\n",
       "      <td>1</td>\n",
       "      <td>0</td>\n",
       "      <td>0</td>\n",
       "      <td>0</td>\n",
       "      <td>0</td>\n",
       "      <td>0</td>\n",
       "      <td>0</td>\n",
       "    </tr>\n",
       "  </tbody>\n",
       "</table>\n",
       "</div>"
      ],
      "text/plain": [
       "                  Features  Heatmap  Chi2  A1  A2  A3  B1  B2  B3  C1  C2  C3\n",
       "0                   Gender        0     0   0   1   0   0   0   1   0   1   1\n",
       "1            Customer type        0     1   0   1   1   1   1   1   1   1   1\n",
       "2                      Age        0     1   0   0   0   1   0   0   1   0   0\n",
       "3           Type of travel        0     0   0   0   0   0   0   1   1   0   1\n",
       "4                    Class        1     1   1   1   1   1   0   0   1   1   1\n",
       "5          Flight distance        0     1   0   0   1   1   0   0   1   0   0\n",
       "6             Seat comfort        1     1   1   1   1   1   1   1   1   1   1\n",
       "7         Time convenience        0     0   0   1   0   0   0   0   1   0   0\n",
       "8           Food and drink        0     0   0   0   0   0   0   0   0   0   0\n",
       "9            Gate location        0     0   0   1   0   0   0   0   0   0   1\n",
       "10           Inflight wifi        0     0   0   0   0   0   0   0   0   0   0\n",
       "11  Inflight entertainment        1     1   1   1   1   1   1   1   1   1   1\n",
       "12          Online support        1     1   1   1   1   1   1   1   0   1   1\n",
       "13  Ease of online booking        1     1   1   1   1   1   1   0   1   1   1\n",
       "14        On-board service        1     0   1   0   1   1   0   0   0   0   0\n",
       "15         Legroom service        1     0   1   0   1   1   0   0   0   0   0\n",
       "16        Baggage handling        1     0   0   0   0   0   0   1   0   0   1\n",
       "17        Check-in service        1     0   1   0   0   0   0   1   1   0   0\n",
       "18             Cleanliness        1     0   0   0   0   0   0   1   0   0   0\n",
       "19         Online boarding        1     0   1   0   0   0   0   1   0   0   0\n",
       "20         Departure delay        0     1   1   0   0   0   0   0   0   0   0\n",
       "21           Arrival delay        0     1   0   0   1   0   0   0   0   0   0"
      ]
     },
     "execution_count": 71,
     "metadata": {},
     "output_type": "execute_result"
    }
   ],
   "source": [
    "FS_tabulation = pd.DataFrame(tabulation)\n",
    "\n",
    "FS_tabulation\n",
    "\n",
    "# 0 means: the feature is not considered important according to the feature selection method\n",
    "# 1 means: the feature is considered important according to the feature selection method"
   ]
  },
  {
   "cell_type": "code",
   "execution_count": 72,
   "id": "35feaa1b",
   "metadata": {},
   "outputs": [
    {
     "data": {
      "text/html": [
       "<div>\n",
       "<style scoped>\n",
       "    .dataframe tbody tr th:only-of-type {\n",
       "        vertical-align: middle;\n",
       "    }\n",
       "\n",
       "    .dataframe tbody tr th {\n",
       "        vertical-align: top;\n",
       "    }\n",
       "\n",
       "    .dataframe thead th {\n",
       "        text-align: right;\n",
       "    }\n",
       "</style>\n",
       "<table border=\"1\" class=\"dataframe\">\n",
       "  <thead>\n",
       "    <tr style=\"text-align: right;\">\n",
       "      <th></th>\n",
       "      <th>Features</th>\n",
       "      <th>Heatmap</th>\n",
       "      <th>Chi2</th>\n",
       "      <th>A1</th>\n",
       "      <th>A2</th>\n",
       "      <th>A3</th>\n",
       "      <th>B1</th>\n",
       "      <th>B2</th>\n",
       "      <th>B3</th>\n",
       "      <th>C1</th>\n",
       "      <th>C2</th>\n",
       "      <th>C3</th>\n",
       "      <th>Total</th>\n",
       "    </tr>\n",
       "  </thead>\n",
       "  <tbody>\n",
       "    <tr>\n",
       "      <th>11</th>\n",
       "      <td>Inflight entertainment</td>\n",
       "      <td>1</td>\n",
       "      <td>1</td>\n",
       "      <td>1</td>\n",
       "      <td>1</td>\n",
       "      <td>1</td>\n",
       "      <td>1</td>\n",
       "      <td>1</td>\n",
       "      <td>1</td>\n",
       "      <td>1</td>\n",
       "      <td>1</td>\n",
       "      <td>1</td>\n",
       "      <td>11</td>\n",
       "    </tr>\n",
       "    <tr>\n",
       "      <th>6</th>\n",
       "      <td>Seat comfort</td>\n",
       "      <td>1</td>\n",
       "      <td>1</td>\n",
       "      <td>1</td>\n",
       "      <td>1</td>\n",
       "      <td>1</td>\n",
       "      <td>1</td>\n",
       "      <td>1</td>\n",
       "      <td>1</td>\n",
       "      <td>1</td>\n",
       "      <td>1</td>\n",
       "      <td>1</td>\n",
       "      <td>11</td>\n",
       "    </tr>\n",
       "    <tr>\n",
       "      <th>13</th>\n",
       "      <td>Ease of online booking</td>\n",
       "      <td>1</td>\n",
       "      <td>1</td>\n",
       "      <td>1</td>\n",
       "      <td>1</td>\n",
       "      <td>1</td>\n",
       "      <td>1</td>\n",
       "      <td>1</td>\n",
       "      <td>0</td>\n",
       "      <td>1</td>\n",
       "      <td>1</td>\n",
       "      <td>1</td>\n",
       "      <td>10</td>\n",
       "    </tr>\n",
       "    <tr>\n",
       "      <th>12</th>\n",
       "      <td>Online support</td>\n",
       "      <td>1</td>\n",
       "      <td>1</td>\n",
       "      <td>1</td>\n",
       "      <td>1</td>\n",
       "      <td>1</td>\n",
       "      <td>1</td>\n",
       "      <td>1</td>\n",
       "      <td>1</td>\n",
       "      <td>0</td>\n",
       "      <td>1</td>\n",
       "      <td>1</td>\n",
       "      <td>10</td>\n",
       "    </tr>\n",
       "    <tr>\n",
       "      <th>1</th>\n",
       "      <td>Customer type</td>\n",
       "      <td>0</td>\n",
       "      <td>1</td>\n",
       "      <td>0</td>\n",
       "      <td>1</td>\n",
       "      <td>1</td>\n",
       "      <td>1</td>\n",
       "      <td>1</td>\n",
       "      <td>1</td>\n",
       "      <td>1</td>\n",
       "      <td>1</td>\n",
       "      <td>1</td>\n",
       "      <td>9</td>\n",
       "    </tr>\n",
       "    <tr>\n",
       "      <th>4</th>\n",
       "      <td>Class</td>\n",
       "      <td>1</td>\n",
       "      <td>1</td>\n",
       "      <td>1</td>\n",
       "      <td>1</td>\n",
       "      <td>1</td>\n",
       "      <td>1</td>\n",
       "      <td>0</td>\n",
       "      <td>0</td>\n",
       "      <td>1</td>\n",
       "      <td>1</td>\n",
       "      <td>1</td>\n",
       "      <td>9</td>\n",
       "    </tr>\n",
       "    <tr>\n",
       "      <th>17</th>\n",
       "      <td>Check-in service</td>\n",
       "      <td>1</td>\n",
       "      <td>0</td>\n",
       "      <td>1</td>\n",
       "      <td>0</td>\n",
       "      <td>0</td>\n",
       "      <td>0</td>\n",
       "      <td>0</td>\n",
       "      <td>1</td>\n",
       "      <td>1</td>\n",
       "      <td>0</td>\n",
       "      <td>0</td>\n",
       "      <td>4</td>\n",
       "    </tr>\n",
       "    <tr>\n",
       "      <th>15</th>\n",
       "      <td>Legroom service</td>\n",
       "      <td>1</td>\n",
       "      <td>0</td>\n",
       "      <td>1</td>\n",
       "      <td>0</td>\n",
       "      <td>1</td>\n",
       "      <td>1</td>\n",
       "      <td>0</td>\n",
       "      <td>0</td>\n",
       "      <td>0</td>\n",
       "      <td>0</td>\n",
       "      <td>0</td>\n",
       "      <td>4</td>\n",
       "    </tr>\n",
       "    <tr>\n",
       "      <th>14</th>\n",
       "      <td>On-board service</td>\n",
       "      <td>1</td>\n",
       "      <td>0</td>\n",
       "      <td>1</td>\n",
       "      <td>0</td>\n",
       "      <td>1</td>\n",
       "      <td>1</td>\n",
       "      <td>0</td>\n",
       "      <td>0</td>\n",
       "      <td>0</td>\n",
       "      <td>0</td>\n",
       "      <td>0</td>\n",
       "      <td>4</td>\n",
       "    </tr>\n",
       "    <tr>\n",
       "      <th>0</th>\n",
       "      <td>Gender</td>\n",
       "      <td>0</td>\n",
       "      <td>0</td>\n",
       "      <td>0</td>\n",
       "      <td>1</td>\n",
       "      <td>0</td>\n",
       "      <td>0</td>\n",
       "      <td>0</td>\n",
       "      <td>1</td>\n",
       "      <td>0</td>\n",
       "      <td>1</td>\n",
       "      <td>1</td>\n",
       "      <td>4</td>\n",
       "    </tr>\n",
       "    <tr>\n",
       "      <th>5</th>\n",
       "      <td>Flight distance</td>\n",
       "      <td>0</td>\n",
       "      <td>1</td>\n",
       "      <td>0</td>\n",
       "      <td>0</td>\n",
       "      <td>1</td>\n",
       "      <td>1</td>\n",
       "      <td>0</td>\n",
       "      <td>0</td>\n",
       "      <td>1</td>\n",
       "      <td>0</td>\n",
       "      <td>0</td>\n",
       "      <td>4</td>\n",
       "    </tr>\n",
       "    <tr>\n",
       "      <th>3</th>\n",
       "      <td>Type of travel</td>\n",
       "      <td>0</td>\n",
       "      <td>0</td>\n",
       "      <td>0</td>\n",
       "      <td>0</td>\n",
       "      <td>0</td>\n",
       "      <td>0</td>\n",
       "      <td>0</td>\n",
       "      <td>1</td>\n",
       "      <td>1</td>\n",
       "      <td>0</td>\n",
       "      <td>1</td>\n",
       "      <td>3</td>\n",
       "    </tr>\n",
       "    <tr>\n",
       "      <th>16</th>\n",
       "      <td>Baggage handling</td>\n",
       "      <td>1</td>\n",
       "      <td>0</td>\n",
       "      <td>0</td>\n",
       "      <td>0</td>\n",
       "      <td>0</td>\n",
       "      <td>0</td>\n",
       "      <td>0</td>\n",
       "      <td>1</td>\n",
       "      <td>0</td>\n",
       "      <td>0</td>\n",
       "      <td>1</td>\n",
       "      <td>3</td>\n",
       "    </tr>\n",
       "    <tr>\n",
       "      <th>2</th>\n",
       "      <td>Age</td>\n",
       "      <td>0</td>\n",
       "      <td>1</td>\n",
       "      <td>0</td>\n",
       "      <td>0</td>\n",
       "      <td>0</td>\n",
       "      <td>1</td>\n",
       "      <td>0</td>\n",
       "      <td>0</td>\n",
       "      <td>1</td>\n",
       "      <td>0</td>\n",
       "      <td>0</td>\n",
       "      <td>3</td>\n",
       "    </tr>\n",
       "    <tr>\n",
       "      <th>19</th>\n",
       "      <td>Online boarding</td>\n",
       "      <td>1</td>\n",
       "      <td>0</td>\n",
       "      <td>1</td>\n",
       "      <td>0</td>\n",
       "      <td>0</td>\n",
       "      <td>0</td>\n",
       "      <td>0</td>\n",
       "      <td>1</td>\n",
       "      <td>0</td>\n",
       "      <td>0</td>\n",
       "      <td>0</td>\n",
       "      <td>3</td>\n",
       "    </tr>\n",
       "    <tr>\n",
       "      <th>9</th>\n",
       "      <td>Gate location</td>\n",
       "      <td>0</td>\n",
       "      <td>0</td>\n",
       "      <td>0</td>\n",
       "      <td>1</td>\n",
       "      <td>0</td>\n",
       "      <td>0</td>\n",
       "      <td>0</td>\n",
       "      <td>0</td>\n",
       "      <td>0</td>\n",
       "      <td>0</td>\n",
       "      <td>1</td>\n",
       "      <td>2</td>\n",
       "    </tr>\n",
       "    <tr>\n",
       "      <th>7</th>\n",
       "      <td>Time convenience</td>\n",
       "      <td>0</td>\n",
       "      <td>0</td>\n",
       "      <td>0</td>\n",
       "      <td>1</td>\n",
       "      <td>0</td>\n",
       "      <td>0</td>\n",
       "      <td>0</td>\n",
       "      <td>0</td>\n",
       "      <td>1</td>\n",
       "      <td>0</td>\n",
       "      <td>0</td>\n",
       "      <td>2</td>\n",
       "    </tr>\n",
       "    <tr>\n",
       "      <th>18</th>\n",
       "      <td>Cleanliness</td>\n",
       "      <td>1</td>\n",
       "      <td>0</td>\n",
       "      <td>0</td>\n",
       "      <td>0</td>\n",
       "      <td>0</td>\n",
       "      <td>0</td>\n",
       "      <td>0</td>\n",
       "      <td>1</td>\n",
       "      <td>0</td>\n",
       "      <td>0</td>\n",
       "      <td>0</td>\n",
       "      <td>2</td>\n",
       "    </tr>\n",
       "    <tr>\n",
       "      <th>20</th>\n",
       "      <td>Departure delay</td>\n",
       "      <td>0</td>\n",
       "      <td>1</td>\n",
       "      <td>1</td>\n",
       "      <td>0</td>\n",
       "      <td>0</td>\n",
       "      <td>0</td>\n",
       "      <td>0</td>\n",
       "      <td>0</td>\n",
       "      <td>0</td>\n",
       "      <td>0</td>\n",
       "      <td>0</td>\n",
       "      <td>2</td>\n",
       "    </tr>\n",
       "    <tr>\n",
       "      <th>21</th>\n",
       "      <td>Arrival delay</td>\n",
       "      <td>0</td>\n",
       "      <td>1</td>\n",
       "      <td>0</td>\n",
       "      <td>0</td>\n",
       "      <td>1</td>\n",
       "      <td>0</td>\n",
       "      <td>0</td>\n",
       "      <td>0</td>\n",
       "      <td>0</td>\n",
       "      <td>0</td>\n",
       "      <td>0</td>\n",
       "      <td>2</td>\n",
       "    </tr>\n",
       "    <tr>\n",
       "      <th>10</th>\n",
       "      <td>Inflight wifi</td>\n",
       "      <td>0</td>\n",
       "      <td>0</td>\n",
       "      <td>0</td>\n",
       "      <td>0</td>\n",
       "      <td>0</td>\n",
       "      <td>0</td>\n",
       "      <td>0</td>\n",
       "      <td>0</td>\n",
       "      <td>0</td>\n",
       "      <td>0</td>\n",
       "      <td>0</td>\n",
       "      <td>0</td>\n",
       "    </tr>\n",
       "    <tr>\n",
       "      <th>8</th>\n",
       "      <td>Food and drink</td>\n",
       "      <td>0</td>\n",
       "      <td>0</td>\n",
       "      <td>0</td>\n",
       "      <td>0</td>\n",
       "      <td>0</td>\n",
       "      <td>0</td>\n",
       "      <td>0</td>\n",
       "      <td>0</td>\n",
       "      <td>0</td>\n",
       "      <td>0</td>\n",
       "      <td>0</td>\n",
       "      <td>0</td>\n",
       "    </tr>\n",
       "  </tbody>\n",
       "</table>\n",
       "</div>"
      ],
      "text/plain": [
       "                  Features  Heatmap  Chi2  A1  A2  A3  B1  B2  B3  C1  C2  C3  \\\n",
       "11  Inflight entertainment        1     1   1   1   1   1   1   1   1   1   1   \n",
       "6             Seat comfort        1     1   1   1   1   1   1   1   1   1   1   \n",
       "13  Ease of online booking        1     1   1   1   1   1   1   0   1   1   1   \n",
       "12          Online support        1     1   1   1   1   1   1   1   0   1   1   \n",
       "1            Customer type        0     1   0   1   1   1   1   1   1   1   1   \n",
       "4                    Class        1     1   1   1   1   1   0   0   1   1   1   \n",
       "17        Check-in service        1     0   1   0   0   0   0   1   1   0   0   \n",
       "15         Legroom service        1     0   1   0   1   1   0   0   0   0   0   \n",
       "14        On-board service        1     0   1   0   1   1   0   0   0   0   0   \n",
       "0                   Gender        0     0   0   1   0   0   0   1   0   1   1   \n",
       "5          Flight distance        0     1   0   0   1   1   0   0   1   0   0   \n",
       "3           Type of travel        0     0   0   0   0   0   0   1   1   0   1   \n",
       "16        Baggage handling        1     0   0   0   0   0   0   1   0   0   1   \n",
       "2                      Age        0     1   0   0   0   1   0   0   1   0   0   \n",
       "19         Online boarding        1     0   1   0   0   0   0   1   0   0   0   \n",
       "9            Gate location        0     0   0   1   0   0   0   0   0   0   1   \n",
       "7         Time convenience        0     0   0   1   0   0   0   0   1   0   0   \n",
       "18             Cleanliness        1     0   0   0   0   0   0   1   0   0   0   \n",
       "20         Departure delay        0     1   1   0   0   0   0   0   0   0   0   \n",
       "21           Arrival delay        0     1   0   0   1   0   0   0   0   0   0   \n",
       "10           Inflight wifi        0     0   0   0   0   0   0   0   0   0   0   \n",
       "8           Food and drink        0     0   0   0   0   0   0   0   0   0   0   \n",
       "\n",
       "    Total  \n",
       "11     11  \n",
       "6      11  \n",
       "13     10  \n",
       "12     10  \n",
       "1       9  \n",
       "4       9  \n",
       "17      4  \n",
       "15      4  \n",
       "14      4  \n",
       "0       4  \n",
       "5       4  \n",
       "3       3  \n",
       "16      3  \n",
       "2       3  \n",
       "19      3  \n",
       "9       2  \n",
       "7       2  \n",
       "18      2  \n",
       "20      2  \n",
       "21      2  \n",
       "10      0  \n",
       "8       0  "
      ]
     },
     "execution_count": 72,
     "metadata": {},
     "output_type": "execute_result"
    }
   ],
   "source": [
    "FS_tabulation.loc[:,'Total'] = FS_tabulation.sum(numeric_only=True, axis=1)\n",
    "FS_tabulation.sort_values(by='Total', ascending=False)\n",
    "\n",
    "#Feature importance tabulation, sorted from the most important to the least important"
   ]
  },
  {
   "cell_type": "markdown",
   "id": "54a0a408",
   "metadata": {},
   "source": [
    "**Machine Learning Modeling**"
   ]
  },
  {
   "cell_type": "markdown",
   "id": "cd7d0f7b",
   "metadata": {},
   "source": [
    "For machine learning modeling, I decide to run each type of Machine Learning algorithm in 4 models:\n",
    "\n",
    "1. Base Model using all features\n",
    "2. Modeling with GridsearchCV & all features\n",
    "3. Modeling with GridsearchCV using top 11 features (features that have a score of 4 or more in above table)\n",
    "4. Modeling with GridsearchCV using top 6 features (features that have a score of more than 4 in above table)\n",
    "\n",
    "GridsearchCV is a form of hyperparameter tuning that is used to choose a set of optimal hyperparameters for a learning algorithm. By running GridsearchCV (CV stands for cross-validation), the tendency of overfitting in learning algorithm can be reduced."
   ]
  },
  {
   "cell_type": "code",
   "execution_count": 73,
   "id": "044e8cce",
   "metadata": {},
   "outputs": [],
   "source": [
    "#Splitting the dataset for top11 and top6 features\n",
    "\n",
    "X_top11 = X[['Seat comfort', 'Inflight entertainment', 'Online support', 'Ease of online booking', 'Customer type',\n",
    "            'Class','Gender', 'Flight distance','On-board service', 'Legroom service', 'Check-in service']]\n",
    "\n",
    "X_top6 = X[['Seat comfort', 'Inflight entertainment', 'Online support', 'Ease of online booking', 'Customer type',\n",
    "            'Class']]\n",
    "y_gs = y.copy()"
   ]
  },
  {
   "cell_type": "code",
   "execution_count": 74,
   "id": "2411ad38",
   "metadata": {},
   "outputs": [],
   "source": [
    "X_top11_train, X_top11_test, y_gs_train, y_gs_test = train_test_split(X_top11, y_gs, test_size=0.2, random_state=42)"
   ]
  },
  {
   "cell_type": "code",
   "execution_count": 75,
   "id": "843b31d7",
   "metadata": {},
   "outputs": [],
   "source": [
    "X_top6_train, X_top6_test, y_gs_train, y_gs_test = train_test_split(X_top6, y_gs, test_size=0.2, random_state=42)"
   ]
  },
  {
   "cell_type": "code",
   "execution_count": 76,
   "id": "a696cc7c",
   "metadata": {},
   "outputs": [],
   "source": [
    "#Importing GridsearchCV function\n",
    "\n",
    "from sklearn.model_selection import GridSearchCV"
   ]
  },
  {
   "cell_type": "markdown",
   "id": "db114d99",
   "metadata": {},
   "source": [
    "**Logistic Regression 1: Base**"
   ]
  },
  {
   "cell_type": "code",
   "execution_count": 77,
   "id": "8f6131c4",
   "metadata": {},
   "outputs": [],
   "source": [
    "model_lr = LogisticRegression()\n",
    "\n",
    "model_lr.fit(X_train, y_train)\n",
    "predict_lr = model_lr.predict(X_test)"
   ]
  },
  {
   "cell_type": "code",
   "execution_count": 78,
   "id": "301d8069",
   "metadata": {
    "scrolled": false
   },
   "outputs": [
    {
     "name": "stdout",
     "output_type": "stream",
     "text": [
      "              precision    recall  f1-score   support\n",
      "\n",
      "           0       0.83      0.76      0.79     11675\n",
      "           1       0.82      0.88      0.85     14301\n",
      "\n",
      "    accuracy                           0.82     25976\n",
      "   macro avg       0.82      0.82      0.82     25976\n",
      "weighted avg       0.82      0.82      0.82     25976\n",
      "\n"
     ]
    },
    {
     "data": {
      "text/plain": [
       "0.8170840211680139"
      ]
     },
     "execution_count": 78,
     "metadata": {},
     "output_type": "execute_result"
    },
    {
     "data": {
      "image/png": "[encoded data removed]",
      "text/plain": [
       "<Figure size 432x288 with 2 Axes>"
      ]
     },
     "metadata": {
      "needs_background": "light"
     },
     "output_type": "display_data"
    }
   ],
   "source": [
    "print(classification_report(y_test, predict_lr))\n",
    "plot_confusion_matrix(model_lr, X_test, y_test)\n",
    "roc_auc_score(y_test, predict_lr)"
   ]
  },
  {
   "cell_type": "markdown",
   "id": "9e39f860",
   "metadata": {},
   "source": [
    "**Logistic Regression 2: Gridsearch + all features**"
   ]
  },
  {
   "cell_type": "code",
   "execution_count": 79,
   "id": "f8b9be16",
   "metadata": {},
   "outputs": [
    {
     "data": {
      "text/plain": [
       "GridSearchCV(cv=10, estimator=LogisticRegression(),\n",
       "             param_grid={'C': array([1.e-03, 1.e-02, 1.e-01, 1.e+00, 1.e+01, 1.e+02, 1.e+03]),\n",
       "                         'penalty': ['l1', 'l2']})"
      ]
     },
     "execution_count": 79,
     "metadata": {},
     "output_type": "execute_result"
    }
   ],
   "source": [
    "gridlg = {\"C\":np.logspace(-3,3,7), \"penalty\":[\"l1\",\"l2\"]}# l1 lasso l2 ridge\n",
    "\n",
    "logreg=LogisticRegression()\n",
    "\n",
    "logreg_cv=GridSearchCV(logreg,gridlg,cv=10)\n",
    "logreg_cv.fit(X_train,y_gs_train)"
   ]
  },
  {
   "cell_type": "code",
   "execution_count": 80,
   "id": "e3fa8e5d",
   "metadata": {},
   "outputs": [
    {
     "name": "stdout",
     "output_type": "stream",
     "text": [
      "Tuned Hyperparameters:  {'C': 10.0, 'penalty': 'l2'}\n"
     ]
    }
   ],
   "source": [
    "print(\"Tuned Hyperparameters: \",logreg_cv.best_params_)"
   ]
  },
  {
   "cell_type": "code",
   "execution_count": 81,
   "id": "0acdf577",
   "metadata": {},
   "outputs": [],
   "source": [
    "logreg2=LogisticRegression(C=10,penalty=\"l2\")\n",
    "logreg2.fit(X_train,y_gs_train)\n",
    "predict_lr2 = logreg2.predict(X_test)"
   ]
  },
  {
   "cell_type": "code",
   "execution_count": 82,
   "id": "228dacb4",
   "metadata": {},
   "outputs": [
    {
     "name": "stdout",
     "output_type": "stream",
     "text": [
      "              precision    recall  f1-score   support\n",
      "\n",
      "           0       0.82      0.71      0.76     11675\n",
      "           1       0.79      0.87      0.83     14301\n",
      "\n",
      "    accuracy                           0.80     25976\n",
      "   macro avg       0.80      0.79      0.79     25976\n",
      "weighted avg       0.80      0.80      0.80     25976\n",
      "\n"
     ]
    },
    {
     "data": {
      "text/plain": [
       "0.7895271036436411"
      ]
     },
     "execution_count": 82,
     "metadata": {},
     "output_type": "execute_result"
    },
    {
     "data": {
      "image/png": "[encoded data removed]",
      "text/plain": [
       "<Figure size 432x288 with 2 Axes>"
      ]
     },
     "metadata": {
      "needs_background": "light"
     },
     "output_type": "display_data"
    }
   ],
   "source": [
    "print(classification_report(y_gs_test, predict_lr2))\n",
    "plot_confusion_matrix(logreg2, X_test, y_gs_test)\n",
    "roc_auc_score(y_gs_test, predict_lr2)"
   ]
  },
  {
   "cell_type": "markdown",
   "id": "261105a6",
   "metadata": {},
   "source": [
    "**Logistic Regression 3: Gridsearch + top11**"
   ]
  },
  {
   "cell_type": "code",
   "execution_count": 83,
   "id": "53ec43fe",
   "metadata": {},
   "outputs": [
    {
     "data": {
      "text/plain": [
       "GridSearchCV(cv=10, estimator=LogisticRegression(),\n",
       "             param_grid={'C': array([1.e-03, 1.e-02, 1.e-01, 1.e+00, 1.e+01, 1.e+02, 1.e+03]),\n",
       "                         'penalty': ['l1', 'l2']})"
      ]
     },
     "execution_count": 83,
     "metadata": {},
     "output_type": "execute_result"
    }
   ],
   "source": [
    "gridlg = {\"C\":np.logspace(-3,3,7), \"penalty\":[\"l1\",\"l2\"]}# l1 lasso l2 ridge\n",
    "\n",
    "logreg=LogisticRegression()\n",
    "\n",
    "logreg_cv_top11=GridSearchCV(logreg,gridlg,cv=10)\n",
    "logreg_cv_top11.fit(X_top11_train,y_gs_train)"
   ]
  },
  {
   "cell_type": "code",
   "execution_count": 84,
   "id": "81025089",
   "metadata": {},
   "outputs": [
    {
     "name": "stdout",
     "output_type": "stream",
     "text": [
      "Tuned Hyperparameters:  {'C': 1.0, 'penalty': 'l2'}\n"
     ]
    }
   ],
   "source": [
    "print(\"Tuned Hyperparameters: \",logreg_cv_top11.best_params_)"
   ]
  },
  {
   "cell_type": "code",
   "execution_count": 85,
   "id": "7ade8002",
   "metadata": {},
   "outputs": [],
   "source": [
    "logreg3=LogisticRegression(C=1,penalty=\"l2\")\n",
    "logreg3.fit(X_top11_train,y_gs_train)\n",
    "predict_lr3 = logreg3.predict(X_top11_test)"
   ]
  },
  {
   "cell_type": "code",
   "execution_count": 86,
   "id": "5767b758",
   "metadata": {},
   "outputs": [
    {
     "name": "stdout",
     "output_type": "stream",
     "text": [
      "              precision    recall  f1-score   support\n",
      "\n",
      "           0       0.83      0.76      0.80     11675\n",
      "           1       0.82      0.88      0.85     14301\n",
      "\n",
      "    accuracy                           0.82     25976\n",
      "   macro avg       0.83      0.82      0.82     25976\n",
      "weighted avg       0.83      0.82      0.82     25976\n",
      "\n"
     ]
    },
    {
     "data": {
      "text/plain": [
       "0.8192034578675337"
      ]
     },
     "execution_count": 86,
     "metadata": {},
     "output_type": "execute_result"
    },
    {
     "data": {
      "image/png": "[encoded data removed]",
      "text/plain": [
       "<Figure size 432x288 with 2 Axes>"
      ]
     },
     "metadata": {
      "needs_background": "light"
     },
     "output_type": "display_data"
    }
   ],
   "source": [
    "print(classification_report(y_gs_test, predict_lr3))\n",
    "plot_confusion_matrix(logreg3, X_top11_test, y_gs_test)\n",
    "roc_auc_score(y_gs_test, predict_lr3)"
   ]
  },
  {
   "cell_type": "markdown",
   "id": "e7331efe",
   "metadata": {},
   "source": [
    "**Logistic Regression 4: Gridsearch + top6**"
   ]
  },
  {
   "cell_type": "code",
   "execution_count": 87,
   "id": "17a9a815",
   "metadata": {},
   "outputs": [
    {
     "data": {
      "text/plain": [
       "GridSearchCV(cv=10, estimator=LogisticRegression(),\n",
       "             param_grid={'C': array([1.e-03, 1.e-02, 1.e-01, 1.e+00, 1.e+01, 1.e+02, 1.e+03]),\n",
       "                         'penalty': ['l1', 'l2']})"
      ]
     },
     "execution_count": 87,
     "metadata": {},
     "output_type": "execute_result"
    }
   ],
   "source": [
    "gridlg = {\"C\":np.logspace(-3,3,7), \"penalty\":[\"l1\",\"l2\"]}# l1 lasso l2 ridge\n",
    "\n",
    "logreg=LogisticRegression()\n",
    "\n",
    "logreg_cv_top6=GridSearchCV(logreg,gridlg,cv=10)\n",
    "logreg_cv_top6.fit(X_top6_train,y_gs_train)"
   ]
  },
  {
   "cell_type": "code",
   "execution_count": 88,
   "id": "d3af9234",
   "metadata": {},
   "outputs": [
    {
     "name": "stdout",
     "output_type": "stream",
     "text": [
      "Tuned Hyperparameters:  {'C': 0.01, 'penalty': 'l2'}\n"
     ]
    }
   ],
   "source": [
    "print(\"Tuned Hyperparameters: \",logreg_cv_top6.best_params_)"
   ]
  },
  {
   "cell_type": "code",
   "execution_count": 89,
   "id": "c7f7665c",
   "metadata": {},
   "outputs": [],
   "source": [
    "logreg4=LogisticRegression(C=0.01,penalty=\"l2\")\n",
    "logreg4.fit(X_top6_train,y_gs_train)\n",
    "predict_lr4 = logreg4.predict(X_top6_test)"
   ]
  },
  {
   "cell_type": "code",
   "execution_count": 90,
   "id": "ed850efa",
   "metadata": {},
   "outputs": [
    {
     "name": "stdout",
     "output_type": "stream",
     "text": [
      "              precision    recall  f1-score   support\n",
      "\n",
      "           0       0.81      0.76      0.79     11675\n",
      "           1       0.81      0.85      0.83     14301\n",
      "\n",
      "    accuracy                           0.81     25976\n",
      "   macro avg       0.81      0.81      0.81     25976\n",
      "weighted avg       0.81      0.81      0.81     25976\n",
      "\n"
     ]
    },
    {
     "data": {
      "text/plain": [
       "0.8082584662248653"
      ]
     },
     "execution_count": 90,
     "metadata": {},
     "output_type": "execute_result"
    },
    {
     "data": {
      "image/png": "[encoded data removed]",
      "text/plain": [
       "<Figure size 432x288 with 2 Axes>"
      ]
     },
     "metadata": {
      "needs_background": "light"
     },
     "output_type": "display_data"
    }
   ],
   "source": [
    "print(classification_report(y_gs_test, predict_lr4))\n",
    "plot_confusion_matrix(logreg4, X_top6_test, y_gs_test)\n",
    "roc_auc_score(y_gs_test, predict_lr4)"
   ]
  },
  {
   "cell_type": "markdown",
   "id": "85004167",
   "metadata": {},
   "source": [
    "**Random Forest 1: Base**"
   ]
  },
  {
   "cell_type": "code",
   "execution_count": 91,
   "id": "e91a92e7",
   "metadata": {},
   "outputs": [],
   "source": [
    "from sklearn.ensemble import RandomForestClassifier\n",
    "\n",
    "model_rf = RandomForestClassifier()\n",
    "\n",
    "model_rf.fit(X_train, y_train)\n",
    "predict_rf = model_rf.predict(X_test)"
   ]
  },
  {
   "cell_type": "code",
   "execution_count": 92,
   "id": "3fb35cf3",
   "metadata": {},
   "outputs": [
    {
     "name": "stdout",
     "output_type": "stream",
     "text": [
      "              precision    recall  f1-score   support\n",
      "\n",
      "           0       0.94      0.96      0.95     11675\n",
      "           1       0.97      0.95      0.96     14301\n",
      "\n",
      "    accuracy                           0.95     25976\n",
      "   macro avg       0.95      0.96      0.95     25976\n",
      "weighted avg       0.95      0.95      0.95     25976\n",
      "\n"
     ]
    },
    {
     "data": {
      "text/plain": [
       "0.9550323534973895"
      ]
     },
     "execution_count": 92,
     "metadata": {},
     "output_type": "execute_result"
    },
    {
     "data": {
      "image/png": "[encoded data removed]",
      "text/plain": [
       "<Figure size 432x288 with 2 Axes>"
      ]
     },
     "metadata": {
      "needs_background": "light"
     },
     "output_type": "display_data"
    }
   ],
   "source": [
    "print(classification_report(y_test, predict_rf))\n",
    "plot_confusion_matrix(model_rf, X_test, y_test)\n",
    "roc_auc_score(y_test, predict_rf)"
   ]
  },
  {
   "cell_type": "markdown",
   "id": "1bc5d993",
   "metadata": {},
   "source": [
    "**Random Forest 2: Gridsearch + all features**"
   ]
  },
  {
   "cell_type": "code",
   "execution_count": 93,
   "id": "912434c0",
   "metadata": {},
   "outputs": [
    {
     "name": "stdout",
     "output_type": "stream",
     "text": [
      "Fitting 2 folds for each of 304 candidates, totalling 608 fits\n"
     ]
    },
    {
     "data": {
      "text/plain": [
       "RandomForestClassifier(criterion='entropy', max_depth=19, min_samples_leaf=2,\n",
       "                       random_state=42)"
      ]
     },
     "execution_count": 93,
     "metadata": {},
     "output_type": "execute_result"
    }
   ],
   "source": [
    "#Defining the grid and the parameters\n",
    "\n",
    "model_grid = RandomForestClassifier(random_state=42)\n",
    "\n",
    "grid = {'criterion': [\"gini\", \"entropy\"],\n",
    "        'max_depth': range(1, 20),\n",
    "        'min_samples_leaf': range(2,10)\n",
    "       }\n",
    "\n",
    "search = GridSearchCV(estimator=model_grid,\n",
    "                      param_grid=grid,\n",
    "                      cv=2,\n",
    "                      verbose=1,\n",
    "                      n_jobs=8,\n",
    "                      return_train_score=True)\n",
    "\n",
    "search.fit(X_train, y_gs_train)\n",
    "\n",
    "search.best_estimator_"
   ]
  },
  {
   "cell_type": "code",
   "execution_count": 94,
   "id": "ca5b820c",
   "metadata": {},
   "outputs": [],
   "source": [
    "#training model\n",
    "\n",
    "model_rf_grid= RandomForestClassifier(criterion='entropy', max_depth=19, min_samples_leaf=2,random_state=42)\n",
    "\n",
    "model_rf_grid.fit(X_train, y_gs_train)\n",
    "predict_rf_grid = model_rf_grid.predict(X_test)"
   ]
  },
  {
   "cell_type": "code",
   "execution_count": 95,
   "id": "97753e1c",
   "metadata": {},
   "outputs": [
    {
     "name": "stdout",
     "output_type": "stream",
     "text": [
      "              precision    recall  f1-score   support\n",
      "\n",
      "           0       0.94      0.96      0.95     11675\n",
      "           1       0.96      0.95      0.96     14301\n",
      "\n",
      "    accuracy                           0.95     25976\n",
      "   macro avg       0.95      0.95      0.95     25976\n",
      "weighted avg       0.95      0.95      0.95     25976\n",
      "\n"
     ]
    },
    {
     "data": {
      "text/plain": [
       "0.9532222675912363"
      ]
     },
     "execution_count": 95,
     "metadata": {},
     "output_type": "execute_result"
    },
    {
     "data": {
      "image/png": "[encoded data removed]",
      "text/plain": [
       "<Figure size 432x288 with 2 Axes>"
      ]
     },
     "metadata": {
      "needs_background": "light"
     },
     "output_type": "display_data"
    }
   ],
   "source": [
    "print(classification_report(y_test, predict_rf_grid))\n",
    "plot_confusion_matrix(model_rf_grid, X_test, y_gs_test)\n",
    "roc_auc_score(y_gs_test, predict_rf_grid)"
   ]
  },
  {
   "cell_type": "markdown",
   "id": "1ddf58c8",
   "metadata": {},
   "source": [
    "**Random Forest 3: Gridsearch + top 11**"
   ]
  },
  {
   "cell_type": "code",
   "execution_count": 96,
   "id": "5f8e46ad",
   "metadata": {},
   "outputs": [
    {
     "name": "stdout",
     "output_type": "stream",
     "text": [
      "Fitting 2 folds for each of 304 candidates, totalling 608 fits\n"
     ]
    },
    {
     "data": {
      "text/plain": [
       "RandomForestClassifier(criterion='entropy', max_depth=17, min_samples_leaf=2,\n",
       "                       random_state=42)"
      ]
     },
     "execution_count": 96,
     "metadata": {},
     "output_type": "execute_result"
    }
   ],
   "source": [
    "#Defining the grid and the parameters\n",
    "\n",
    "model_grid = RandomForestClassifier(random_state=42)\n",
    "\n",
    "grid = {'criterion': [\"gini\", \"entropy\"],\n",
    "        'max_depth': range(1, 20),\n",
    "        'min_samples_leaf': range(2,10)\n",
    "       }\n",
    "\n",
    "search = GridSearchCV(estimator=model_grid,\n",
    "                      param_grid=grid,\n",
    "                      cv=2,\n",
    "                      verbose=1,\n",
    "                      n_jobs=8,\n",
    "                      return_train_score=True)\n",
    "\n",
    "search.fit(X_top11_train, y_gs_train)\n",
    "\n",
    "search.best_estimator_"
   ]
  },
  {
   "cell_type": "code",
   "execution_count": 97,
   "id": "dc4d3d12",
   "metadata": {},
   "outputs": [],
   "source": [
    "#training model\n",
    "\n",
    "model_rf_grid11= RandomForestClassifier(criterion='entropy', max_depth=17, min_samples_leaf=2, random_state=42)\n",
    "\n",
    "model_rf_grid11.fit(X_top11_train, y_gs_train)\n",
    "predict_rf_grid11 = model_rf_grid11.predict(X_top11_test)"
   ]
  },
  {
   "cell_type": "code",
   "execution_count": 98,
   "id": "c4418e8a",
   "metadata": {},
   "outputs": [
    {
     "name": "stdout",
     "output_type": "stream",
     "text": [
      "              precision    recall  f1-score   support\n",
      "\n",
      "           0       0.91      0.92      0.92     11675\n",
      "           1       0.93      0.93      0.93     14301\n",
      "\n",
      "    accuracy                           0.92     25976\n",
      "   macro avg       0.92      0.92      0.92     25976\n",
      "weighted avg       0.92      0.92      0.92     25976\n",
      "\n"
     ]
    },
    {
     "data": {
      "text/plain": [
       "0.9231023511480831"
      ]
     },
     "execution_count": 98,
     "metadata": {},
     "output_type": "execute_result"
    },
    {
     "data": {
      "image/png": "[encoded data removed]",
      "text/plain": [
       "<Figure size 432x288 with 2 Axes>"
      ]
     },
     "metadata": {
      "needs_background": "light"
     },
     "output_type": "display_data"
    }
   ],
   "source": [
    "print(classification_report(y_gs_test, predict_rf_grid11))\n",
    "plot_confusion_matrix(model_rf_grid11, X_top11_test, y_gs_test)\n",
    "roc_auc_score(y_gs_test, predict_rf_grid11)"
   ]
  },
  {
   "cell_type": "markdown",
   "id": "1edbee27",
   "metadata": {},
   "source": [
    "**Random Forest 4: Gridsearch + Top6**"
   ]
  },
  {
   "cell_type": "code",
   "execution_count": 100,
   "id": "012c3891",
   "metadata": {},
   "outputs": [
    {
     "name": "stdout",
     "output_type": "stream",
     "text": [
      "Fitting 2 folds for each of 304 candidates, totalling 608 fits\n"
     ]
    },
    {
     "data": {
      "text/plain": [
       "RandomForestClassifier(criterion='entropy', max_depth=18, min_samples_leaf=4,\n",
       "                       random_state=42)"
      ]
     },
     "execution_count": 100,
     "metadata": {},
     "output_type": "execute_result"
    }
   ],
   "source": [
    "#Defining the grid and the parameters\n",
    "\n",
    "model_grid = RandomForestClassifier(random_state=42)\n",
    "\n",
    "grid = {'criterion': [\"gini\", \"entropy\"],\n",
    "        'max_depth': range(1, 20),\n",
    "        'min_samples_leaf': range(2,10)\n",
    "       }\n",
    "\n",
    "search = GridSearchCV(estimator=model_grid,\n",
    "                      param_grid=grid,\n",
    "                      cv=2,\n",
    "                      verbose=1,\n",
    "                      n_jobs=8,\n",
    "                      return_train_score=True)\n",
    "\n",
    "search.fit(X_top6_train, y_gs_train)\n",
    "\n",
    "search.best_estimator_"
   ]
  },
  {
   "cell_type": "code",
   "execution_count": 101,
   "id": "395777d7",
   "metadata": {},
   "outputs": [],
   "source": [
    "#training model\n",
    "\n",
    "model_rf_grid6= RandomForestClassifier(criterion='entropy', max_depth=18, min_samples_leaf=4, random_state=42)\n",
    "\n",
    "model_rf_grid6.fit(X_top6_train, y_gs_train)\n",
    "predict_rf_grid6 = model_rf_grid6.predict(X_top6_test)"
   ]
  },
  {
   "cell_type": "code",
   "execution_count": 102,
   "id": "aa9e829e",
   "metadata": {},
   "outputs": [
    {
     "name": "stdout",
     "output_type": "stream",
     "text": [
      "              precision    recall  f1-score   support\n",
      "\n",
      "           0       0.89      0.88      0.88     11675\n",
      "           1       0.90      0.91      0.91     14301\n",
      "\n",
      "    accuracy                           0.90     25976\n",
      "   macro avg       0.90      0.90      0.90     25976\n",
      "weighted avg       0.90      0.90      0.90     25976\n",
      "\n"
     ]
    },
    {
     "data": {
      "text/plain": [
       "0.8955591461461717"
      ]
     },
     "execution_count": 102,
     "metadata": {},
     "output_type": "execute_result"
    },
    {
     "data": {
      "image/png": "[encoded data removed]",
      "text/plain": [
       "<Figure size 432x288 with 2 Axes>"
      ]
     },
     "metadata": {
      "needs_background": "light"
     },
     "output_type": "display_data"
    }
   ],
   "source": [
    "print(classification_report(y_gs_test, predict_rf_grid6))\n",
    "plot_confusion_matrix(model_rf_grid6, X_top6_test, y_gs_test)\n",
    "roc_auc_score(y_gs_test, predict_rf_grid6)"
   ]
  },
  {
   "cell_type": "markdown",
   "id": "20d3c4f3",
   "metadata": {},
   "source": [
    "**Decision Tree 1: Base**"
   ]
  },
  {
   "cell_type": "code",
   "execution_count": 103,
   "id": "0aedd678",
   "metadata": {},
   "outputs": [],
   "source": [
    "model_dt = DecisionTreeClassifier()\n",
    "\n",
    "model_dt.fit(X_train, y_train)\n",
    "predict_dt = model_dt.predict(X_test)"
   ]
  },
  {
   "cell_type": "code",
   "execution_count": 104,
   "id": "a2311983",
   "metadata": {},
   "outputs": [
    {
     "name": "stdout",
     "output_type": "stream",
     "text": [
      "              precision    recall  f1-score   support\n",
      "\n",
      "           0       0.93      0.92      0.92     11675\n",
      "           1       0.94      0.94      0.94     14301\n",
      "\n",
      "    accuracy                           0.93     25976\n",
      "   macro avg       0.93      0.93      0.93     25976\n",
      "weighted avg       0.93      0.93      0.93     25976\n",
      "\n"
     ]
    },
    {
     "data": {
      "text/plain": [
       "0.9309136765416893"
      ]
     },
     "execution_count": 104,
     "metadata": {},
     "output_type": "execute_result"
    },
    {
     "data": {
      "image/png": "[encoded data removed]",
      "text/plain": [
       "<Figure size 432x288 with 2 Axes>"
      ]
     },
     "metadata": {
      "needs_background": "light"
     },
     "output_type": "display_data"
    }
   ],
   "source": [
    "print(classification_report(y_test, predict_dt))\n",
    "plot_confusion_matrix(model_dt, X_test, y_test)\n",
    "roc_auc_score(y_test, predict_dt)"
   ]
  },
  {
   "cell_type": "markdown",
   "id": "09c0437f",
   "metadata": {},
   "source": [
    "**Decision Tree 2: Gridsearch all**"
   ]
  },
  {
   "cell_type": "code",
   "execution_count": 105,
   "id": "c3ca9033",
   "metadata": {},
   "outputs": [
    {
     "name": "stdout",
     "output_type": "stream",
     "text": [
      "Fitting 2 folds for each of 304 candidates, totalling 608 fits\n"
     ]
    },
    {
     "data": {
      "text/plain": [
       "DecisionTreeClassifier(criterion='entropy', max_depth=13, min_samples_leaf=2,\n",
       "                       random_state=42)"
      ]
     },
     "execution_count": 105,
     "metadata": {},
     "output_type": "execute_result"
    }
   ],
   "source": [
    "model_dt_grid = DecisionTreeClassifier(random_state=42)\n",
    "\n",
    "\n",
    "Grid = {'criterion': [\"gini\", \"entropy\"],\n",
    "        'max_depth': range(1, 20),\n",
    "        'min_samples_leaf': range(2,10),\n",
    "        }\n",
    "\n",
    "\n",
    "search_dt = GridSearchCV (estimator=model_dt_grid,\n",
    "                         param_grid = grid,\n",
    "                         n_jobs=8,\n",
    "                         cv=2,\n",
    "                         verbose=1,\n",
    "                         return_train_score=True)\n",
    "\n",
    "search_dt.fit(X_train, y_gs_train)\n",
    "\n",
    "search_dt.best_estimator_"
   ]
  },
  {
   "cell_type": "code",
   "execution_count": 106,
   "id": "1376eab1",
   "metadata": {},
   "outputs": [],
   "source": [
    "model_dt_gs= DecisionTreeClassifier (criterion='entropy', max_depth=13, min_samples_leaf=2, random_state=42)\n",
    "\n",
    "model_dt_gs.fit(X_train, y_gs_train)\n",
    "predict_dt_gs = model_dt_gs.predict(X_test)"
   ]
  },
  {
   "cell_type": "code",
   "execution_count": 107,
   "id": "06222fe0",
   "metadata": {},
   "outputs": [
    {
     "name": "stdout",
     "output_type": "stream",
     "text": [
      "              precision    recall  f1-score   support\n",
      "\n",
      "           0       0.93      0.95      0.94     11675\n",
      "           1       0.96      0.94      0.95     14301\n",
      "\n",
      "    accuracy                           0.94     25976\n",
      "   macro avg       0.94      0.94      0.94     25976\n",
      "weighted avg       0.94      0.94      0.94     25976\n",
      "\n"
     ]
    },
    {
     "data": {
      "text/plain": [
       "0.9435885302939988"
      ]
     },
     "execution_count": 107,
     "metadata": {},
     "output_type": "execute_result"
    },
    {
     "data": {
      "image/png": "[encoded data removed]",
      "text/plain": [
       "<Figure size 432x288 with 2 Axes>"
      ]
     },
     "metadata": {
      "needs_background": "light"
     },
     "output_type": "display_data"
    }
   ],
   "source": [
    "print(classification_report(y_gs_test, predict_dt_gs))\n",
    "plot_confusion_matrix(model_dt_gs, X_test, y_gs_test)\n",
    "roc_auc_score(y_gs_test, predict_dt_gs)"
   ]
  },
  {
   "cell_type": "markdown",
   "id": "312f9fda",
   "metadata": {},
   "source": [
    "**Decision Tree 3: Gridsearch + top11**"
   ]
  },
  {
   "cell_type": "code",
   "execution_count": 108,
   "id": "13aad07f",
   "metadata": {},
   "outputs": [
    {
     "name": "stdout",
     "output_type": "stream",
     "text": [
      "Fitting 2 folds for each of 304 candidates, totalling 608 fits\n"
     ]
    },
    {
     "data": {
      "text/plain": [
       "DecisionTreeClassifier(criterion='entropy', max_depth=13, min_samples_leaf=9,\n",
       "                       random_state=42)"
      ]
     },
     "execution_count": 108,
     "metadata": {},
     "output_type": "execute_result"
    }
   ],
   "source": [
    "model_dt_grid11 = DecisionTreeClassifier(random_state=42)\n",
    "\n",
    "\n",
    "Grid = {'criterion': [\"gini\", \"entropy\"],\n",
    "        'max_depth': range(1, 20),\n",
    "        'min_samples_leaf': range(2,10),\n",
    "        }\n",
    "\n",
    "\n",
    "search_dt = GridSearchCV (estimator=model_dt_grid11,\n",
    "                         param_grid = grid,\n",
    "                         n_jobs=8,\n",
    "                         cv=2,\n",
    "                         verbose=1,\n",
    "                         return_train_score=True)\n",
    "\n",
    "search_dt.fit(X_top11_train, y_gs_train)\n",
    "\n",
    "search_dt.best_estimator_"
   ]
  },
  {
   "cell_type": "code",
   "execution_count": 109,
   "id": "33c13aa0",
   "metadata": {},
   "outputs": [],
   "source": [
    "model_dt_gs11= DecisionTreeClassifier(criterion='entropy', max_depth=13, min_samples_leaf=9,random_state=42)\n",
    "\n",
    "model_dt_gs11.fit(X_top11_train, y_gs_train)\n",
    "predict_dt_gs11 = model_dt_gs11.predict(X_top11_test)"
   ]
  },
  {
   "cell_type": "code",
   "execution_count": 110,
   "id": "9118d19f",
   "metadata": {},
   "outputs": [
    {
     "name": "stdout",
     "output_type": "stream",
     "text": [
      "              precision    recall  f1-score   support\n",
      "\n",
      "           0       0.90      0.90      0.90     11675\n",
      "           1       0.92      0.92      0.92     14301\n",
      "\n",
      "    accuracy                           0.91     25976\n",
      "   macro avg       0.91      0.91      0.91     25976\n",
      "weighted avg       0.91      0.91      0.91     25976\n",
      "\n"
     ]
    },
    {
     "data": {
      "text/plain": [
       "0.9118902992213749"
      ]
     },
     "execution_count": 110,
     "metadata": {},
     "output_type": "execute_result"
    },
    {
     "data": {
      "image/png": "[encoded data removed]",
      "text/plain": [
       "<Figure size 432x288 with 2 Axes>"
      ]
     },
     "metadata": {
      "needs_background": "light"
     },
     "output_type": "display_data"
    }
   ],
   "source": [
    "print(classification_report(y_gs_test, predict_dt_gs11))\n",
    "plot_confusion_matrix(model_dt_gs11, X_top11_test, y_gs_test)\n",
    "roc_auc_score(y_gs_test, predict_dt_gs11)"
   ]
  },
  {
   "cell_type": "markdown",
   "id": "255a2dea",
   "metadata": {},
   "source": [
    "**Decision Tree 4: Gridsearch + top6**"
   ]
  },
  {
   "cell_type": "code",
   "execution_count": 111,
   "id": "0d7ad500",
   "metadata": {},
   "outputs": [
    {
     "name": "stdout",
     "output_type": "stream",
     "text": [
      "Fitting 2 folds for each of 304 candidates, totalling 608 fits\n"
     ]
    },
    {
     "data": {
      "text/plain": [
       "DecisionTreeClassifier(max_depth=16, min_samples_leaf=3, random_state=42)"
      ]
     },
     "execution_count": 111,
     "metadata": {},
     "output_type": "execute_result"
    }
   ],
   "source": [
    "model_dt_grid6 = DecisionTreeClassifier(random_state=42)\n",
    "\n",
    "\n",
    "Grid = {'criterion': [\"gini\", \"entropy\"],\n",
    "        'max_depth': range(1, 20),\n",
    "        'min_samples_leaf': range(2,10),\n",
    "        }\n",
    "\n",
    "\n",
    "search_dt = GridSearchCV (estimator=model_dt_grid6,\n",
    "                         param_grid = grid,\n",
    "                         n_jobs=8,\n",
    "                         cv=2,\n",
    "                         verbose=1,\n",
    "                         return_train_score=True)\n",
    "\n",
    "search_dt.fit(X_top6_train, y_gs_train)\n",
    "\n",
    "search_dt.best_estimator_"
   ]
  },
  {
   "cell_type": "code",
   "execution_count": 112,
   "id": "ae46486f",
   "metadata": {},
   "outputs": [],
   "source": [
    "model_dt_gs6= DecisionTreeClassifier (max_depth=16, min_samples_leaf=3,random_state=42)\n",
    "\n",
    "model_dt_gs6.fit(X_top6_train, y_gs_train)\n",
    "predict_dt_gs6 = model_dt_gs6.predict(X_top6_test)"
   ]
  },
  {
   "cell_type": "code",
   "execution_count": 113,
   "id": "01b2e149",
   "metadata": {},
   "outputs": [
    {
     "name": "stdout",
     "output_type": "stream",
     "text": [
      "              precision    recall  f1-score   support\n",
      "\n",
      "           0       0.89      0.88      0.88     11675\n",
      "           1       0.90      0.91      0.91     14301\n",
      "\n",
      "    accuracy                           0.90     25976\n",
      "   macro avg       0.90      0.89      0.90     25976\n",
      "weighted avg       0.90      0.90      0.90     25976\n",
      "\n"
     ]
    },
    {
     "data": {
      "text/plain": [
       "0.8949368330062422"
      ]
     },
     "execution_count": 113,
     "metadata": {},
     "output_type": "execute_result"
    },
    {
     "data": {
      "image/png": "[encoded data removed]",
      "text/plain": [
       "<Figure size 432x288 with 2 Axes>"
      ]
     },
     "metadata": {
      "needs_background": "light"
     },
     "output_type": "display_data"
    }
   ],
   "source": [
    "print(classification_report(y_gs_test, predict_dt_gs6))\n",
    "plot_confusion_matrix(model_dt_gs6, X_top6_test, y_gs_test)\n",
    "roc_auc_score(y_gs_test, predict_dt_gs6)"
   ]
  },
  {
   "cell_type": "markdown",
   "id": "f6642d23",
   "metadata": {},
   "source": [
    "Let's talk about the result: **ROC-AUC Score**"
   ]
  },
  {
   "cell_type": "code",
   "execution_count": 114,
   "id": "b03843ee",
   "metadata": {},
   "outputs": [],
   "source": [
    "ROC_AUC = {'Algorithms':['Logistic Regression', 'Random Forest', 'Decision Tree'],\n",
    "              '1. Base':[(roc_auc_score(y_test, predict_lr)), (roc_auc_score(y_test, predict_rf)),\n",
    "                         (roc_auc_score(y_test, predict_dt))],\n",
    "              '2. Grid all':[(roc_auc_score(y_gs_test, predict_lr2)), (roc_auc_score(y_gs_test, predict_rf_grid)),\n",
    "                             (roc_auc_score(y_gs_test, predict_dt_gs))],\n",
    "              '3. Grid 11':[(roc_auc_score(y_gs_test, predict_lr3)), (roc_auc_score(y_gs_test, predict_rf_grid11)),\n",
    "                             (roc_auc_score(y_gs_test, predict_dt_gs11))],\n",
    "              '4. Grid 6':[(roc_auc_score(y_gs_test, predict_lr4)), (roc_auc_score(y_gs_test, predict_rf_grid6)),\n",
    "                           (roc_auc_score(y_gs_test, predict_dt_gs6))]}"
   ]
  },
  {
   "cell_type": "code",
   "execution_count": 115,
   "id": "5164c0c9",
   "metadata": {},
   "outputs": [
    {
     "data": {
      "text/html": [
       "<div>\n",
       "<style scoped>\n",
       "    .dataframe tbody tr th:only-of-type {\n",
       "        vertical-align: middle;\n",
       "    }\n",
       "\n",
       "    .dataframe tbody tr th {\n",
       "        vertical-align: top;\n",
       "    }\n",
       "\n",
       "    .dataframe thead th {\n",
       "        text-align: right;\n",
       "    }\n",
       "</style>\n",
       "<table border=\"1\" class=\"dataframe\">\n",
       "  <thead>\n",
       "    <tr style=\"text-align: right;\">\n",
       "      <th></th>\n",
       "      <th>Algorithms</th>\n",
       "      <th>1. Base</th>\n",
       "      <th>2. Grid all</th>\n",
       "      <th>3. Grid 11</th>\n",
       "      <th>4. Grid 6</th>\n",
       "    </tr>\n",
       "  </thead>\n",
       "  <tbody>\n",
       "    <tr>\n",
       "      <th>0</th>\n",
       "      <td>Logistic Regression</td>\n",
       "      <td>0.817084</td>\n",
       "      <td>0.789527</td>\n",
       "      <td>0.819203</td>\n",
       "      <td>0.808258</td>\n",
       "    </tr>\n",
       "    <tr>\n",
       "      <th>1</th>\n",
       "      <td>Random Forest</td>\n",
       "      <td>0.955032</td>\n",
       "      <td>0.953222</td>\n",
       "      <td>0.923102</td>\n",
       "      <td>0.895559</td>\n",
       "    </tr>\n",
       "    <tr>\n",
       "      <th>2</th>\n",
       "      <td>Decision Tree</td>\n",
       "      <td>0.930914</td>\n",
       "      <td>0.943589</td>\n",
       "      <td>0.911890</td>\n",
       "      <td>0.894937</td>\n",
       "    </tr>\n",
       "  </tbody>\n",
       "</table>\n",
       "</div>"
      ],
      "text/plain": [
       "            Algorithms   1. Base  2. Grid all  3. Grid 11  4. Grid 6\n",
       "0  Logistic Regression  0.817084     0.789527    0.819203   0.808258\n",
       "1        Random Forest  0.955032     0.953222    0.923102   0.895559\n",
       "2        Decision Tree  0.930914     0.943589    0.911890   0.894937"
      ]
     },
     "execution_count": 115,
     "metadata": {},
     "output_type": "execute_result"
    }
   ],
   "source": [
    "ROC_AUC_score = pd.DataFrame(ROC_AUC)\n",
    "ROC_AUC_score"
   ]
  },
  {
   "cell_type": "code",
   "execution_count": 117,
   "id": "95248047",
   "metadata": {},
   "outputs": [
    {
     "data": {
      "image/png": "[encoded data removed]",
      "text/plain": [
       "<Figure size 432x288 with 1 Axes>"
      ]
     },
     "metadata": {},
     "output_type": "display_data"
    }
   ],
   "source": [
    "from sklearn.metrics import roc_curve\n",
    "plt.style.use('fivethirtyeight')\n",
    "\n",
    "rf_fpr, rf_tpr, _ = roc_curve(y_gs_test, predict_rf_grid)\n",
    "\n",
    "# plot the roc curve for the model\n",
    "\n",
    "plt.plot(rf_fpr, rf_tpr, marker='.', label='Random Forests')\n",
    "\n",
    "# axis labels\n",
    "plt.xlabel('False Positive Rate')\n",
    "plt.ylabel('True Positive Rate')\n",
    "\n",
    "# show the legend\n",
    "plt.legend()\n",
    "\n",
    "# show the plot\n",
    "plt.show()"
   ]
  },
  {
   "cell_type": "markdown",
   "id": "013148e5",
   "metadata": {},
   "source": [
    "Based on the ROC_AUC Score above, the best model is **Random Forest with GridsearchCV using all features**"
   ]
  },
  {
   "cell_type": "markdown",
   "id": "55e186ca",
   "metadata": {},
   "source": [
    "The most important service factors that contribute to passengers' satisfaction are **Inflight entertainment** and **Seat comfort**"
   ]
  }
 ],
 "metadata": {
  "kernelspec": {
   "display_name": "Python 3",
   "language": "python",
   "name": "python3"
  },
  "language_info": {
   "codemirror_mode": {
    "name": "ipython",
    "version": 3
   },
   "file_extension": ".py",
   "mimetype": "text/x-python",
   "name": "python",
   "nbconvert_exporter": "python",
   "pygments_lexer": "ipython3",
   "version": "3.8.8"
  },
  "widgets": {
   "application/vnd.jupyter.widget-state+json": {
    "state": {},
    "version_major": 2,
    "version_minor": 0
   }
  }
 },
 "nbformat": 4,
 "nbformat_minor": 5
}
